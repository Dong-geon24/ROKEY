{
  "cells": [
    {
      "cell_type": "markdown",
      "metadata": {
        "id": "nmq_ohyPB_im"
      },
      "source": [
        "# 답안 작성 방법\n",
        "\n",
        "아래 이미지에서 \"더블클릭 또는 Enter키를 눌러 수정\"을 누르신후 해당 창에 답을 적으시면 됩니다.\n",
        "\n",
        "![image](https://github.com/user-attachments/assets/2aa2ff05-fb0e-4f00-a121-78afeaad4f09)\n",
        "\n",
        "<br>\n",
        "<br>\n",
        "<br>\n",
        "<br>\n",
        "<br>\n",
        "<br>\n",
        "<br>\n",
        "<br>\n",
        "<br>"
      ]
    },
    {
      "cell_type": "markdown",
      "metadata": {
        "id": "JiAFUXF2DadY"
      },
      "source": [
        "# 07차시 과제"
      ]
    },
    {
      "cell_type": "markdown",
      "metadata": {},
      "source": [
        "### Q1. 길이가 5인 1차원 텐서를 만들어 보세요. 이 텐서의 모든 원소는 1로 초기화되어야 합니다."
      ]
    },
    {
      "cell_type": "code",
      "execution_count": 9,
      "metadata": {},
      "outputs": [
        {
          "data": {
            "text/plain": [
              "tensor([1., 1., 1., 1., 1.])"
            ]
          },
          "execution_count": 9,
          "metadata": {},
          "output_type": "execute_result"
        }
      ],
      "source": [
        "import torch\n",
        "\n",
        "torch.ones(5)"
      ]
    },
    {
      "cell_type": "markdown",
      "metadata": {},
      "source": [
        "### Q2. 3x3 크기의 2차원 텐서를 생성하고, 모든 원소를 0으로 초기화하세요."
      ]
    },
    {
      "cell_type": "code",
      "execution_count": 10,
      "metadata": {},
      "outputs": [
        {
          "data": {
            "text/plain": [
              "tensor([[0., 0., 0.],\n",
              "        [0., 0., 0.],\n",
              "        [0., 0., 0.]])"
            ]
          },
          "execution_count": 10,
          "metadata": {},
          "output_type": "execute_result"
        }
      ],
      "source": [
        "torch.zeros(3,3)"
      ]
    },
    {
      "cell_type": "markdown",
      "metadata": {},
      "source": [
        "### Q3. 두 개의 텐서 a와 b를 만들어 각각 2x2 크기로 초기화하고, 이 두 텐서를 더해보세요"
      ]
    },
    {
      "cell_type": "code",
      "execution_count": 11,
      "metadata": {},
      "outputs": [
        {
          "data": {
            "text/plain": [
              "tensor([[2., 2.],\n",
              "        [2., 2.]])"
            ]
          },
          "execution_count": 11,
          "metadata": {},
          "output_type": "execute_result"
        }
      ],
      "source": [
        "a = torch.ones(2,2)\n",
        "b = torch.ones(2,2)\n",
        "a+b"
      ]
    },
    {
      "cell_type": "markdown",
      "metadata": {},
      "source": [
        "### Q4. 다음은 PyTorch를 사용하여 자동 미분을 수행하려는 코드이다. 그러나 코드에는 오류가 있다. 해당 오류를 수정하여 올바르게 자동 미분을 수행하라.\n"
      ]
    },
    {
      "cell_type": "code",
      "execution_count": 20,
      "metadata": {},
      "outputs": [
        {
          "data": {
            "text/plain": [
              "tensor([4., 5., 6.])"
            ]
          },
          "execution_count": 20,
          "metadata": {},
          "output_type": "execute_result"
        }
      ],
      "source": [
        "import torch\n",
        "\n",
        "x = torch.tensor([1, 2, 3],dtype=torch.float32,requires_grad=True)\n",
        "y = torch.tensor([4, 5, 6],dtype=torch.float32)\n",
        "\n",
        "z = torch.sum(x * y)\n",
        "\n",
        "loss = z\n",
        "\n",
        "loss.backward()\n",
        "x.grad"
      ]
    },
    {
      "cell_type": "markdown",
      "metadata": {},
      "source": [
        "### Q5. torch의 zero_grad 함수는 무엇이며, 어떠한 역할을 하는가? 그리고 만약 zero_grad를 호출하지 않으면 어떤 문제가 발생하는가?"
      ]
    },
    {
      "cell_type": "markdown",
      "metadata": {},
      "source": [
        "기울기에 새로운 기울기를 누적시켜서 학습을 진행하는데 zero_grad는 이 새로운 기울기가 기존 기울기의 영향을 안받도록 초기화한다."
      ]
    },
    {
      "cell_type": "markdown",
      "metadata": {},
      "source": [
        "### Q6. torch의 MSE함수를 이용하여 제공된 두 텐서(A, B)의 mean square error를 구하시오."
      ]
    },
    {
      "cell_type": "code",
      "execution_count": 22,
      "metadata": {},
      "outputs": [
        {
          "name": "stdout",
          "output_type": "stream",
          "text": [
            "tensor(16.)\n"
          ]
        }
      ],
      "source": [
        "A = torch.tensor([[1, 2], [3, 4]],dtype=torch.float32)\n",
        "B = torch.tensor([[5, 6], [7, 8]],dtype=torch.float32)\n",
        "\n",
        "# MSE Loss\n",
        "\n",
        "loss = torch.nn.MSELoss()(A, B)\n",
        "# Write your code here\n",
        "print(loss)"
      ]
    },
    {
      "cell_type": "markdown",
      "metadata": {},
      "source": [
        "### Q7.  K-means 클러스터링이 무엇이고, 각 알고리즘의 주요 단계들을 설명하라."
      ]
    },
    {
      "cell_type": "markdown",
      "metadata": {},
      "source": [
        "비지도학습의 기법중 하나로 주어진 데이터셋을 K개의 군집으로 나누는 것이다."
      ]
    },
    {
      "cell_type": "markdown",
      "metadata": {},
      "source": [
        "<pre>\n",
        "군집 중심 초기화: K개의 중심을 임의로 설정.\n",
        "데이터 포인트 할당: 각 데이터 포인트를 가장 가까운 중심에 할당.\n",
        "군집 중심 업데이트: 각 군집 내 데이터 포인트들의 평균을 계산하여 중심을 이동.\n",
        "반복: 군집 중심이 더 이상 변화하지 않을 때까지 2, 3단계를 반복.\n",
        "결과 출력: 최종 군집 결과 도출.\n",
        "</pre>"
      ]
    }
  ],
  "metadata": {
    "colab": {
      "provenance": []
    },
    "kernelspec": {
      "display_name": "Python 3",
      "name": "python3"
    },
    "language_info": {
      "codemirror_mode": {
        "name": "ipython",
        "version": 3
      },
      "file_extension": ".py",
      "mimetype": "text/x-python",
      "name": "python",
      "nbconvert_exporter": "python",
      "pygments_lexer": "ipython3",
      "version": "3.10.12"
    }
  },
  "nbformat": 4,
  "nbformat_minor": 0
}
