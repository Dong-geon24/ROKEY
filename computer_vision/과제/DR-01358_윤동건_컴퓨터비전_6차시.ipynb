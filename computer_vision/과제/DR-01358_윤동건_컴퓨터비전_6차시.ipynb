{
  "cells": [
    {
      "cell_type": "markdown",
      "metadata": {
        "id": "nmq_ohyPB_im"
      },
      "source": [
        "# 답안 작성 방법\n",
        "\n",
        "아래 이미지에서 \"더블클릭 또는 Enter키를 눌러 수정\"을 누르신후 해당 창에 답을 적으시면 됩니다.\n",
        "\n",
        "![image](https://github.com/user-attachments/assets/2aa2ff05-fb0e-4f00-a121-78afeaad4f09)\n",
        "\n",
        "<br>\n",
        "<br>\n",
        "<br>\n",
        "<br>\n",
        "<br>\n",
        "<br>\n",
        "<br>\n",
        "<br>\n",
        "<br>"
      ]
    },
    {
      "cell_type": "markdown",
      "metadata": {
        "id": "JiAFUXF2DadY"
      },
      "source": [
        "# 06차시 과제"
      ]
    },
    {
      "cell_type": "markdown",
      "metadata": {},
      "source": [
        "### Q1. \"Data\"와 \"Information\"의 차이를 정의하고, 그 차이를 설명하는 예시를 하나 들어 설명하시오."
      ]
    },
    {
      "cell_type": "markdown",
      "metadata": {},
      "source": [
        "데이터는 현상으로 부터 얻어진 수치이고 그 수치에서 얻은 의미가 정보이다.\n",
        "붓꽃의 데이터는 수치이고 특정 수치로 판단하는 붓꽃의 종류는 정보이다."
      ]
    },
    {
      "cell_type": "markdown",
      "metadata": {},
      "source": [
        "### Q2. 다음 중 Data에 대한 설명으로 옳은 것을 고르시오.\n",
        "\n",
        "1. 데이터를 특정 맥락에서 처리하여 얻어진 의미 있는 내용이다.\n",
        "2. 가공되지 않은 원시적인 사실이나 숫자, 관찰된 값이다.\n",
        "3. 특정 상황에서 의사 결정을 돕기 위해 사용되는 해석된 자료이다.\n",
        "4. 정보를 해석한 후 얻어진 데이터이다.\n",
        "\n"
      ]
    },
    {
      "cell_type": "markdown",
      "metadata": {},
      "source": [
        "2"
      ]
    },
    {
      "cell_type": "markdown",
      "metadata": {},
      "source": [
        "### Q3. 다음 중 Information에 해당하는 것을 고르시오.\n",
        "\n",
        "1. 25\n",
        "2. \"고객의 평균 연령은 25세입니다.\"\n",
        "3. \"파란색\"\n",
        "4. 2024년 1월 1일\n",
        "\n"
      ]
    },
    {
      "cell_type": "markdown",
      "metadata": {},
      "source": [
        "2"
      ]
    },
    {
      "cell_type": "markdown",
      "metadata": {},
      "source": [
        "### Q4. 원-핫 인코딩이 무엇이고 왜 사용하는지 서술하시오."
      ]
    },
    {
      "cell_type": "markdown",
      "metadata": {},
      "source": [
        "범주형 변수를 이진데이터로 변환하는 것이며, 딥러닝을 수행하기 위해 데이터를 가공하는 것이다."
      ]
    },
    {
      "cell_type": "markdown",
      "metadata": {},
      "source": [
        "### Q5. Sofmax가 무엇인지 정의하고, 어떠한 상황에서 주로 사용되는지 설명하시오."
      ]
    },
    {
      "cell_type": "markdown",
      "metadata": {},
      "source": [
        "소프트맥스는 다중 분류문제에서 사용하는 활성화함수이다."
      ]
    },
    {
      "cell_type": "markdown",
      "metadata": {},
      "source": [
        "### Q6. 아래 제공된 벡터 x가 softmax를 통과하면 어떻게 변하는지 구하시오.\n",
        "\n",
        "$$\n",
        "\n",
        "    x = [1,2,3,4]\n",
        "\n",
        "$$"
      ]
    },
    {
      "cell_type": "code",
      "execution_count": 4,
      "metadata": {},
      "outputs": [
        {
          "name": "stdout",
          "output_type": "stream",
          "text": [
            "tensor([0.0321, 0.0871, 0.2369, 0.6439])\n"
          ]
        }
      ],
      "source": [
        "import torch\n",
        "x = torch.tensor([1,2,3,4],dtype=torch.float32)\n",
        "softmax_model = torch.nn.functional.softmax(x,dim=0)\n",
        "print(softmax_model)"
      ]
    },
    {
      "cell_type": "markdown",
      "metadata": {},
      "source": [
        "### Q7. Cost function이 무엇이고 언제 무엇을 위해 사용하는지에 대해 서술하시오."
      ]
    },
    {
      "cell_type": "markdown",
      "metadata": {},
      "source": [
        "오차를 계산하는 함수이고, 이를 최적화하여 가중치와 편향을 조정한다."
      ]
    },
    {
      "cell_type": "markdown",
      "metadata": {},
      "source": [
        "### Q8. 지도학습과 비지도학습의 차이점에 대해 서술하시오."
      ]
    },
    {
      "cell_type": "markdown",
      "metadata": {},
      "source": [
        "개와 고양이의 사진이 섞여있을때 지도학습은 데이터에 정답을 줘서 특정 사진이 개인지 고양인지 판별하게 학습시키는 것이다.\n",
        "비지도학습은 개나 고양이의 특징을 모아서 비슷한거끼리 분류한다. 결과적으로 개사진,고양이 사진으로 분류할 것이다."
      ]
    }
  ],
  "metadata": {
    "colab": {
      "provenance": []
    },
    "kernelspec": {
      "display_name": "Python 3",
      "name": "python3"
    },
    "language_info": {
      "codemirror_mode": {
        "name": "ipython",
        "version": 3
      },
      "file_extension": ".py",
      "mimetype": "text/x-python",
      "name": "python",
      "nbconvert_exporter": "python",
      "pygments_lexer": "ipython3",
      "version": "3.10.12"
    }
  },
  "nbformat": 4,
  "nbformat_minor": 0
}
