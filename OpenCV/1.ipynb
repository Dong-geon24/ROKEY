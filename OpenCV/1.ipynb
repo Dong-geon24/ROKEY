{
 "cells": [
  {
   "cell_type": "code",
   "execution_count": 1,
   "metadata": {},
   "outputs": [
    {
     "data": {
      "text/plain": [
       "'4.8.0'"
      ]
     },
     "execution_count": 1,
     "metadata": {},
     "output_type": "execute_result"
    }
   ],
   "source": [
    "import cv2\n",
    "cv2.__version__"
   ]
  },
  {
   "cell_type": "code",
   "execution_count": 2,
   "metadata": {},
   "outputs": [
    {
     "name": "stdout",
     "output_type": "stream",
     "text": [
      "Cloning into 'insightbook.opencv_project_python'...\n",
      "remote: Enumerating objects: 469, done.\u001b[K\n",
      "remote: Counting objects: 100% (80/80), done.\u001b[K\n",
      "remote: Compressing objects: 100% (64/64), done.\u001b[K\n",
      "remote: Total 469 (delta 23), reused 38 (delta 16), pack-reused 389 (from 1)\u001b[K\n",
      "Receiving objects: 100% (469/469), 30.72 MiB | 20.23 MiB/s, done.\n",
      "Resolving deltas: 100% (39/39), done.\n"
     ]
    }
   ],
   "source": [
    "!git clone https://github.com/dltpdn/insightbook.opencv_project_python"
   ]
  },
  {
   "cell_type": "code",
   "execution_count": 1,
   "metadata": {},
   "outputs": [
    {
     "name": "stdout",
     "output_type": "stream",
     "text": [
      "/home/donggeonyoon/rocky/OpenCV/insightbook.opencv_project_python/img\n"
     ]
    }
   ],
   "source": [
    "%cd ./insightbook.opencv_project_python/img"
   ]
  },
  {
   "cell_type": "markdown",
   "metadata": {},
   "source": [
    "##### (1)../img/girl.jpg에서 이미지 읽어서 표시 (칼라, 그레이스케일)"
   ]
  },
  {
   "cell_type": "code",
   "execution_count": 2,
   "metadata": {},
   "outputs": [
    {
     "name": "stdout",
     "output_type": "stream",
     "text": [
      "(293, 406, 3) \n",
      " (293, 406)\n",
      "(293, 406, 3) \n",
      " (293, 406, 3)\n"
     ]
    }
   ],
   "source": [
    "import cv2\n",
    "import numpy as np\n",
    "\n",
    "img_file = \"./girl.jpg\"\n",
    "img1 = cv2.imread(img_file)\n",
    "img2 = cv2.imread(img_file,cv2.IMREAD_GRAYSCALE)\n",
    "print(img1.shape, '\\n',img2.shape)\n",
    "img2 = cv2.cvtColor(img2,cv2.COLOR_GRAY2BGR)\n",
    "print(img1.shape, '\\n',img2.shape)\n",
    "\n",
    "if img1 is not None or img2 is not None:\n",
    "    img = np.hstack((img1,img2))\n",
    "    cv2.imshow(\"IMG\",img)\n",
    "    cv2.waitKey()\n",
    "    cv2.destroyAllWindows()\n",
    "else:\n",
    "    print('No image file')"
   ]
  },
  {
   "cell_type": "markdown",
   "metadata": {},
   "source": [
    "#### (2)이미지를 그레이스케일로 변환, 'OpenCV/실습'에 저장"
   ]
  },
  {
   "cell_type": "code",
   "execution_count": 3,
   "metadata": {},
   "outputs": [
    {
     "name": "stdout",
     "output_type": "stream",
     "text": [
      "Save success !\n"
     ]
    }
   ],
   "source": [
    "import cv2\n",
    "img_file = \"./girl.jpg\"\n",
    "img = cv2.imread(img_file, cv2.IMREAD_GRAYSCALE)\n",
    "\n",
    "if img is not None:\n",
    "    cv2.imwrite(\"../../실습/girl_gray.jpg\", img)\n",
    "    print(\"Save success !\")\n",
    "else:\n",
    "    print(\"No image file\")"
   ]
  },
  {
   "cell_type": "markdown",
   "metadata": {},
   "source": [
    "#### (3)비디오 파일 재생하기"
   ]
  },
  {
   "cell_type": "code",
   "execution_count": 3,
   "metadata": {},
   "outputs": [],
   "source": [
    "import cv2\n",
    "\n",
    "video_file = \"./big_buck.avi\"\n",
    "cap = cv2.VideoCapture(video_file)\n",
    "\n",
    "if cap.isOpened():\n",
    "    fps = cap.get(cv2.CAP_PROP_FPS)\n",
    "    delay = int(1000/fps)\n",
    "    \n",
    "    while True:\n",
    "        ret,img = cap.read()\n",
    "        if ret:\n",
    "            cv2.imshow(\"video\",img)\n",
    "            # cv2.waitKey(delay)\n",
    "            if cv2.waitKey(1) != -1:\n",
    "                break\n",
    "        else:\n",
    "            break\n",
    "else:\n",
    "    print(\"Can't open file\")\n",
    "cap.release()\n",
    "cv2.destroyAllWindows()"
   ]
  },
  {
   "cell_type": "code",
   "execution_count": 12,
   "metadata": {},
   "outputs": [],
   "source": [
    "import cv2\n",
    "\n",
    "cap = cv2.VideoCapture(0)\n",
    "if cap.isOpened():\n",
    "    while True:\n",
    "        ret,img = cap.read()\n",
    "        if ret:\n",
    "            cv2.imshow('webcam',img)\n",
    "            if cv2.waitKey(1) != -1: #아무것도 안눌릴때 -1\n",
    "                break\n",
    "        else:\n",
    "            print('no frame')\n",
    "            break\n",
    "else:\n",
    "    print(\"Can't open Webcam\")\n",
    "cap.release()\n",
    "cv2.destroyAllWindows()"
   ]
  },
  {
   "cell_type": "markdown",
   "metadata": {},
   "source": [
    "#### (3) 비디오 RESIZE"
   ]
  },
  {
   "cell_type": "code",
   "execution_count": 15,
   "metadata": {},
   "outputs": [
    {
     "name": "stdout",
     "output_type": "stream",
     "text": [
      "width: 640.0, height: 480.0\n",
      "re_width: 320.0, re_height: 240.0\n"
     ]
    }
   ],
   "source": [
    "import cv2\n",
    "\n",
    "cap = cv2.VideoCapture(0)\n",
    "width = cap.get(cv2.CAP_PROP_FRAME_WIDTH)\n",
    "height = cap.get(cv2.CAP_PROP_FRAME_HEIGHT)\n",
    "print(f\"width: {width}, height: {height}\")\n",
    "\n",
    "cap.set(cv2.CAP_PROP_FRAME_WIDTH,320) \n",
    "cap.set(cv2.CAP_PROP_FRAME_HEIGHT,240)\n",
    "re_width = cap.get(cv2.CAP_PROP_FRAME_WIDTH)\n",
    "re_height = cap.get(cv2.CAP_PROP_FRAME_HEIGHT)\n",
    "print(f\"re_width: {re_width}, re_height: {re_height}\")\n",
    "\n",
    "if cap.isOpened():\n",
    "    while True:\n",
    "        ret, img = cap.read()\n",
    "        if ret:\n",
    "            cv2.imshow('aa',img)a\n",
    "            if cv2.waitKey(1) != -1:\n",
    "                break\n",
    "        else:\n",
    "            print('no Frame')\n",
    "            break\n",
    "else:\n",
    "    print(\"Can't open camera\")            \n",
    "cap.release()\n",
    "cv2.destroyAllWindows()\n"
   ]
  },
  {
   "cell_type": "markdown",
   "metadata": {},
   "source": [
    "#### (4)이미지 저장"
   ]
  },
  {
   "cell_type": "code",
   "execution_count": 3,
   "metadata": {},
   "outputs": [],
   "source": [
    "import cv2\n",
    "cap = cv2.VideoCapture(0)\n",
    "if cap.isOpened():\n",
    "    while True:\n",
    "        ret,img = cap.read()\n",
    "        if ret:\n",
    "            cv2.imshow('camera',img)\n",
    "            if cv2.waitKey(1) != -1:\n",
    "                cv2.imwrite('capture.jpg',img)\n",
    "                break\n",
    "        else:\n",
    "            print('no frame')\n",
    "            break\n",
    "else:\n",
    "    print('no')\n",
    "cap.release()  \n",
    "cv2.destroyAllWindows()"
   ]
  },
  {
   "cell_type": "markdown",
   "metadata": {},
   "source": [
    "#### (5)선그리기"
   ]
  },
  {
   "cell_type": "code",
   "execution_count": 5,
   "metadata": {},
   "outputs": [
    {
     "name": "stdout",
     "output_type": "stream",
     "text": [
      "/home/donggeonyoon/rocky/OpenCV/insightbook.opencv_project_python/img\n"
     ]
    }
   ],
   "source": [
    "!pwd"
   ]
  },
  {
   "cell_type": "code",
   "execution_count": null,
   "metadata": {},
   "outputs": [],
   "source": []
  },
  {
   "cell_type": "code",
   "execution_count": 7,
   "metadata": {},
   "outputs": [
    {
     "name": "stdout",
     "output_type": "stream",
     "text": [
      "(500, 500, 3)\n"
     ]
    }
   ],
   "source": [
    "import cv2\n",
    "\n",
    "img = cv2.imread('./blank_500.jpg')\n",
    "print(img.shape)\n",
    "\n",
    "cv2.line(img,(0,0),(500,500),(0,0,255),2)\n",
    "\n",
    "cv2.line(img, (100, 350), (400, 400), (0,0,255), 20, cv2.LINE_4)\n",
    "# 8연결 선\n",
    "cv2.line(img, (100, 400), (400, 450), (0,0,255), 20, cv2.LINE_8)\n",
    "# 안티에일리어싱 선\n",
    "cv2.line(img, (100, 450), (400, 500), (0,0,255), 20, cv2.LINE_AA)\n",
    "cv2.imshow('img',img)\n",
    "cv2.waitKey(10000)\n",
    "cv2.destroyAllWindows()\n"
   ]
  },
  {
   "cell_type": "markdown",
   "metadata": {},
   "source": [
    "#### (6)사각형"
   ]
  },
  {
   "cell_type": "code",
   "execution_count": 18,
   "metadata": {},
   "outputs": [],
   "source": [
    "import cv2\n",
    "\n",
    "img = cv2.imread('./blank_500.jpg')\n",
    "\n",
    "cv2.rectangle(img,(10,10),(450,450),(0,0,255),-1)\n",
    "cv2.imshow('img',img)\n",
    "cv2.waitKey(10000)\n",
    "cv2.destroyAllWindows()"
   ]
  },
  {
   "cell_type": "markdown",
   "metadata": {},
   "source": [
    "#### (7)삼각형"
   ]
  },
  {
   "cell_type": "code",
   "execution_count": 17,
   "metadata": {},
   "outputs": [],
   "source": [
    "import cv2\n",
    "import numpy as np\n",
    "\n",
    "img = cv2.imread('./blank_500.jpg')\n",
    "pts = np.array([[50,50],[100,100],[60,20]],dtype=np.int32)\n",
    "\n",
    "cv2.polylines(img,[pts] ,True,(0,0,255))\n",
    "cv2.imshow('img',img)\n",
    "cv2.waitKey(10000)\n",
    "cv2.destroyAllWindows()"
   ]
  },
  {
   "cell_type": "markdown",
   "metadata": {},
   "source": [
    "#### (8)원,타원"
   ]
  },
  {
   "cell_type": "code",
   "execution_count": 19,
   "metadata": {},
   "outputs": [],
   "source": [
    "import cv2\n",
    "import numpy as np\n",
    "\n",
    "img = cv2.imread('./blank_500.jpg')\n",
    "cv2.circle(img,(250,250),50,(0,0,255),3)\n",
    "cv2.ellipse(img,(250,250),(50,100),0,0,360,(0,0,255),2)\n",
    "cv2.ellipse(img,(250,250),(100,50),0,0,360,(0,0,255),2)\n",
    "\n",
    "cv2.imshow('img',img)\n",
    "cv2.waitKey(10000)\n",
    "cv2.destroyAllWindows()"
   ]
  },
  {
   "cell_type": "code",
   "execution_count": 7,
   "metadata": {},
   "outputs": [
    {
     "name": "stdout",
     "output_type": "stream",
     "text": [
      "/home/donggeonyoon/rocky/OpenCV/insightbook.opencv_project_python/img\n"
     ]
    }
   ],
   "source": [
    "!pwd"
   ]
  },
  {
   "cell_type": "markdown",
   "metadata": {},
   "source": [
    "#### (9) 글씨"
   ]
  },
  {
   "cell_type": "code",
   "execution_count": 20,
   "metadata": {},
   "outputs": [],
   "source": [
    "import cv2\n",
    "img = cv2.imread('./blank_500.jpg')\n",
    "cv2.putText(img,'hello',(250,250),cv2.FONT_HERSHEY_COMPLEX,2,(255,20,100))\n",
    "cv2.imshow('img',img)\n",
    "cv2.waitKey(5000)\n",
    "cv2.destroyAllWindows()"
   ]
  },
  {
   "cell_type": "markdown",
   "metadata": {},
   "source": [
    "#### (10)키보드입력 event"
   ]
  },
  {
   "cell_type": "code",
   "execution_count": 5,
   "metadata": {},
   "outputs": [
    {
     "name": "stdout",
     "output_type": "stream",
     "text": [
      "108 l\n",
      "108 l\n",
      "108 l\n",
      "108 l\n",
      "108 l\n",
      "108 l\n",
      "108 l\n",
      "113 q\n"
     ]
    }
   ],
   "source": [
    "import cv2\n",
    "\n",
    "img_file = \"../img/girl.jpg\" \n",
    "img = cv2.imread(img_file) \n",
    "title = 'IMG'                   # 창 이름 \n",
    "x, y = 100, 100                 # 최초 좌표\n",
    "\n",
    "while True:\n",
    "    cv2.imshow(title, img)\n",
    "    cv2.moveWindow(title, x, y)\n",
    "    key = cv2.waitKey(0) & 0xFF # 키보드 입력을 무한 대기, 8비트 마스크처리\n",
    "    print(key, chr(key))        # 키보드 입력 값,  문자 값 출력\n",
    "    if key == ord('h'):         # 'h' 키 이면 좌로 이동\n",
    "        x -= 10\n",
    "    elif key == ord('j'):       # 'j' 키 이면 아래로 이동\n",
    "        y += 10\n",
    "    elif key == ord('k'):       # 'k' 키 이면 위로 이동\n",
    "        y -= 10\n",
    "    elif key == ord('l'):       # 'l' 키 이면 오른쪽으로 이동\n",
    "        x += 10\n",
    "    elif key == ord('q') or key == 27: # 'q' 이거나 'esc' 이면 종료\n",
    "        break\n",
    "cv2.destroyAllWindows()\n",
    "        \n"
   ]
  },
  {
   "cell_type": "markdown",
   "metadata": {},
   "source": [
    "#### (11) 마우스 이벤트"
   ]
  },
  {
   "cell_type": "code",
   "execution_count": 21,
   "metadata": {},
   "outputs": [
    {
     "name": "stdout",
     "output_type": "stream",
     "text": [
      "0 242 1\n",
      "0 241 3\n",
      "0 240 7\n",
      "0 237 11\n",
      "0 235 15\n",
      "0 233 18\n",
      "0 232 20\n",
      "0 231 21\n",
      "0 231 23\n",
      "0 230 24\n",
      "0 229 24\n",
      "0 226 27\n",
      "0 224 29\n",
      "0 224 30\n",
      "0 221 31\n",
      "0 220 35\n",
      "0 218 36\n",
      "0 217 37\n",
      "0 216 40\n",
      "0 215 41\n",
      "0 214 42\n",
      "0 214 43\n",
      "0 214 44\n",
      "0 211 46\n",
      "0 209 50\n",
      "0 206 54\n",
      "0 201 59\n",
      "0 198 63\n",
      "0 196 66\n",
      "0 191 72\n",
      "0 188 75\n",
      "0 186 79\n",
      "0 183 83\n",
      "0 181 86\n",
      "0 180 88\n",
      "0 179 90\n",
      "0 178 91\n",
      "0 178 92\n",
      "0 177 93\n",
      "0 176 94\n",
      "0 174 96\n",
      "0 173 97\n",
      "0 173 98\n",
      "0 172 99\n",
      "0 171 100\n",
      "0 170 101\n",
      "0 169 102\n",
      "0 169 103\n",
      "2 169 103\n",
      "5 169 103\n",
      "0 170 103\n",
      "0 173 103\n",
      "0 182 103\n",
      "0 193 103\n",
      "0 196 103\n",
      "0 200 103\n",
      "0 201 103\n",
      "0 202 103\n",
      "0 203 103\n",
      "0 205 103\n",
      "0 210 103\n",
      "0 215 105\n",
      "0 219 105\n",
      "0 220 105\n",
      "0 221 106\n",
      "0 222 106\n",
      "0 224 106\n",
      "0 224 107\n",
      "0 224 109\n",
      "0 222 112\n",
      "0 221 114\n",
      "0 217 118\n",
      "0 214 121\n",
      "0 212 125\n",
      "0 205 131\n",
      "0 195 139\n",
      "0 190 145\n",
      "0 183 151\n",
      "0 180 155\n",
      "0 178 157\n",
      "0 175 158\n",
      "0 175 159\n",
      "1 175 159\n",
      "0 174 159\n",
      "4 174 159\n",
      "0 175 159\n",
      "0 178 156\n",
      "0 187 156\n",
      "0 208 158\n",
      "0 227 158\n",
      "0 253 160\n",
      "0 285 163\n",
      "0 314 166\n",
      "0 342 166\n",
      "0 360 166\n",
      "0 361 166\n",
      "0 361 167\n",
      "0 361 168\n",
      "0 361 169\n",
      "1 361 169\n",
      "4 361 169\n",
      "0 361 170\n",
      "0 359 174\n",
      "0 353 188\n",
      "0 343 207\n",
      "0 333 228\n",
      "0 320 252\n",
      "0 305 282\n",
      "0 290 308\n",
      "0 279 330\n",
      "0 269 347\n",
      "0 257 364\n",
      "0 248 376\n",
      "0 242 385\n",
      "0 237 389\n",
      "0 236 390\n",
      "0 235 391\n",
      "1 235 391\n",
      "4 235 391\n",
      "0 234 391\n",
      "0 227 391\n",
      "0 215 391\n",
      "0 210 391\n",
      "0 204 391\n",
      "0 198 388\n",
      "0 192 386\n",
      "0 187 383\n",
      "0 181 377\n",
      "0 171 371\n",
      "0 166 366\n",
      "0 164 364\n",
      "0 162 361\n",
      "0 161 355\n",
      "0 161 349\n",
      "0 161 345\n",
      "0 156 339\n",
      "0 155 334\n",
      "0 154 331\n",
      "0 154 330\n",
      "0 154 329\n",
      "0 154 328\n",
      "0 154 327\n",
      "1 154 327\n",
      "0 154 326\n",
      "0 154 325\n",
      "4 154 325\n",
      "0 157 324\n",
      "0 166 321\n",
      "0 183 317\n",
      "0 206 314\n",
      "0 241 311\n",
      "0 286 308\n",
      "0 331 305\n",
      "0 382 298\n",
      "0 430 295\n",
      "0 475 292\n",
      "0 147 400\n",
      "0 146 398\n",
      "0 146 396\n",
      "0 142 396\n",
      "0 133 396\n",
      "0 120 396\n",
      "0 109 396\n",
      "0 97 396\n",
      "0 86 396\n",
      "0 79 396\n",
      "0 71 396\n",
      "0 64 396\n",
      "0 60 396\n",
      "0 59 396\n",
      "0 59 396\n",
      "0 64 393\n",
      "0 70 388\n",
      "0 77 385\n",
      "0 88 377\n",
      "0 102 368\n",
      "0 121 356\n",
      "0 150 342\n",
      "0 191 320\n",
      "0 233 300\n",
      "0 268 284\n",
      "0 291 276\n",
      "0 297 272\n",
      "0 298 269\n",
      "0 297 265\n",
      "0 295 258\n",
      "0 290 243\n",
      "0 288 224\n",
      "0 288 205\n",
      "0 293 179\n",
      "0 299 151\n",
      "0 302 127\n",
      "0 307 103\n",
      "0 309 83\n",
      "0 312 64\n",
      "0 314 51\n",
      "0 314 40\n",
      "0 314 37\n",
      "0 314 33\n",
      "0 314 29\n",
      "0 314 27\n",
      "0 314 25\n",
      "0 314 23\n",
      "0 314 19\n",
      "0 315 15\n",
      "0 315 11\n",
      "0 317 4\n",
      "0 383 1\n",
      "0 395 8\n",
      "0 411 16\n",
      "0 425 26\n",
      "0 438 34\n",
      "0 451 46\n",
      "0 465 59\n",
      "0 480 74\n",
      "0 497 91\n",
      "0 309 479\n",
      "0 294 452\n",
      "0 279 423\n",
      "0 265 396\n",
      "0 254 374\n",
      "0 240 344\n",
      "0 233 314\n",
      "0 231 299\n",
      "0 231 284\n",
      "0 231 265\n",
      "0 231 250\n",
      "0 231 237\n",
      "0 231 217\n",
      "0 231 214\n",
      "1 231 214\n",
      "0 231 212\n",
      "4 231 212\n",
      "0 231 214\n",
      "0 231 216\n",
      "0 232 218\n",
      "0 232 222\n",
      "0 233 224\n",
      "0 233 225\n",
      "0 234 224\n",
      "0 236 221\n",
      "0 241 208\n",
      "0 251 189\n",
      "0 264 168\n",
      "0 277 146\n",
      "0 290 128\n",
      "0 297 114\n",
      "0 303 104\n",
      "0 309 97\n",
      "0 315 90\n",
      "0 319 83\n",
      "0 325 76\n",
      "0 329 72\n",
      "0 331 70\n",
      "0 335 65\n",
      "0 335 64\n",
      "0 336 63\n",
      "0 337 62\n",
      "0 341 59\n",
      "0 346 55\n",
      "0 355 52\n",
      "0 364 46\n",
      "0 374 40\n",
      "0 383 39\n",
      "0 392 33\n",
      "0 399 28\n",
      "0 406 22\n",
      "0 409 20\n",
      "0 413 17\n",
      "0 418 10\n",
      "0 419 8\n",
      "0 425 2\n"
     ]
    }
   ],
   "source": [
    "import cv2\n",
    "img = cv2.imread('./img/blank_500.jpg')\n",
    "title = 'img'\n",
    "cv2.imshow(title,img)\n",
    "\n",
    "def onMouse(event,x,y,flags,param):\n",
    "    print(event,x,y,)\n",
    "    if event == cv2.EVENT_LBUTTONDOWN:\n",
    "        cv2.circle(img,(x,y),30,(0,0,255),-1)\n",
    "        cv2.imshow(title,img)\n",
    "cv2.setMouseCallback(title,onMouse)\n",
    "\n",
    "while True:\n",
    "    if cv2.waitKey() == 27:\n",
    "        break\n",
    "cv2.destroyAllWindows()\n",
    "\n"
   ]
  },
  {
   "cell_type": "markdown",
   "metadata": {},
   "source": [
    "#### (12)트랙바"
   ]
  },
  {
   "cell_type": "code",
   "execution_count": 3,
   "metadata": {},
   "outputs": [
    {
     "name": "stdout",
     "output_type": "stream",
     "text": [
      "255 -1 -1\n",
      "255 255 -1\n",
      "255 255 255\n"
     ]
    },
    {
     "name": "stderr",
     "output_type": "stream",
     "text": [
      "/tmp/ipykernel_284391/1497443945.py:12: DeprecationWarning: NumPy will stop allowing conversion of out-of-bound Python integers to integer arrays.  The conversion of -1 to uint8 will fail in the future.\n",
      "For the old behavior, usually:\n",
      "    np.array(value).astype(dtype)\n",
      "will give the desired result (the cast overflows).\n",
      "  img[:] = [b,g,r]\n"
     ]
    },
    {
     "name": "stdout",
     "output_type": "stream",
     "text": [
      "254 255 255\n",
      "253 255 255\n",
      "251 255 255\n",
      "247 255 255\n",
      "242 255 255\n",
      "236 255 255\n",
      "218 255 255\n",
      "208 255 255\n",
      "199 255 255\n",
      "195 255 255\n",
      "192 255 255\n",
      "190 255 255\n",
      "189 255 255\n",
      "186 255 255\n",
      "179 255 255\n",
      "175 255 255\n",
      "173 255 255\n",
      "171 255 255\n",
      "167 255 255\n",
      "162 255 255\n",
      "157 255 255\n",
      "153 255 255\n",
      "150 255 255\n",
      "148 255 255\n",
      "145 255 255\n",
      "142 255 255\n",
      "139 255 255\n",
      "136 255 255\n",
      "135 255 255\n",
      "131 255 255\n",
      "128 255 255\n",
      "125 255 255\n",
      "122 255 255\n",
      "120 255 255\n",
      "118 255 255\n",
      "117 255 255\n",
      "116 255 255\n",
      "116 254 255\n",
      "116 253 255\n",
      "116 243 255\n",
      "116 228 255\n",
      "116 214 255\n",
      "116 203 255\n",
      "116 198 255\n",
      "116 197 255\n",
      "116 194 255\n",
      "116 187 255\n",
      "116 167 255\n",
      "116 148 255\n",
      "116 139 255\n",
      "116 133 255\n",
      "116 131 255\n",
      "116 130 255\n"
     ]
    }
   ],
   "source": [
    "import cv2\n",
    "\n",
    "win_name = 'trackbar'\n",
    "img = cv2.imread('./blank_500.jpg')\n",
    "cv2.imshow(win_name,img)\n",
    "\n",
    "def onChange(x):\n",
    "    r = cv2.getTrackbarPos('R',win_name)\n",
    "    g = cv2.getTrackbarPos('G',win_name)\n",
    "    b = cv2.getTrackbarPos('B',win_name)\n",
    "    print(r,g,b)\n",
    "    img[:] = [b,g,r]\n",
    "    cv2.imshow(win_name,img)\n",
    "\n",
    "# 트랙바 생성    --- ⑤\n",
    "cv2.createTrackbar('R', win_name, 255, 255, onChange)\n",
    "cv2.createTrackbar('G', win_name, 255, 255, onChange)\n",
    "cv2.createTrackbar('B', win_name, 255, 255, onChange)\n",
    "\n",
    "while True:\n",
    "    if cv2.waitKey(1) ==27:\n",
    "        break\n",
    "cv2.destroyAllWindows()"
   ]
  },
  {
   "cell_type": "code",
   "execution_count": 22,
   "metadata": {},
   "outputs": [],
   "source": [
    "import cv2\n",
    "import numpy as np\n",
    "\n",
    "img = cv2.imread('../img/morph_dot.png')\n",
    "\n",
    "# 구조화 요소 커널, 사각형 (3x3) 생성 ---①\n",
    "k = cv2.getStructuringElement(cv2.MORPH_RECT, (3,3))\n",
    "# 침식 연산 적용 ---②\n",
    "erosion = cv2.erode(img, k)\n",
    "\n",
    "# 결과 출력\n",
    "merged = np.hstack((img, erosion))\n",
    "cv2.imshow('Erode', merged)\n",
    "# cv2_imshow(merged)\n",
    "cv2.waitKey(0)\n",
    "cv2.destroyAllWindows()"
   ]
  }
 ],
 "metadata": {
  "kernelspec": {
   "display_name": "Python 3",
   "language": "python",
   "name": "python3"
  },
  "language_info": {
   "codemirror_mode": {
    "name": "ipython",
    "version": 3
   },
   "file_extension": ".py",
   "mimetype": "text/x-python",
   "name": "python",
   "nbconvert_exporter": "python",
   "pygments_lexer": "ipython3",
   "version": "3.10.12"
  }
 },
 "nbformat": 4,
 "nbformat_minor": 2
}
