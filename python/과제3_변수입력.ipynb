{
 "cells": [
  {
   "cell_type": "markdown",
   "metadata": {},
   "source": [
    "<pre> \n",
    "문제14)\n",
    "- 커피 원두 100g의 가격이 10000원\n",
    "- 커피 원두는 최소 200g부터 구매할 수 있고, 100g 단위로 구매 가능\n",
    "- 200g, 300g, 400g을 구매할 때의 가격을 화면에 출력\n",
    "(요구 사항)\n",
    "- 변수에 커피 원두 100g의 가격을 저장한 루, 산술 연산을 통해 200, 300, 400g의 가격을 산출해서 출력\n",
    "- 화면 출력 내용은 다음 형태로 처리\n",
    " \n",
    "커피 원두 200g 가격: 20000원\n",
    "커피 원두 300g 가격: 30000원\n",
    "커피 원두 400g 가격: 40000원\n",
    "</pre>"
   ]
  },
  {
   "cell_type": "code",
   "execution_count": 2,
   "metadata": {},
   "outputs": [
    {
     "name": "stdout",
     "output_type": "stream",
     "text": [
      "커피 원두 200g 가격: 20000\n",
      "커피 원두 300g 가격: 30000\n",
      "커피 원두 400g 가격: 40000\n"
     ]
    }
   ],
   "source": [
    "커피원두_100g = 10000\n",
    "커피원두_200g = 커피원두_100g*2\n",
    "커피원두_300g = 커피원두_100g*3\n",
    "커피원두_400g = 커피원두_100g*4\n",
    "\n",
    "print(f'커피 원두 200g 가격: {커피원두_200g}')\n",
    "print(f'커피 원두 300g 가격: {커피원두_300g}')\n",
    "print(f'커피 원두 400g 가격: {커피원두_400g}')"
   ]
  },
  {
   "cell_type": "markdown",
   "metadata": {},
   "source": [
    "<pre>\n",
    "문제15) 문제는 문제14와 동일함. 단, 요구 사항이 다름.\n",
    " \n",
    "(요구 사항)\n",
    "- 변수에 커피 원두 100g의 가격을 저장한 후, 복합 연산을 통해 100g의 단가를 차례대로 더해서 200, 300, 400g의 가격을 출력\n",
    "- 화면 출력 내용은 문제 24와 동일함.\n",
    "</pre>"
   ]
  },
  {
   "cell_type": "markdown",
   "metadata": {},
   "source": [
    "<pre>\n",
    "문제16) '2022년 아카데미 영화제 작품상은 \"코다\"가 받았다'라는 문장에서 연도와 작품 이름을 바꿀 수 있게 서식을 활용해서 출력하는 코드를 작성하고, 다음 표에 있는 값으로 바꿔 출력하는 코드를 작성\n",
    "     연도        영화 제목\n",
    "     2020         기생충\n",
    "     2021      노매드랜드\n",
    "     2022          코다\n",
    "</pre>"
   ]
  },
  {
   "cell_type": "markdown",
   "metadata": {},
   "source": [
    " \n",
    "<pre>\n",
    "문제17) 문제14에서 사용한 공식을 이용해서 원두 200g과 300g의 가격을 화면에 출력하시오.\n",
    "(요구 사항)\n",
    "- 커피 무게를 weight라는 변수에 저장 후 산술 연산식과 print() 명령문에서 사용\n",
    "- 커피 무게와 가격을 형식 지정자를 이용해서 치환\n",
    "</pre>"
   ]
  },
  {
   "cell_type": "code",
   "execution_count": 1,
   "metadata": {},
   "outputs": [
    {
     "name": "stdout",
     "output_type": "stream",
     "text": [
      "   world   \n",
      "***world***\n",
      "1,234,567,890\n",
      "2,343,552.652\n"
     ]
    }
   ],
   "source": [
    "hello = 'world'\n",
    "print(f\"{hello:^11}\")\n",
    "print(f\"{hello:*^11}\")\n",
    "big_num = 1234567890\n",
    "print(f\"{big_num:,}\")\n",
    "num = 2343552.6516251625\n",
    "print(f\"{num:,.3f}\")\n"
   ]
  }
 ],
 "metadata": {
  "kernelspec": {
   "display_name": "Python 3",
   "language": "python",
   "name": "python3"
  },
  "language_info": {
   "codemirror_mode": {
    "name": "ipython",
    "version": 3
   },
   "file_extension": ".py",
   "mimetype": "text/x-python",
   "name": "python",
   "nbconvert_exporter": "python",
   "pygments_lexer": "ipython3",
   "version": "3.10.12"
  }
 },
 "nbformat": 4,
 "nbformat_minor": 2
}
