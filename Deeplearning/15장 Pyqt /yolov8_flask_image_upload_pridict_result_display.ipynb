{
  "cells": [
    {
      "cell_type": "code",
      "execution_count": null,
      "metadata": {
        "colab": {
          "base_uri": "https://localhost:8080/"
        },
        "id": "XXAUX_EJ-mFu",
        "outputId": "eee8a832-6cf1-48ab-d7e5-dea567f5c57b"
      },
      "outputs": [
        {
          "name": "stdout",
          "output_type": "stream",
          "text": [
            "Collecting ultralytics\n",
            "  Downloading ultralytics-8.2.2-py3-none-any.whl (750 kB)\n",
            "\u001b[2K     \u001b[90m━━━━━━━━━━━━━━━━━━━━━━━━━━━━━━━━━━━━━━━━\u001b[0m \u001b[32m750.8/750.8 kB\u001b[0m \u001b[31m3.8 MB/s\u001b[0m eta \u001b[36m0:00:00\u001b[0m\n",
            "\u001b[?25hRequirement already satisfied: matplotlib>=3.3.0 in /usr/local/lib/python3.10/dist-packages (from ultralytics) (3.7.1)\n",
            "Requirement already satisfied: opencv-python>=4.6.0 in /usr/local/lib/python3.10/dist-packages (from ultralytics) (4.8.0.76)\n",
            "Requirement already satisfied: pillow>=7.1.2 in /usr/local/lib/python3.10/dist-packages (from ultralytics) (9.4.0)\n",
            "Requirement already satisfied: pyyaml>=5.3.1 in /usr/local/lib/python3.10/dist-packages (from ultralytics) (6.0.1)\n",
            "Requirement already satisfied: requests>=2.23.0 in /usr/local/lib/python3.10/dist-packages (from ultralytics) (2.31.0)\n",
            "Requirement already satisfied: scipy>=1.4.1 in /usr/local/lib/python3.10/dist-packages (from ultralytics) (1.11.4)\n",
            "Requirement already satisfied: torch>=1.8.0 in /usr/local/lib/python3.10/dist-packages (from ultralytics) (2.2.1+cu121)\n",
            "Requirement already satisfied: torchvision>=0.9.0 in /usr/local/lib/python3.10/dist-packages (from ultralytics) (0.17.1+cu121)\n",
            "Requirement already satisfied: tqdm>=4.64.0 in /usr/local/lib/python3.10/dist-packages (from ultralytics) (4.66.2)\n",
            "Requirement already satisfied: psutil in /usr/local/lib/python3.10/dist-packages (from ultralytics) (5.9.5)\n",
            "Requirement already satisfied: py-cpuinfo in /usr/local/lib/python3.10/dist-packages (from ultralytics) (9.0.0)\n",
            "Collecting thop>=0.1.1 (from ultralytics)\n",
            "  Downloading thop-0.1.1.post2209072238-py3-none-any.whl (15 kB)\n",
            "Requirement already satisfied: pandas>=1.1.4 in /usr/local/lib/python3.10/dist-packages (from ultralytics) (2.0.3)\n",
            "Requirement already satisfied: seaborn>=0.11.0 in /usr/local/lib/python3.10/dist-packages (from ultralytics) (0.13.1)\n",
            "Requirement already satisfied: contourpy>=1.0.1 in /usr/local/lib/python3.10/dist-packages (from matplotlib>=3.3.0->ultralytics) (1.2.1)\n",
            "Requirement already satisfied: cycler>=0.10 in /usr/local/lib/python3.10/dist-packages (from matplotlib>=3.3.0->ultralytics) (0.12.1)\n",
            "Requirement already satisfied: fonttools>=4.22.0 in /usr/local/lib/python3.10/dist-packages (from matplotlib>=3.3.0->ultralytics) (4.51.0)\n",
            "Requirement already satisfied: kiwisolver>=1.0.1 in /usr/local/lib/python3.10/dist-packages (from matplotlib>=3.3.0->ultralytics) (1.4.5)\n",
            "Requirement already satisfied: numpy>=1.20 in /usr/local/lib/python3.10/dist-packages (from matplotlib>=3.3.0->ultralytics) (1.25.2)\n",
            "Requirement already satisfied: packaging>=20.0 in /usr/local/lib/python3.10/dist-packages (from matplotlib>=3.3.0->ultralytics) (24.0)\n",
            "Requirement already satisfied: pyparsing>=2.3.1 in /usr/local/lib/python3.10/dist-packages (from matplotlib>=3.3.0->ultralytics) (3.1.2)\n",
            "Requirement already satisfied: python-dateutil>=2.7 in /usr/local/lib/python3.10/dist-packages (from matplotlib>=3.3.0->ultralytics) (2.8.2)\n",
            "Requirement already satisfied: pytz>=2020.1 in /usr/local/lib/python3.10/dist-packages (from pandas>=1.1.4->ultralytics) (2023.4)\n",
            "Requirement already satisfied: tzdata>=2022.1 in /usr/local/lib/python3.10/dist-packages (from pandas>=1.1.4->ultralytics) (2024.1)\n",
            "Requirement already satisfied: charset-normalizer<4,>=2 in /usr/local/lib/python3.10/dist-packages (from requests>=2.23.0->ultralytics) (3.3.2)\n",
            "Requirement already satisfied: idna<4,>=2.5 in /usr/local/lib/python3.10/dist-packages (from requests>=2.23.0->ultralytics) (3.7)\n",
            "Requirement already satisfied: urllib3<3,>=1.21.1 in /usr/local/lib/python3.10/dist-packages (from requests>=2.23.0->ultralytics) (2.0.7)\n",
            "Requirement already satisfied: certifi>=2017.4.17 in /usr/local/lib/python3.10/dist-packages (from requests>=2.23.0->ultralytics) (2024.2.2)\n",
            "Requirement already satisfied: filelock in /usr/local/lib/python3.10/dist-packages (from torch>=1.8.0->ultralytics) (3.13.4)\n",
            "Requirement already satisfied: typing-extensions>=4.8.0 in /usr/local/lib/python3.10/dist-packages (from torch>=1.8.0->ultralytics) (4.11.0)\n",
            "Requirement already satisfied: sympy in /usr/local/lib/python3.10/dist-packages (from torch>=1.8.0->ultralytics) (1.12)\n",
            "Requirement already satisfied: networkx in /usr/local/lib/python3.10/dist-packages (from torch>=1.8.0->ultralytics) (3.3)\n",
            "Requirement already satisfied: jinja2 in /usr/local/lib/python3.10/dist-packages (from torch>=1.8.0->ultralytics) (3.1.3)\n",
            "Requirement already satisfied: fsspec in /usr/local/lib/python3.10/dist-packages (from torch>=1.8.0->ultralytics) (2023.6.0)\n",
            "Collecting nvidia-cuda-nvrtc-cu12==12.1.105 (from torch>=1.8.0->ultralytics)\n",
            "  Using cached nvidia_cuda_nvrtc_cu12-12.1.105-py3-none-manylinux1_x86_64.whl (23.7 MB)\n",
            "Collecting nvidia-cuda-runtime-cu12==12.1.105 (from torch>=1.8.0->ultralytics)\n",
            "  Using cached nvidia_cuda_runtime_cu12-12.1.105-py3-none-manylinux1_x86_64.whl (823 kB)\n",
            "Collecting nvidia-cuda-cupti-cu12==12.1.105 (from torch>=1.8.0->ultralytics)\n",
            "  Using cached nvidia_cuda_cupti_cu12-12.1.105-py3-none-manylinux1_x86_64.whl (14.1 MB)\n",
            "Collecting nvidia-cudnn-cu12==8.9.2.26 (from torch>=1.8.0->ultralytics)\n",
            "  Using cached nvidia_cudnn_cu12-8.9.2.26-py3-none-manylinux1_x86_64.whl (731.7 MB)\n",
            "Collecting nvidia-cublas-cu12==12.1.3.1 (from torch>=1.8.0->ultralytics)\n",
            "  Using cached nvidia_cublas_cu12-12.1.3.1-py3-none-manylinux1_x86_64.whl (410.6 MB)\n",
            "Collecting nvidia-cufft-cu12==11.0.2.54 (from torch>=1.8.0->ultralytics)\n",
            "  Using cached nvidia_cufft_cu12-11.0.2.54-py3-none-manylinux1_x86_64.whl (121.6 MB)\n",
            "Collecting nvidia-curand-cu12==10.3.2.106 (from torch>=1.8.0->ultralytics)\n",
            "  Using cached nvidia_curand_cu12-10.3.2.106-py3-none-manylinux1_x86_64.whl (56.5 MB)\n",
            "Collecting nvidia-cusolver-cu12==11.4.5.107 (from torch>=1.8.0->ultralytics)\n",
            "  Using cached nvidia_cusolver_cu12-11.4.5.107-py3-none-manylinux1_x86_64.whl (124.2 MB)\n",
            "Collecting nvidia-cusparse-cu12==12.1.0.106 (from torch>=1.8.0->ultralytics)\n",
            "  Using cached nvidia_cusparse_cu12-12.1.0.106-py3-none-manylinux1_x86_64.whl (196.0 MB)\n",
            "Collecting nvidia-nccl-cu12==2.19.3 (from torch>=1.8.0->ultralytics)\n",
            "  Using cached nvidia_nccl_cu12-2.19.3-py3-none-manylinux1_x86_64.whl (166.0 MB)\n",
            "Collecting nvidia-nvtx-cu12==12.1.105 (from torch>=1.8.0->ultralytics)\n",
            "  Using cached nvidia_nvtx_cu12-12.1.105-py3-none-manylinux1_x86_64.whl (99 kB)\n",
            "Requirement already satisfied: triton==2.2.0 in /usr/local/lib/python3.10/dist-packages (from torch>=1.8.0->ultralytics) (2.2.0)\n",
            "Collecting nvidia-nvjitlink-cu12 (from nvidia-cusolver-cu12==11.4.5.107->torch>=1.8.0->ultralytics)\n",
            "  Using cached nvidia_nvjitlink_cu12-12.4.127-py3-none-manylinux2014_x86_64.whl (21.1 MB)\n",
            "Requirement already satisfied: six>=1.5 in /usr/local/lib/python3.10/dist-packages (from python-dateutil>=2.7->matplotlib>=3.3.0->ultralytics) (1.16.0)\n",
            "Requirement already satisfied: MarkupSafe>=2.0 in /usr/local/lib/python3.10/dist-packages (from jinja2->torch>=1.8.0->ultralytics) (2.1.5)\n",
            "Requirement already satisfied: mpmath>=0.19 in /usr/local/lib/python3.10/dist-packages (from sympy->torch>=1.8.0->ultralytics) (1.3.0)\n",
            "Installing collected packages: nvidia-nvtx-cu12, nvidia-nvjitlink-cu12, nvidia-nccl-cu12, nvidia-curand-cu12, nvidia-cufft-cu12, nvidia-cuda-runtime-cu12, nvidia-cuda-nvrtc-cu12, nvidia-cuda-cupti-cu12, nvidia-cublas-cu12, nvidia-cusparse-cu12, nvidia-cudnn-cu12, nvidia-cusolver-cu12, thop, ultralytics\n",
            "Successfully installed nvidia-cublas-cu12-12.1.3.1 nvidia-cuda-cupti-cu12-12.1.105 nvidia-cuda-nvrtc-cu12-12.1.105 nvidia-cuda-runtime-cu12-12.1.105 nvidia-cudnn-cu12-8.9.2.26 nvidia-cufft-cu12-11.0.2.54 nvidia-curand-cu12-10.3.2.106 nvidia-cusolver-cu12-11.4.5.107 nvidia-cusparse-cu12-12.1.0.106 nvidia-nccl-cu12-2.19.3 nvidia-nvjitlink-cu12-12.4.127 nvidia-nvtx-cu12-12.1.105 thop-0.1.1.post2209072238 ultralytics-8.2.2\n"
          ]
        }
      ],
      "source": [
        "!pip install ultralytics"
      ]
    },
    {
      "cell_type": "code",
      "execution_count": null,
      "metadata": {
        "id": "jXLDZOm3-6Rw"
      },
      "outputs": [],
      "source": [
        "!mkdir /content/flask_app"
      ]
    },
    {
      "cell_type": "code",
      "execution_count": null,
      "metadata": {
        "colab": {
          "base_uri": "https://localhost:8080/"
        },
        "id": "NZik5Pkn--VO",
        "outputId": "a2710540-1517-4687-e66d-a0bfc66ddb73"
      },
      "outputs": [
        {
          "name": "stdout",
          "output_type": "stream",
          "text": [
            "/content/flask_app\n"
          ]
        }
      ],
      "source": [
        "%cd /content/flask_app"
      ]
    },
    {
      "cell_type": "code",
      "execution_count": null,
      "metadata": {
        "colab": {
          "base_uri": "https://localhost:8080/",
          "height": 35
        },
        "id": "vSb9ozWi-R7k",
        "outputId": "0d937842-1722-4e74-f4c9-8f10ff62493d"
      },
      "outputs": [
        {
          "name": "stdout",
          "output_type": "stream",
          "text": [
            "https://nijt7curug-496ff2e9c6d22116-5000-colab.googleusercontent.com/\n"
          ]
        }
      ],
      "source": [
        "from google.colab.output import eval_js\n",
        "print(eval_js(\"google.colab.kernel.proxyPort(5000)\"))"
      ]
    },
    {
      "cell_type": "code",
      "execution_count": null,
      "metadata": {
        "colab": {
          "base_uri": "https://localhost:8080/"
        },
        "id": "yVY-KR3M-i9r",
        "outputId": "f0db20d0-1d91-487f-f1bd-2a5938fcab94"
      },
      "outputs": [
        {
          "name": "stdout",
          "output_type": "stream",
          "text": [
            "Writing app.py\n"
          ]
        }
      ],
      "source": [
        "%%writefile app.py\n",
        "\n",
        "from flask import Flask, render_template, request, send_file, Response\n",
        "import os\n",
        "import cv2\n",
        "from io import BytesIO\n",
        "import base64\n",
        "from ultralytics import YOLO\n",
        "import json\n",
        "\n",
        "model = YOLO('yolov8n.pt')\n",
        "\n",
        "\n",
        "app = Flask(__name__)\n",
        "\n",
        "# 업로드된 파일이 저장될 디렉토리 설정\n",
        "UPLOAD_FOLDER = 'uploads'\n",
        "app.config['UPLOAD_FOLDER'] = UPLOAD_FOLDER\n",
        "\n",
        "# 디렉토리가 없으면 생성\n",
        "os.makedirs(UPLOAD_FOLDER, exist_ok=True)\n",
        "\n",
        "def read_image(file_path):\n",
        "    # OpenCV로 이미지 읽기\n",
        "    img = cv2.imread(file_path)\n",
        "    return img\n",
        "\n",
        "def encode_image(img):\n",
        "    # OpenCV 이미지를 base64로 인코딩\n",
        "    _, buffer = cv2.imencode('.jpg', img)\n",
        "    img_str = base64.b64encode(buffer).decode('utf-8')\n",
        "    # print(img_str)\n",
        "    return img_str\n",
        "\n",
        "def predict(img):\n",
        "\n",
        "    results = model(img)     # call method\n",
        "\n",
        "    for result in results:\n",
        "\n",
        "        img_shape_list =[]\n",
        "        boxes_list = []\n",
        "        im0 = cv2.imencode('.jpg', result.plot())[1].tobytes()\n",
        "        img_str = base64.b64encode(im0).decode('utf-8')\n",
        "\n",
        "        orig_img_shape = result[0].orig_img.shape\n",
        "        orig_shape = result[0].orig_shape\n",
        "\n",
        "        img_shape_list.append({'orig_img_shape':orig_img_shape, 'orig_shape': orig_shape})\n",
        "\n",
        "        for boxes in results[0]:\n",
        "\n",
        "            boxes_cls = boxes.boxes.cls.tolist()\n",
        "            boxes_xywhn = boxes.boxes.xywhn.tolist()\n",
        "            boxes_xyxyn = boxes.boxes.xyxyn.tolist()\n",
        "\n",
        "            # boxes_list.append({'orig_img_shape':orig_img_shape, 'orig_shape': orig_shape,'boxes_cls':boxes_cls, 'boxes_xywhn':boxes_xywhn, 'boxes_xyxyn':boxes_xyxyn})\n",
        "            boxes_list.append({'boxes_cls':boxes_cls, 'boxes_xywhn':boxes_xywhn, 'boxes_xyxyn':boxes_xyxyn})\n",
        "            # print(boxes_list)\n",
        "\n",
        "\n",
        "        # yield (b'--frame\\r\\n'\n",
        "        #         b'Content-Type: image/jpeg\\r\\n\\r\\n' + im0 + b'\\r\\n')\n",
        "        return img_str, boxes_list, img_shape_list\n",
        "\n",
        "\n",
        "@app.route('/')\n",
        "def index():\n",
        "    return render_template('index.html')\n",
        "\n",
        "@app.route('/upload', methods=['POST'])\n",
        "def upload():\n",
        "    # HTML 폼에서 'file' 필드로 전송된 파일을 가져옴\n",
        "    file = request.files['file']\n",
        "\n",
        "    if file:\n",
        "        # 업로드된 파일을 저장할 경로 생성\n",
        "        filepath = os.path.join(app.config['UPLOAD_FOLDER'], file.filename)\n",
        "\n",
        "        # 파일이 존재하는지 확인\n",
        "        # if os.path.isfile(filepath):\n",
        "        #     return \"동일한 파일이 이미 존재합니다.\"\n",
        "\n",
        "        # 파일 저장\n",
        "        file.save(filepath)\n",
        "\n",
        "        # 이미지 파일을 OpenCV로 읽기\n",
        "        img = read_image(filepath)\n",
        "\n",
        "        # HTML에 전달할 base64로 인코딩된 이미지\n",
        "        img_str = encode_image(img)\n",
        "\n",
        "        predict_result =  predict(img)\n",
        "\n",
        "        # 이미지 파일 경로와 인코딩된 이미지를 HTML에 전달하여 표시\n",
        "        return render_template('uploaded.html', filepath=filepath, img_str=img_str, predictimg = predict_result[0], data=predict_result[1], shape=predict_result[2])\n",
        "        # return render_template('uploaded.html', filepath=filepath, img_str=img_str, predictimg = predict_result[0], data=predict_result[1])\n",
        "        # return render_template('uploaded.html', filepath=filepath, img_str=img_str, predictimg = predict_result)\n",
        "\n",
        "\n",
        "    return \"파일 업로드에 실패했습니다.\"\n",
        "\n",
        "\n",
        "if __name__ == '__main__':\n",
        "    # 서버 실행\n",
        "    app.run(debug=True)\n"
      ]
    },
    {
      "cell_type": "code",
      "execution_count": null,
      "metadata": {
        "id": "-YtCvCOAAsC3"
      },
      "outputs": [],
      "source": [
        "!mkdir /content/flask_app/templates"
      ]
    },
    {
      "cell_type": "code",
      "execution_count": null,
      "metadata": {
        "colab": {
          "base_uri": "https://localhost:8080/"
        },
        "id": "4Zt9xzBtAuiH",
        "outputId": "a0e002c9-a08e-4226-b0e4-c5be317e6678"
      },
      "outputs": [
        {
          "name": "stdout",
          "output_type": "stream",
          "text": [
            "/content/flask_app/templates\n"
          ]
        }
      ],
      "source": [
        "%cd /content/flask_app/templates"
      ]
    },
    {
      "cell_type": "code",
      "execution_count": null,
      "metadata": {
        "colab": {
          "base_uri": "https://localhost:8080/"
        },
        "id": "Sw7WkWQzAwmu",
        "outputId": "30c23cf5-6e80-4fdc-e9c2-622e5fa4a430"
      },
      "outputs": [
        {
          "name": "stdout",
          "output_type": "stream",
          "text": [
            "Writing index.html\n"
          ]
        }
      ],
      "source": [
        "%%writefile index.html\n",
        "<!DOCTYPE html>\n",
        "<html lang=\"en\">\n",
        "<head>\n",
        "    <meta charset=\"UTF-8\">\n",
        "    <meta name=\"viewport\" content=\"width=device-width, initial-scale=1.0\">\n",
        "    <title>이미지 입력, 출력 및 업로드 예제</title>\n",
        "</head>\n",
        "<body>\n",
        "\n",
        "    <h1>이미지 입력, 출력 및 업로드 예제</h1>\n",
        "\n",
        "    <!-- 이미지 입력 폼\n",
        "    <form id=\"imageForm\" action=\"/upload\" method=\"post\" enctype=\"multipart/form-data\">\n",
        "        <input type=\"file\" name=\"file\" accept=\"image/*\">\n",
        "        <input type=\"button\" value=\"이미지 출력\" onclick=\"displayImage()\">\n",
        "        <input type=\"submit\" value=\"업로드\">\n",
        "    </form>\n",
        "    -->\n",
        "\n",
        "    <form id=\"imageForm\" action=\"/upload\" method=\"post\" enctype=\"multipart/form-data\">\n",
        "        <input type=\"file\" id=\"file\" name=\"file\" accept=\"image/*\" onchange=\"displayImage()\">\n",
        "        <!--- input type=\"button\" value=\"이미지 출력\" onclick=\"displayImage()\" --->\n",
        "        <input type=\"submit\" value=\"predict\">\n",
        "    </form>\n",
        "    <!-- id   : id 속성은 해당 요소의 고유한 식별자(identifier)를 제공, javascript, css의 식별자\n",
        "         name : name 속성은 폼(form)을 서버로 제출할 때 해당 입력 필드의 이름을 나타냄,\n",
        "                서버 측에서는 이 이름을 사용하여 사용자가 입력한 데이터를 식별하고 처리함\n",
        "                여러 입력 필드가 한 폼 안에 있을 때, 각 입력 필드에 고유한 name을 부여하여 서버에서 구별-->\n",
        "\n",
        "\n",
        "    <!-- 선택된 이미지 출력 -->\n",
        "    <div id=\"outputContainer\">\n",
        "        <img id=\"selectedImage\" src=\"#\" alt=\"선택된 이미지\">\n",
        "    </div>\n",
        "\n",
        "    <script>\n",
        "        // 이미지 출력 함수\n",
        "        function displayImage() {\n",
        "            var input = document.querySelector('input[type=\"file\"]');\n",
        "            var selectedImage = document.getElementById('selectedImage');\n",
        "\n",
        "            if (input.files && input.files[0]) {\n",
        "                var reader = new FileReader();\n",
        "\n",
        "                reader.onload = function (e) {\n",
        "                    selectedImage.src = e.target.result;\n",
        "                };\n",
        "                reader.readAsDataURL(input.files[0]);\n",
        "            }\n",
        "        }\n",
        "    </script>\n",
        "\n",
        "</body>\n",
        "</html>"
      ]
    },
    {
      "cell_type": "markdown",
      "metadata": {
        "id": "qTyDTZkOdiUh"
      },
      "source": [
        "\n",
        "\n",
        "```\n",
        "        <input type=\"file\" name=\"file\" accept=\"image/*\">\n",
        "\n",
        "\n",
        "type=\"file\": 이 속성은 입력 필드의 타입을 나타냅니다. file 타입은 파일을 선택할 수 있는 파일 입력 필드를 생성합니다.\n",
        "\n",
        "name=\"file\": 이 속성은 입력 필드의 이름을 정의합니다. 서버에서 해당 이름을 사용하여 파일을 전송할 때 식별할 수 있습니다.\n",
        "\n",
        "accept=\"image/*\": 이 속성은 허용되는 파일의 종류를 지정합니다. 여기에서는 이미지 파일만 허용하도록 지정되어 있습니다. image/*는 모든 이미지 파일 형식을 허용합니다. 사용자는 파일 선택 창에서 이미지 파일만 선택할 수 있게 됩니다.\n",
        "```\n",
        "\n"
      ]
    },
    {
      "cell_type": "code",
      "execution_count": null,
      "metadata": {
        "colab": {
          "base_uri": "https://localhost:8080/"
        },
        "id": "mjUqbqYeAweF",
        "outputId": "d06b5ade-a46a-4562-8af7-59b8980ad10c"
      },
      "outputs": [
        {
          "name": "stdout",
          "output_type": "stream",
          "text": [
            "Writing uploaded.html\n"
          ]
        }
      ],
      "source": [
        "%%writefile uploaded.html\n",
        "\n",
        "<!DOCTYPE html>\n",
        "<html lang=\"en\">\n",
        "<head>\n",
        "    <meta charset=\"UTF-8\">\n",
        "    <meta name=\"viewport\" content=\"width=device-width, initial-scale=1.0\">\n",
        "    <title>업로드 완료</title>\n",
        "</head>\n",
        "<body>\n",
        "    <h1>업로드 완료</h1>\n",
        "    <img src=\"data:image/jpeg;base64,{{ img_str }}\" alt=\"Uploaded Image\"width=\"640\" height=\"480\"  >\n",
        "    <img src=\"data:image/jpeg;base64,{{ predictimg }}\" alt=\"Uploaded Image\" width=\"640\" height=\"480\" >\n",
        "\n",
        "    <br>\n",
        "    <a href=\"/\" class='btn'>go back</a>\n",
        "    <br>\n",
        "\n",
        "    {% for item in  shape %}\n",
        "    <li>orig_img_shape: {{ item.orig_img_shape }}</li>\n",
        "    <li>orig_shape: {{ item.orig_shape}}</li>\n",
        "    <br>\n",
        "    {% endfor %}\n",
        "\n",
        "    {% for item in  data %}\n",
        "\n",
        "        <li>boxes_cls: {{item.boxes_cls}}</li>\n",
        "        <li>boxes_xywhn: {{item.boxes_xywhn}}</li>\n",
        "        <li>boxes_xyxyn: {{ item.boxes_xyxyn }}</li>\n",
        "        <br>\n",
        "    {% endfor %}\n",
        "</body>\n",
        "</html>"
      ]
    },
    {
      "cell_type": "code",
      "execution_count": null,
      "metadata": {
        "colab": {
          "base_uri": "https://localhost:8080/"
        },
        "id": "RLeFXEmiBcIH",
        "outputId": "bca94d63-25ae-425c-8fd4-3b663ba69836"
      },
      "outputs": [
        {
          "name": "stdout",
          "output_type": "stream",
          "text": [
            "/content/flask_app\n"
          ]
        }
      ],
      "source": [
        "%cd .."
      ]
    },
    {
      "cell_type": "code",
      "execution_count": null,
      "metadata": {
        "colab": {
          "background_save": true,
          "base_uri": "https://localhost:8080/"
        },
        "id": "7oG36P_OBeUn",
        "outputId": "5b0afacd-f5cc-4993-86ac-6223976c49b4"
      },
      "outputs": [
        {
          "name": "stdout",
          "output_type": "stream",
          "text": [
            "Downloading https://github.com/ultralytics/assets/releases/download/v8.2.0/yolov8n.pt to 'yolov8n.pt'...\n",
            "100% 6.23M/6.23M [00:00<00:00, 75.9MB/s]\n",
            " * Debug mode: off\n",
            "\u001b[31m\u001b[1mWARNING: This is a development server. Do not use it in a production deployment. Use a production WSGI server instead.\u001b[0m\n",
            " * Running on http://127.0.0.1:5000\n",
            "\u001b[33mPress CTRL+C to quit\u001b[0m\n",
            "127.0.0.1 - - [23/Apr/2024 00:45:41] \"GET / HTTP/1.1\" 200 -\n",
            "127.0.0.1 - - [23/Apr/2024 00:45:41] \"GET / HTTP/1.1\" 200 -\n",
            "127.0.0.1 - - [23/Apr/2024 00:45:41] \"\u001b[33mGET /favicon.ico HTTP/1.1\u001b[0m\" 404 -\n",
            "\n",
            "0: 640x640 1 cat, 458.0ms\n",
            "Speed: 33.2ms preprocess, 458.0ms inference, 3018.9ms postprocess per image at shape (1, 3, 640, 640)\n",
            "127.0.0.1 - - [23/Apr/2024 00:46:02] \"POST /upload HTTP/1.1\" 200 -\n",
            "127.0.0.1 - - [23/Apr/2024 00:46:03] \"\u001b[33mGET /favicon.ico HTTP/1.1\u001b[0m\" 404 -\n"
          ]
        }
      ],
      "source": [
        "!flask run"
      ]
    }
  ],
  "metadata": {
    "colab": {
      "provenance": []
    },
    "kernelspec": {
      "display_name": "Python 3",
      "name": "python3"
    },
    "language_info": {
      "name": "python"
    }
  },
  "nbformat": 4,
  "nbformat_minor": 0
}