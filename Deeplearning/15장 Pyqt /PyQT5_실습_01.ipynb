{
  "cells": [
    {
      "cell_type": "code",
      "execution_count": 1,
      "metadata": {
        "colab": {
          "base_uri": "https://localhost:8080/",
          "height": 110
        },
        "id": "K3mapsSHknhQ",
        "outputId": "ace243e0-853f-472e-d04e-24adaf06b80e"
      },
      "outputs": [
        {
          "name": "stderr",
          "output_type": "stream",
          "text": [
            "Downloading...\n",
            "From: https://drive.google.com/uc?id=1nYC8lE8htkmeJ7GKT4iqoi5BZ2prefRW\n",
            "To: /home/arclab/ROCKY/Deeplearning/15장 Pyqt /PyQT5.zip\n",
            "100%|██████████| 537k/537k [00:00<00:00, 3.30MB/s]\n"
          ]
        },
        {
          "data": {
            "text/plain": [
              "'PyQT5.zip'"
            ]
          },
          "execution_count": 1,
          "metadata": {},
          "output_type": "execute_result"
        }
      ],
      "source": [
        "import gdown\n",
        "gdown.download(id='1nYC8lE8htkmeJ7GKT4iqoi5BZ2prefRW', output='PyQT5.zip')"
      ]
    },
    {
      "cell_type": "code",
      "execution_count": null,
      "metadata": {
        "colab": {
          "base_uri": "https://localhost:8080/"
        },
        "id": "G8Nl3Rj0L9_f",
        "outputId": "ef37bc61-297a-4a05-daab-a1ec65d8bea0"
      },
      "outputs": [
        {
          "name": "stdout",
          "output_type": "stream",
          "text": [
            "Archive:  PyQT5.zip\n",
            "  inflating: /content/PyQT5/00_PyQt5_basic_01_QMainWindow.py  \n",
            "  inflating: /content/PyQT5/00_PyQt5_basic_02_QIcon.py  \n",
            "  inflating: /content/PyQT5/00_PyQt5_basic_03_Quit.py  \n",
            "  inflating: /content/PyQT5/00_PyQt5_basic_04_setToolTip.py  \n",
            "  inflating: /content/PyQT5/00_PyQt5_basic_05_statusBar.py  \n",
            "  inflating: /content/PyQT5/00_PyQt5_basic_06_menuBar.py  \n",
            "  inflating: /content/PyQT5/00_PyQt5_basic_07_toolBar.py  \n",
            "  inflating: /content/PyQT5/00_PyQt5_basic_08_center_mainWindow.py  \n",
            "  inflating: /content/PyQT5/00_PyQt5_basic_09_QDate.py  \n",
            "  inflating: /content/PyQT5/00_PyQt5_basic_10_setStyleSheet.py  \n",
            "  inflating: /content/PyQT5/00_PyQt5_setWindowTitle.py  \n",
            "  inflating: /content/PyQT5/01_PyQt5_buttonclicked.py  \n",
            "  inflating: /content/PyQT5/02_PyQt5_absolute_positioning.py  \n",
            "  inflating: /content/PyQT5/02_PyQt5_QVBoxLayout_lebel_button.py  \n",
            "  inflating: /content/PyQT5/03_PyQt5_QMainWindow_class.py  \n",
            "  inflating: /content/PyQT5/04_PyQt5_QMainWindow_messageBox.py  \n",
            "  inflating: /content/PyQT5/05_button01_setGeometry.py  \n",
            "  inflating: /content/PyQT5/06_button02_QVBoxLayout_addWidget.py  \n",
            "  inflating: /content/PyQT5/07_quit_button2.py  \n",
            "  inflating: /content/PyQT5/08_button09_QGridLayout.py  \n",
            "  inflating: /content/PyQT5/09_PyQt5_QSlider_QProgressBar.py  \n",
            "  inflating: /content/PyQT5/10_PyQt5_QDateEdit.py  \n",
            "  inflating: /content/PyQT5/11_PyQt5_QListView.py  \n",
            "  inflating: /content/PyQT5/12_PyQt5_QTableView.py  \n",
            "  inflating: /content/PyQT5/13_PyQt5_QDialog.py  \n",
            "  inflating: /content/PyQT5/13_PyQt5_Widget_01_QPushButton.py  \n",
            "  inflating: /content/PyQT5/13_PyQt5_Widget_02_QLabel.py  \n",
            "  inflating: /content/PyQT5/13_PyQt5_Widget_03_QCheckBox.py  \n",
            "  inflating: /content/PyQT5/13_PyQt5_Widget_04_QRadioButton.py  \n",
            "  inflating: /content/PyQT5/13_PyQt5_Widget_05_QComboBox.py  \n",
            "  inflating: /content/PyQT5/13_PyQt5_Widget_06_QLineEdit.py  \n",
            "  inflating: /content/PyQT5/13_PyQt5_Widget_07_QProgressBar.py  \n",
            "  inflating: /content/PyQT5/13_PyQt5_Widget_08_QSlide_QDial.py  \n",
            "  inflating: /content/PyQT5/13_PyQt5_Widget_09_QSplitter.py  \n",
            "  inflating: /content/PyQT5/13_PyQt5_Widget_10_QGroupBox.py  \n",
            "  inflating: /content/PyQT5/13_PyQt5_Widget_11_QTabWidget.py  \n",
            "  inflating: /content/PyQT5/13_PyQt5_Widget_12_QPixmap.py  \n",
            "  inflating: /content/PyQT5/13_PyQt5_Widget_13_QCalendarWidget.py  \n",
            "  inflating: /content/PyQT5/13_PyQt5_Widget_14_QSpinBox.py  \n",
            "  inflating: /content/PyQT5/13_PyQt5_Widget_15_QDoubleSpinBox.py  \n",
            "  inflating: /content/PyQT5/13_PyQt5_Widget_16_QDataEdit.py  \n",
            "  inflating: /content/PyQT5/13_PyQt5_Widget_17_QTimeEdit.py  \n",
            "  inflating: /content/PyQT5/13_PyQt5_Widget_18_QDateTimeEdit.py  \n",
            "  inflating: /content/PyQT5/13_PyQt5_Widget_19_QTextBrowser.py  \n",
            "  inflating: /content/PyQT5/13_PyQt5_Widget_20_QTextEdit.py  \n",
            "  inflating: /content/PyQT5/13_PyQt5_Widget_21_QTableWidget.py  \n",
            "  inflating: /content/PyQT5/14_PyQt5_slot_00.py  \n",
            "  inflating: /content/PyQT5/14_PyQt5_slot_01.py  \n",
            "  inflating: /content/PyQT5/14_PyQt5_slot_02.py  \n",
            "  inflating: /content/PyQT5/14_PyQt5_slot_03.py  \n",
            "  inflating: /content/PyQT5/14_PyQt5_slot_04.py  \n",
            "  inflating: /content/PyQT5/15_PyQt5_painting_00.py  \n",
            "  inflating: /content/PyQT5/15_PyQt5_painting_01.py  \n",
            "  inflating: /content/PyQT5/15_PyQt5_painting_02.py  \n",
            "  inflating: /content/PyQT5/15_PyQt5_painting_03.py  \n",
            "  inflating: /content/PyQT5/15_PyQt5_painting_04.py  \n",
            "  inflating: /content/PyQT5/15_PyQt5_painting_05.py  \n",
            "  inflating: /content/PyQT5/15_PyQt5_painting_06.py  \n",
            "  inflating: /content/PyQT5/15_PyQt5_painting_07.py  \n",
            "  inflating: /content/PyQT5/15_PyQt5_painting_08.py  \n",
            "  inflating: /content/PyQT5/15_PyQt5_painting_09.py  \n",
            "  inflating: /content/PyQT5/16_PyQt5_example_00.py  \n",
            "  inflating: /content/PyQT5/16_PyQt5_example_01.py  \n",
            "  inflating: /content/PyQT5/16_PyQt5_example_02.py  \n",
            "  inflating: /content/PyQT5/16_PyQt5_example_03.py  \n",
            "  inflating: /content/PyQT5/16_PyQt5_example_04.py  \n",
            "  inflating: /content/PyQT5/16_PyQt5_example_05.py  \n",
            "  inflating: /content/PyQT5/4_12_qpixmap.png  \n",
            "  inflating: /content/PyQT5/button02.py  \n",
            "  inflating: /content/PyQT5/button09.py  \n",
            "  inflating: /content/PyQT5/edit.png  \n",
            "  inflating: /content/PyQT5/exit.png  \n",
            "  inflating: /content/PyQT5/landscape.jpg  \n",
            "  inflating: /content/PyQT5/myjoystick.py  \n",
            "  inflating: /content/PyQT5/myjoystick_00.py  \n",
            "  inflating: /content/PyQT5/myjoystick_01.py  \n",
            "  inflating: /content/PyQT5/myjoystick_02.py  \n",
            "  inflating: /content/PyQT5/myjoystick_03.py  \n",
            "  inflating: /content/PyQT5/myjoystick_04.py  \n",
            "  inflating: /content/PyQT5/myjoystick_05.py  \n",
            "  inflating: /content/PyQT5/myjoystick_06.py  \n",
            "  inflating: /content/PyQT5/myjoystick_07.py  \n",
            "  inflating: /content/PyQT5/print.png  \n",
            "  inflating: /content/PyQT5/save.png  \n",
            "  inflating: /content/PyQT5/untitled.ui  \n",
            "  inflating: /content/PyQT5/web.png  \n"
          ]
        }
      ],
      "source": [
        "!unzip PyQT5.zip  -d /content/PyQT5"
      ]
    },
    {
      "cell_type": "markdown",
      "metadata": {
        "id": "Nq0qxQY_kvAd"
      },
      "source": [
        "#QT 동작과정"
      ]
    },
    {
      "cell_type": "markdown",
      "metadata": {
        "id": "YqUzR2VG2SYK"
      },
      "source": [
        "![image.png](data:image/png;base64,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)"
      ]
    },
    {
      "cell_type": "markdown",
      "metadata": {
        "id": "qz2K3woC2Uwa"
      },
      "source": [
        "![image.png](data:image/png;base64,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)"
      ]
    },
    {
      "cell_type": "markdown",
      "metadata": {
        "id": "qqG5-VtX2lGZ"
      },
      "source": []
    },
    {
      "cell_type": "code",
      "execution_count": 2,
      "metadata": {
        "colab": {
          "base_uri": "https://localhost:8080/"
        },
        "id": "tYJwvUGR3NMs",
        "outputId": "87aaddaa-0046-471f-c9eb-f1c4f7d22d79"
      },
      "outputs": [
        {
          "name": "stdout",
          "output_type": "stream",
          "text": [
            "[sudo] password for arclab: \n"
          ]
        }
      ],
      "source": [
        "!sudo apt-get install pyqt5-dev-tools"
      ]
    },
    {
      "cell_type": "code",
      "execution_count": 1,
      "metadata": {
        "colab": {
          "base_uri": "https://localhost:8080/"
        },
        "id": "n_JBBifGCeKU",
        "outputId": "85d9081e-c4a7-44d2-bc6c-383eea908c87"
      },
      "outputs": [
        {
          "name": "stdout",
          "output_type": "stream",
          "text": [
            "/home/arclab/딥러닝_데이터/객체인식_모델/PyQT5\n"
          ]
        },
        {
          "name": "stderr",
          "output_type": "stream",
          "text": [
            "/home/arclab/.local/lib/python3.10/site-packages/IPython/core/magics/osm.py:417: UserWarning: This is now an optional IPython functionality, setting dhist requires you to install the `pickleshare` library.\n",
            "  self.shell.db['dhist'] = compress_dhist(dhist)[-100:]\n"
          ]
        }
      ],
      "source": [
        "%cd /home/arclab/딥러닝_데이터/객체인식_모델/PyQT5"
      ]
    },
    {
      "cell_type": "markdown",
      "metadata": {
        "id": "ZbqInIxJtn13"
      },
      "source": [
        "## QMainWindow - 창띄우기"
      ]
    },
    {
      "cell_type": "markdown",
      "metadata": {
        "id": "FZ4iLZNmt3Lh"
      },
      "source": [
        "- https://wikidocs.net/21920"
      ]
    },
    {
      "cell_type": "markdown",
      "metadata": {
        "id": "Zc7WcARaSVbX"
      },
      "source": [
        "- QMainWindow, QWidget, QDialog\n",
        "  - https://coding-kindergarten.tistory.com/171"
      ]
    },
    {
      "cell_type": "code",
      "execution_count": 5,
      "metadata": {
        "id": "T06hHY1Ltn13"
      },
      "outputs": [],
      "source": [
        "!python3 00_PyQt5_basic_01_QMainWindow.py"
      ]
    },
    {
      "cell_type": "code",
      "execution_count": 4,
      "metadata": {
        "id": "lMFXclI_tn14"
      },
      "outputs": [
        {
          "ename": "SystemExit",
          "evalue": "0",
          "output_type": "error",
          "traceback": [
            "An exception has occurred, use %tb to see the full traceback.\n",
            "\u001b[0;31mSystemExit\u001b[0m\u001b[0;31m:\u001b[0m 0\n"
          ]
        },
        {
          "name": "stderr",
          "output_type": "stream",
          "text": [
            "/home/arclab/.local/lib/python3.10/site-packages/IPython/core/interactiveshell.py:3585: UserWarning: To exit: use 'exit', 'quit', or Ctrl-D.\n",
            "  warn(\"To exit: use 'exit', 'quit', or Ctrl-D.\", stacklevel=1)\n"
          ]
        }
      ],
      "source": [
        "# -*- coding: utf-8 -*-\n",
        "import sys\n",
        "from PyQt5.QtWidgets import QApplication, QMainWindow, QWidget, QLabel\n",
        "\n",
        "app = QApplication(sys.argv) #Q어플리케이션 인스턴스 생성\n",
        "\n",
        "window = QMainWindow() #창을 열어라\n",
        "window.setWindowTitle('Hello, World! - mainwindow')\n",
        "window.show()\n",
        "\n",
        "sys.exit(app.exec_()) #루프 돌려라 "
      ]
    },
    {
      "cell_type": "markdown",
      "metadata": {
        "id": "SsIBe7FTuT9K"
      },
      "source": [
        "## QIcon - 어플리케이션 아이콘 넣기"
      ]
    },
    {
      "cell_type": "markdown",
      "metadata": {
        "id": "c_4gdq0xuT9K"
      },
      "source": [
        "- https://wikidocs.net/21853"
      ]
    },
    {
      "cell_type": "code",
      "execution_count": 7,
      "metadata": {
        "id": "oraVpMIXuT9K"
      },
      "outputs": [],
      "source": [
        "!python3 00_PyQt5_basic_02_QIcon.py"
      ]
    },
    {
      "cell_type": "code",
      "execution_count": 5,
      "metadata": {
        "id": "7qIq1BEkuT9L"
      },
      "outputs": [
        {
          "ename": "SystemExit",
          "evalue": "0",
          "output_type": "error",
          "traceback": [
            "An exception has occurred, use %tb to see the full traceback.\n",
            "\u001b[0;31mSystemExit\u001b[0m\u001b[0;31m:\u001b[0m 0\n"
          ]
        },
        {
          "name": "stderr",
          "output_type": "stream",
          "text": [
            "/home/arclab/.local/lib/python3.10/site-packages/IPython/core/interactiveshell.py:3585: UserWarning: To exit: use 'exit', 'quit', or Ctrl-D.\n",
            "  warn(\"To exit: use 'exit', 'quit', or Ctrl-D.\", stacklevel=1)\n"
          ]
        }
      ],
      "source": [
        "# -*- coding: utf-8 -*-\n",
        "import sys\n",
        "from PyQt5.QtWidgets import QApplication, QMainWindow\n",
        "from PyQt5.QtGui import QIcon\n",
        "\n",
        "app = QApplication(sys.argv)\n",
        "\n",
        "window = QMainWindow()\n",
        "window.setWindowTitle('Hello, World! - mainwindow')\n",
        "window.setWindowIcon(QIcon('web.png')) #아이콘 추가\n",
        "window.show()\n",
        "\n",
        "sys.exit(app.exec_())"
      ]
    },
    {
      "cell_type": "markdown",
      "metadata": {
        "id": "peZlloNdyrrE"
      },
      "source": [
        "## Quit - 창닫기"
      ]
    },
    {
      "cell_type": "markdown",
      "metadata": {
        "id": "hqHYXOVqyrrF"
      },
      "source": [
        "- https://wikidocs.net/21927"
      ]
    },
    {
      "cell_type": "code",
      "execution_count": 6,
      "metadata": {
        "id": "feJufFiqyrrF"
      },
      "outputs": [],
      "source": [
        "!python3 00_PyQt5_basic_03_Quit.py"
      ]
    },
    {
      "cell_type": "code",
      "execution_count": null,
      "metadata": {
        "id": "P4FXbDQkyrrG"
      },
      "outputs": [],
      "source": [
        "# -*- coding: utf-8 -*-\n",
        "import sys\n",
        "from PyQt5.QtWidgets import QApplication, QMainWindow, QPushButton\n",
        "from PyQt5.QtGui import QIcon\n",
        "from PyQt5.QtCore import QCoreApplication\n",
        "\n",
        "app = QApplication(sys.argv)\n",
        "\n",
        "window = QMainWindow()\n",
        "window.setWindowTitle('Hello, World! - mainwindow')\n",
        "window.setWindowIcon(QIcon('web.png'))\n",
        "\n",
        "\n",
        "btn = QPushButton('Quit', window) #window 창에 속하는 버튼\n",
        "btn.move(50, 50)\n",
        "btn.resize(btn.sizeHint())\n",
        "btn.clicked.connect(QCoreApplication.instance().quit)\n",
        "#클릭 시그널 -(connect) - 창 닫는 슬롯(함수/기능)\n",
        "\n",
        "window.show()\n",
        "\n",
        "sys.exit(app.exec_())"
      ]
    },
    {
      "cell_type": "markdown",
      "metadata": {
        "id": "3Ns1uCmn5Hw7"
      },
      "source": [
        "## setToolTip - 툴팁 나타내기"
      ]
    },
    {
      "cell_type": "markdown",
      "metadata": {
        "id": "vCjNXxJU5HxB"
      },
      "source": [
        "- https://wikidocs.net/21860"
      ]
    },
    {
      "cell_type": "code",
      "execution_count": 3,
      "metadata": {
        "id": "K0ioLEYf5HxC"
      },
      "outputs": [],
      "source": [
        "!python3 00_PyQt5_basic_04_setToolTip.py"
      ]
    },
    {
      "cell_type": "code",
      "execution_count": 3,
      "metadata": {
        "id": "V6-3Gwo25HxC"
      },
      "outputs": [
        {
          "ename": "SystemExit",
          "evalue": "0",
          "output_type": "error",
          "traceback": [
            "An exception has occurred, use %tb to see the full traceback.\n",
            "\u001b[0;31mSystemExit\u001b[0m\u001b[0;31m:\u001b[0m 0\n"
          ]
        },
        {
          "name": "stderr",
          "output_type": "stream",
          "text": [
            "/home/arclab/.local/lib/python3.10/site-packages/IPython/core/interactiveshell.py:3585: UserWarning: To exit: use 'exit', 'quit', or Ctrl-D.\n",
            "  warn(\"To exit: use 'exit', 'quit', or Ctrl-D.\", stacklevel=1)\n"
          ]
        },
        {
          "ename": "",
          "evalue": "",
          "output_type": "error",
          "traceback": [
            "\u001b[1;31mThe Kernel crashed while executing code in the current cell or a previous cell. \n",
            "\u001b[1;31mPlease review the code in the cell(s) to identify a possible cause of the failure. \n",
            "\u001b[1;31mClick <a href='https://aka.ms/vscodeJupyterKernelCrash'>here</a> for more info. \n",
            "\u001b[1;31mView Jupyter <a href='command:jupyter.viewOutput'>log</a> for further details."
          ]
        }
      ],
      "source": [
        "# -*- coding: utf-8 -*-\n",
        "import sys\n",
        "from PyQt5.QtWidgets import QApplication, QMainWindow, QPushButton, QToolTip\n",
        "from PyQt5.QtGui import QIcon, QFont\n",
        "from PyQt5.QtCore import QCoreApplication\n",
        "\n",
        "app = QApplication(sys.argv)\n",
        "\n",
        "QToolTip.setFont(QFont('SansSerif', 10))\n",
        "\n",
        "window = QMainWindow()\n",
        "window.setWindowTitle('Hello, World! - mainwindow')\n",
        "window.setWindowIcon(QIcon('web.png'))\n",
        "\n",
        "btn = QPushButton('Quit', window)\n",
        "btn.setToolTip('This is a <b>QPushButton</b> widget')\n",
        "btn.move(50, 50)\n",
        "btn.resize(btn.sizeHint())\n",
        "btn.clicked.connect(QCoreApplication.instance().quit)\n",
        "\n",
        "\n",
        "window.show()\n",
        "\n",
        "sys.exit(app.exec_())\n"
      ]
    },
    {
      "cell_type": "markdown",
      "metadata": {
        "id": "lomNtmrg5GHS"
      },
      "source": [
        "## statusBar - 상태바 만들기"
      ]
    },
    {
      "cell_type": "markdown",
      "metadata": {
        "id": "8elMytOy5GHa"
      },
      "source": [
        "- https://wikidocs.net/21928"
      ]
    },
    {
      "cell_type": "code",
      "execution_count": 4,
      "metadata": {
        "id": "fXwjh8nJ5GHa"
      },
      "outputs": [],
      "source": [
        "!python3 00_PyQt5_basic_05_statusBar.py"
      ]
    },
    {
      "cell_type": "code",
      "execution_count": null,
      "metadata": {
        "id": "gQWtEJGz5GHa"
      },
      "outputs": [],
      "source": [
        "# -*- coding: utf-8 -*-\n",
        "import sys\n",
        "from PyQt5.QtWidgets import QApplication, QMainWindow, QPushButton, QToolTip\n",
        "from PyQt5.QtGui import QIcon, QFont\n",
        "from PyQt5.QtCore import QCoreApplication\n",
        "\n",
        "app = QApplication(sys.argv)\n",
        "\n",
        "QToolTip.setFont(QFont('SansSerif', 10))\n",
        "\n",
        "window = QMainWindow()\n",
        "window.setWindowTitle('Hello, World! - mainwindow')\n",
        "window.setWindowIcon(QIcon('web.png'))\n",
        "window.statusBar().showMessage('Ready')      ### added\n",
        "\n",
        "btn = QPushButton('Quit', window)\n",
        "btn.setToolTip('This is a <b>QPushButton</b> widget')\n",
        "btn.move(50, 50)\n",
        "btn.resize(btn.sizeHint())\n",
        "btn.clicked.connect(QCoreApplication.instance().quit)\n",
        "\n",
        "\n",
        "window.show()\n",
        "\n",
        "sys.exit(app.exec_())"
      ]
    },
    {
      "cell_type": "markdown",
      "metadata": {
        "id": "O30hRIsU0HL2"
      },
      "source": [
        "## menuBar - 메뉴바 만들기"
      ]
    },
    {
      "cell_type": "markdown",
      "metadata": {
        "id": "-qEEV1OW0HL2"
      },
      "source": [
        "- https://wikidocs.net/21866"
      ]
    },
    {
      "cell_type": "code",
      "execution_count": 6,
      "metadata": {
        "id": "UTQlyKaD0HL3"
      },
      "outputs": [],
      "source": [
        "!python3 00_PyQt5_basic_06_menuBar.py"
      ]
    },
    {
      "cell_type": "code",
      "execution_count": null,
      "metadata": {
        "id": "PfGU-nwG0HL3"
      },
      "outputs": [],
      "source": [
        "# -*- coding: utf-8 -*-\n",
        "import sys\n",
        "from PyQt5.QtWidgets import QApplication, QMainWindow, QPushButton, QToolTip, QAction, qApp\n",
        "from PyQt5.QtGui import QIcon, QFont\n",
        "from PyQt5.QtCore import QCoreApplication\n",
        "\n",
        "app = QApplication(sys.argv)\n",
        "\n",
        "QToolTip.setFont(QFont('SansSerif', 10))\n",
        "\n",
        "window = QMainWindow()\n",
        "window.setWindowTitle('Hello, World! - mainwindow')\n",
        "window.setWindowIcon(QIcon('web.png'))\n",
        "window.statusBar().showMessage('Ready')\n",
        "\n",
        "exitAction = QAction(QIcon('exit.png'), 'Exit', window)\n",
        "exitAction.setShortcut('Ctrl+Q')\n",
        "exitAction.setStatusTip('Exit application')\n",
        "exitAction.triggered.connect(qApp.quit)\n",
        "\n",
        "window.statusBar()\n",
        "\n",
        "menubar = window.menuBar()\n",
        "menubar.setNativeMenuBar(False)\n",
        "filemenu = menubar.addMenu('&File')\n",
        "filemenu.addAction(exitAction)\n",
        "\n",
        "\n",
        "btn = QPushButton('Quit', window)\n",
        "btn.setToolTip('This is a <b>QPushButton</b> widget')\n",
        "btn.move(50, 50)\n",
        "btn.resize(btn.sizeHint())\n",
        "btn.clicked.connect(QCoreApplication.instance().quit)\n",
        "\n",
        "\n",
        "window.show()\n",
        "\n",
        "sys.exit(app.exec_())"
      ]
    },
    {
      "cell_type": "markdown",
      "metadata": {
        "id": "1zPQ_YMX90Rl"
      },
      "source": [
        "## toolBar - 툴바 만들기"
      ]
    },
    {
      "cell_type": "markdown",
      "metadata": {
        "id": "1ShqNPDx90Ru"
      },
      "source": [
        "- https://wikidocs.net/21932"
      ]
    },
    {
      "cell_type": "code",
      "execution_count": 7,
      "metadata": {
        "id": "HsPfB6QP90Rv"
      },
      "outputs": [],
      "source": [
        "!python3 00_PyQt5_basic_07_toolBar.py"
      ]
    },
    {
      "cell_type": "code",
      "execution_count": null,
      "metadata": {
        "id": "vgYyPjdY90Rw"
      },
      "outputs": [],
      "source": [
        "# -*- coding: utf-8 -*-\n",
        "import sys\n",
        "from PyQt5.QtWidgets import QApplication, QMainWindow, QPushButton, QToolTip, QAction, qApp\n",
        "from PyQt5.QtGui import QIcon, QFont\n",
        "from PyQt5.QtCore import QCoreApplication\n",
        "\n",
        "app = QApplication(sys.argv)\n",
        "\n",
        "QToolTip.setFont(QFont('SansSerif', 10))\n",
        "\n",
        "window = QMainWindow()\n",
        "window.setWindowTitle('Hello, World! - mainwindow')\n",
        "window.setWindowIcon(QIcon('web.png'))\n",
        "window.statusBar().showMessage('Ready')\n",
        "\n",
        "\n",
        "\n",
        "'''\n",
        "exitAction = QAction(QIcon('exit.png'), 'Exit', window)\n",
        "exitAction.setShortcut('Ctrl+Q')\n",
        "exitAction.setStatusTip('Exit application')\n",
        "exitAction.triggered.connect(qApp.quit)\n",
        "\n",
        "window.statusBar()\n",
        "\n",
        "menubar = window.menuBar()\n",
        "menubar.setNativeMenuBar(False)\n",
        "filemenu = menubar.addMenu('&File')\n",
        "filemenu.addAction(exitAction)\n",
        "'''\n",
        "\n",
        "exitAction = QAction(QIcon('exit.png'), 'Exit', window)\n",
        "exitAction.setShortcut('Ctrl+Q')\n",
        "exitAction.setStatusTip('Exit application')\n",
        "exitAction.triggered.connect(qApp.quit)\n",
        "\n",
        "window.statusBar()\n",
        "\n",
        "window.toolbar = window.addToolBar('Exit')\n",
        "window.toolbar.addAction(exitAction)\n",
        "\n",
        "btn = QPushButton('Quit', window)\n",
        "btn.setToolTip('This is a <b>QPushButton</b> widget')\n",
        "btn.move(50, 50)\n",
        "btn.resize(btn.sizeHint())\n",
        "btn.clicked.connect(QCoreApplication.instance().quit)\n",
        "\n",
        "\n",
        "window.show()\n",
        "\n",
        "sys.exit(app.exec_())"
      ]
    },
    {
      "cell_type": "code",
      "execution_count": null,
      "metadata": {
        "id": "SOuB8LRZNN7L"
      },
      "outputs": [],
      "source": []
    },
    {
      "cell_type": "markdown",
      "metadata": {
        "id": "1AT04ORfNOFx"
      },
      "source": [
        "## center mainWindow - 창을 화면의 가운데로"
      ]
    },
    {
      "cell_type": "markdown",
      "metadata": {
        "id": "2YvNPi5zNOFx"
      },
      "source": [
        "- https://wikidocs.net/26684"
      ]
    },
    {
      "cell_type": "code",
      "execution_count": 8,
      "metadata": {
        "id": "VO_4rseaNOFx"
      },
      "outputs": [],
      "source": [
        "!python3 00_PyQt5_basic_08_center_mainWindow.py"
      ]
    },
    {
      "cell_type": "code",
      "execution_count": null,
      "metadata": {
        "id": "k9vTD4gHNOFy"
      },
      "outputs": [],
      "source": [
        "# -*- coding: utf-8 -*-\n",
        "import sys\n",
        "from PyQt5.QtWidgets import QApplication, QMainWindow, QPushButton, QToolTip, QAction, qApp, QDesktopWidget\n",
        "from PyQt5.QtGui import QIcon, QFont\n",
        "from PyQt5.QtCore import QCoreApplication\n",
        "\n",
        "app = QApplication(sys.argv)\n",
        "\n",
        "QToolTip.setFont(QFont('SansSerif', 10))\n",
        "\n",
        "window = QMainWindow()\n",
        "window.setWindowTitle('Hello, World! - mainwindow')\n",
        "window.setWindowIcon(QIcon('web.png'))\n",
        "window.statusBar().showMessage('Ready')\n",
        "\n",
        "\n",
        "\n",
        "'''\n",
        "exitAction = QAction(QIcon('exit.png'), 'Exit', window)\n",
        "exitAction.setShortcut('Ctrl+Q')\n",
        "exitAction.setStatusTip('Exit application')\n",
        "exitAction.triggered.connect(qApp.quit)\n",
        "\n",
        "window.statusBar()\n",
        "\n",
        "menubar = window.menuBar()\n",
        "menubar.setNativeMenuBar(False)\n",
        "filemenu = menubar.addMenu('&File')\n",
        "filemenu.addAction(exitAction)\n",
        "'''\n",
        "\n",
        "exitAction = QAction(QIcon('exit.png'), 'Exit', window)\n",
        "exitAction.setShortcut('Ctrl+Q')\n",
        "exitAction.setStatusTip('Exit application')\n",
        "exitAction.triggered.connect(qApp.quit)\n",
        "\n",
        "window.statusBar()\n",
        "\n",
        "window.toolbar = window.addToolBar('Exit')\n",
        "window.toolbar.addAction(exitAction)\n",
        "\n",
        "\n",
        "\n",
        "qr = window.frameGeometry()\n",
        "cp = QDesktopWidget().availableGeometry().center()\n",
        "qr.moveCenter(cp)\n",
        "window.move(qr.topLeft())\n",
        "\n",
        "btn = QPushButton('Quit', window)\n",
        "btn.setToolTip('This is a <b>QPushButton</b> widget')\n",
        "btn.move(50, 50)\n",
        "btn.resize(btn.sizeHint())\n",
        "btn.clicked.connect(QCoreApplication.instance().quit)\n",
        "\n",
        "\n",
        "window.show()\n",
        "\n",
        "sys.exit(app.exec_())"
      ]
    },
    {
      "cell_type": "markdown",
      "metadata": {
        "id": "t8hF5Rhb96is"
      },
      "source": [
        "## QDate - 날짜와 시간 표시하기"
      ]
    },
    {
      "cell_type": "markdown",
      "metadata": {
        "id": "5hKI8qoU96i0"
      },
      "source": [
        "- https://wikidocs.net/22074"
      ]
    },
    {
      "cell_type": "code",
      "execution_count": 9,
      "metadata": {
        "id": "6aLITfuY96i0"
      },
      "outputs": [],
      "source": [
        "!python3 00_PyQt5_basic_09_QDate.py"
      ]
    },
    {
      "cell_type": "code",
      "execution_count": null,
      "metadata": {
        "id": "U9HYZKZi96i1"
      },
      "outputs": [],
      "source": [
        "# -*- coding: utf-8 -*-\n",
        "import sys\n",
        "from PyQt5.QtWidgets import QApplication, QMainWindow, QPushButton, QToolTip, QAction, qApp, QDesktopWidget\n",
        "from PyQt5.QtGui import QIcon, QFont\n",
        "from PyQt5.QtCore import QCoreApplication, QDate, Qt\n",
        "\n",
        "app = QApplication(sys.argv)\n",
        "\n",
        "QToolTip.setFont(QFont('SansSerif', 10))\n",
        "\n",
        "window = QMainWindow()\n",
        "window.setWindowTitle('Hello, World! - mainwindow')\n",
        "window.setWindowIcon(QIcon('web.png'))\n",
        "window.date = QDate.currentDate()\n",
        "#window.statusBar().showMessage('Ready')\n",
        "window.statusBar().showMessage(window.date.toString(Qt.DefaultLocaleLongDate))\n",
        "\n",
        "\n",
        "'''\n",
        "exitAction = QAction(QIcon('exit.png'), 'Exit', window)\n",
        "exitAction.setShortcut('Ctrl+Q')\n",
        "exitAction.setStatusTip('Exit application')\n",
        "exitAction.triggered.connect(qApp.quit)\n",
        "\n",
        "window.statusBar()\n",
        "\n",
        "menubar = window.menuBar()\n",
        "menubar.setNativeMenuBar(False)\n",
        "filemenu = menubar.addMenu('&File')\n",
        "filemenu.addAction(exitAction)\n",
        "'''\n",
        "\n",
        "exitAction = QAction(QIcon('exit.png'), 'Exit', window)\n",
        "exitAction.setShortcut('Ctrl+Q')\n",
        "exitAction.setStatusTip('Exit application')\n",
        "exitAction.triggered.connect(qApp.quit)\n",
        "\n",
        "\n",
        "window.statusBar()\n",
        "\n",
        "window.toolbar = window.addToolBar('Exit')\n",
        "window.toolbar.addAction(exitAction)\n",
        "\n",
        "\n",
        "\n",
        "qr = window.frameGeometry()\n",
        "cp = QDesktopWidget().availableGeometry().center()\n",
        "qr.moveCenter(cp)\n",
        "window.move(qr.topLeft())\n",
        "\n",
        "btn = QPushButton('Quit', window)\n",
        "btn.setToolTip('This is a <b>QPushButton</b> widget')\n",
        "btn.move(50, 50)\n",
        "btn.resize(btn.sizeHint())\n",
        "btn.clicked.connect(QCoreApplication.instance().quit)\n",
        "\n",
        "\n",
        "window.show()\n",
        "\n",
        "sys.exit(app.exec_())"
      ]
    },
    {
      "cell_type": "markdown",
      "metadata": {
        "id": "HeAgEPwD95KP"
      },
      "source": [
        "## setStyleSheet - 스타일 꾸미기"
      ]
    },
    {
      "cell_type": "markdown",
      "metadata": {
        "id": "vtWsDuK995Ki"
      },
      "source": [
        "- https://wikidocs.net/33889"
      ]
    },
    {
      "cell_type": "code",
      "execution_count": 10,
      "metadata": {
        "id": "piP1zv5395Ki"
      },
      "outputs": [],
      "source": [
        "!python3 00_PyQt5_basic_10_setStyleSheet.py"
      ]
    },
    {
      "cell_type": "code",
      "execution_count": null,
      "metadata": {
        "id": "8XK8Vj7B95Ki"
      },
      "outputs": [],
      "source": [
        "# -*- coding: utf-8 -*-\n",
        "import sys\n",
        "from PyQt5.QtWidgets import QApplication, QMainWindow, QPushButton, QToolTip, QAction, qApp, QDesktopWidget, QVBoxLayout, QLabel, QWidget\n",
        "from PyQt5.QtGui import QIcon, QFont\n",
        "from PyQt5.QtCore import QCoreApplication, QDate, Qt\n",
        "\n",
        "app = QApplication(sys.argv)\n",
        "\n",
        "QToolTip.setFont(QFont('SansSerif', 10))\n",
        "\n",
        "window = QMainWindow()\n",
        "window.setWindowTitle('Hello, World! - mainwindow')\n",
        "window.setWindowIcon(QIcon('web.png'))\n",
        "window.date = QDate.currentDate()\n",
        "#window.statusBar().showMessage('Ready')\n",
        "window.statusBar().showMessage(window.date.toString(Qt.DefaultLocaleLongDate))\n",
        "\n",
        "\n",
        "\n",
        "\n",
        "'''\n",
        "exitAction = QAction(QIcon('exit.png'), 'Exit', window)\n",
        "exitAction.setShortcut('Ctrl+Q')\n",
        "exitAction.setStatusTip('Exit application')\n",
        "exitAction.triggered.connect(qApp.quit)\n",
        "\n",
        "window.statusBar()\n",
        "\n",
        "menubar = window.menuBar()\n",
        "menubar.setNativeMenuBar(False)\n",
        "filemenu = menubar.addMenu('&File')\n",
        "filemenu.addAction(exitAction)\n",
        "'''\n",
        "\n",
        "exitAction = QAction(QIcon('exit.png'), 'Exit', window)\n",
        "exitAction.setShortcut('Ctrl+Q')\n",
        "exitAction.setStatusTip('Exit application')\n",
        "exitAction.triggered.connect(qApp.quit)\n",
        "\n",
        "\n",
        "window.statusBar()\n",
        "\n",
        "window.toolbar = window.addToolBar('Exit')\n",
        "window.toolbar.addAction(exitAction)\n",
        "\n",
        "\n",
        "\n",
        "qr = window.frameGeometry()\n",
        "cp = QDesktopWidget().availableGeometry().center()\n",
        "qr.moveCenter(cp)\n",
        "window.move(qr.topLeft())\n",
        "\n",
        "\n",
        "\n",
        "\n",
        "lbl_red = QLabel('Red')\n",
        "lbl_green = QLabel('Green')\n",
        "lbl_blue = QLabel('Blue')\n",
        "\n",
        "lbl_red.setStyleSheet(\"color: red;\"\n",
        "                     \"border-style: solid;\"\n",
        "                     \"border-width: 2px;\"\n",
        "                     \"border-color: #FA8072;\"\n",
        "                     \"border-radius: 3px\")\n",
        "lbl_green.setStyleSheet(\"color: green;\"\n",
        "                       \"background-color: #7FFFD4\")\n",
        "lbl_blue.setStyleSheet(\"color: blue;\"\n",
        "                      \"background-color: #87CEFA;\"\n",
        "                      \"border-style: dashed;\"\n",
        "                      \"border-width: 3px;\"\n",
        "                      \"border-color: #1E90FF\")\n",
        "\n",
        "vbox = QVBoxLayout()\n",
        "vbox.addWidget(lbl_red)\n",
        "vbox.addWidget(lbl_green)\n",
        "vbox.addWidget(lbl_blue)\n",
        "\n",
        "widget = QWidget()\n",
        "\n",
        "widget.setLayout(vbox)\n",
        "\n",
        "window.setCentralWidget(widget)        ####\n",
        "\n",
        "\n",
        "btn = QPushButton('Quit', window)\n",
        "btn.setToolTip('This is a <b>QPushButton</b> widget')\n",
        "btn.move(50, 50)\n",
        "btn.resize(btn.sizeHint())\n",
        "btn.clicked.connect(QCoreApplication.instance().quit)\n",
        "\n",
        "vbox.addWidget(btn)                ####\n",
        "\n",
        "window.show()\n",
        "\n",
        "sys.exit(app.exec_())"
      ]
    },
    {
      "cell_type": "markdown",
      "metadata": {
        "id": "dsbe8crePDTl"
      },
      "source": [
        "## setWindowTitle"
      ]
    },
    {
      "cell_type": "code",
      "execution_count": null,
      "metadata": {
        "colab": {
          "base_uri": "https://localhost:8080/"
        },
        "id": "KYhdK7m5CV1G",
        "outputId": "5b7f58fc-7570-4b71-eec6-a6db1e8ce151"
      },
      "outputs": [
        {
          "name": "stdout",
          "output_type": "stream",
          "text": [
            "qt.qpa.xcb: could not connect to display \n",
            "qt.qpa.plugin: Could not load the Qt platform plugin \"xcb\" in \"\" even though it was found.\n",
            "This application failed to start because no Qt platform plugin could be initialized. Reinstalling the application may fix this problem.\n",
            "\n",
            "Available platform plugins are: eglfs, linuxfb, minimal, minimalegl, offscreen, vnc, xcb.\n",
            "\n"
          ]
        }
      ],
      "source": [
        "!python 00_PyQt5_setWindowTitle.py 1"
      ]
    },
    {
      "cell_type": "code",
      "execution_count": null,
      "metadata": {
        "id": "Y8wOHDNi2w9E"
      },
      "outputs": [],
      "source": [
        "# -*- coding: utf-8 -*-\n",
        "import sys\n",
        "from PyQt5.QtWidgets import QApplication, QMainWindow, QWidget, QLabel\n",
        "\n",
        "app = QApplication(sys.argv)\n",
        "\n",
        "print(sys.argv)\n",
        "if(sys.argv[1] == '1'):\n",
        "    print(sys.argv[1])\n",
        "\n",
        "    window = QWidget()\n",
        "    window.setWindowTitle('Hello, World! - widget')\n",
        "    window.show()\n",
        "elif(sys.argv[1] == '2'):\n",
        "    print(sys.argv[1])\n",
        "    label = QLabel(\"Hello, World! - label\")\n",
        "    label.show()\n",
        "else:\n",
        "    window = QMainWindow()\n",
        "    window.setWindowTitle('Hello, World! - mainwindow')\n",
        "    window.show()\n",
        "\n",
        "sys.exit(app.exec_())"
      ]
    },
    {
      "cell_type": "markdown",
      "metadata": {
        "id": "noJNsfMVD0Je"
      },
      "source": [
        "##buttonclicked"
      ]
    },
    {
      "cell_type": "code",
      "execution_count": 11,
      "metadata": {
        "colab": {
          "base_uri": "https://localhost:8080/"
        },
        "id": "3ehORkhuDoJF",
        "outputId": "27360806-7c65-4bbc-a07b-a80be48f34b5"
      },
      "outputs": [
        {
          "name": "stdout",
          "output_type": "stream",
          "text": [
            "Button has been clicked\n",
            "Button has been clicked\n",
            "Button has been clicked\n"
          ]
        }
      ],
      "source": [
        "!python3 01_PyQt5_buttonclicked.py"
      ]
    },
    {
      "cell_type": "code",
      "execution_count": null,
      "metadata": {
        "id": "hW3BeXMbDoJH"
      },
      "outputs": [],
      "source": [
        "from PyQt5.QtWidgets import QApplication, QPushButton\n",
        "\n",
        "def on_button_clicked():\n",
        "    print(\"Button has been clicked\")\n",
        "\n",
        "app = QApplication([])\n",
        "button = QPushButton('Click Me')\n",
        "button.clicked.connect(on_button_clicked)  # Connecting the clicked signal to the slot\n",
        "button.show()\n",
        "app.exec_()"
      ]
    },
    {
      "cell_type": "markdown",
      "metadata": {
        "id": "Cy9tYsFrVELB"
      },
      "source": [
        "##Absolute Positioning"
      ]
    },
    {
      "cell_type": "code",
      "execution_count": 13,
      "metadata": {
        "colab": {
          "base_uri": "https://localhost:8080/"
        },
        "id": "xRruzNE9VELC",
        "outputId": "5b7f58fc-7570-4b71-eec6-a6db1e8ce151"
      },
      "outputs": [],
      "source": [
        "!python3 02_PyQt5_absolute_positioning.py"
      ]
    },
    {
      "cell_type": "code",
      "execution_count": null,
      "metadata": {
        "id": "t7cyps0pVELC"
      },
      "outputs": [],
      "source": [
        "# -*- coding: utf-8 -*-\n",
        "## Ex 4-1. 절대적 배치.\n",
        "\n",
        "import sys\n",
        "from PyQt5.QtWidgets import QApplication, QWidget, QLabel, QPushButton\n",
        "from PyQt5.QtWidgets import QApplication, QWidget, QLabel, QPushButton\n",
        "\n",
        "app = QApplication([])\n",
        "window = QWidget()\n",
        "\n",
        "\n",
        "label1 = QLabel('Label1', window)\n",
        "label1.move(20, 20)\n",
        "label2 = QLabel('Label2', window)\n",
        "label2.move(20, 60)\n",
        "\n",
        "btn1 = QPushButton('Button1', window)\n",
        "btn1.move(80, 13)\n",
        "btn2 = QPushButton('Button2', window)\n",
        "btn2.move(80, 53)\n",
        "\n",
        "window.setWindowTitle('Absolute Positioning')\n",
        "window.setGeometry(300, 300, 400, 200)\n",
        "window.show()\n",
        "\n",
        "app.exec_()"
      ]
    },
    {
      "cell_type": "markdown",
      "metadata": {
        "id": "6e2yzNOeOmTW"
      },
      "source": [
        "##QVBoxLayout"
      ]
    },
    {
      "cell_type": "code",
      "execution_count": 14,
      "metadata": {
        "colab": {
          "base_uri": "https://localhost:8080/"
        },
        "id": "h5Pvb1ojEWIt",
        "outputId": "5b7f58fc-7570-4b71-eec6-a6db1e8ce151"
      },
      "outputs": [],
      "source": [
        "!python3 02_PyQt5_QVBoxLayout_lebel_button.py"
      ]
    },
    {
      "cell_type": "code",
      "execution_count": null,
      "metadata": {
        "id": "TPqbDBQPEWIu"
      },
      "outputs": [],
      "source": [
        "from PyQt5.QtWidgets import QApplication, QWidget, QVBoxLayout, QLabel, QPushButton\n",
        "\n",
        "app = QApplication([])\n",
        "window = QWidget()\n",
        "layout = QVBoxLayout()\n",
        "\n",
        "# Widgets\n",
        "label = QLabel('Hello, PyQt5!')\n",
        "button = QPushButton('Click Me')\n",
        "\n",
        "# Adding widgets to the layout\n",
        "layout.addWidget(label)\n",
        "layout.addWidget(button)\n",
        "\n",
        "window.setLayout(layout)\n",
        "window.show()\n",
        "app.exec_()"
      ]
    },
    {
      "cell_type": "markdown",
      "metadata": {
        "id": "y1HQncWzEXPn"
      },
      "source": [
        "##QMainWindow_class"
      ]
    },
    {
      "cell_type": "code",
      "execution_count": null,
      "metadata": {
        "colab": {
          "base_uri": "https://localhost:8080/"
        },
        "id": "jwz0MRxBEXds",
        "outputId": "5b7f58fc-7570-4b71-eec6-a6db1e8ce151"
      },
      "outputs": [
        {
          "name": "stdout",
          "output_type": "stream",
          "text": [
            "qt.qpa.xcb: could not connect to display \n",
            "qt.qpa.plugin: Could not load the Qt platform plugin \"xcb\" in \"\" even though it was found.\n",
            "This application failed to start because no Qt platform plugin could be initialized. Reinstalling the application may fix this problem.\n",
            "\n",
            "Available platform plugins are: eglfs, linuxfb, minimal, minimalegl, offscreen, vnc, xcb.\n",
            "\n"
          ]
        }
      ],
      "source": [
        "!python 03_PyQt5_QMainWindow_class.py"
      ]
    },
    {
      "cell_type": "code",
      "execution_count": null,
      "metadata": {
        "id": "PpOINIEEEXdt"
      },
      "outputs": [],
      "source": [
        "from PyQt5.QtWidgets import QApplication, QMainWindow, QPushButton\n",
        "\n",
        "class CustomMainWindow(QMainWindow): #메인윈도우 상속\n",
        "    def __init__(self):\n",
        "        super().__init__()\n",
        "        self.initUI()\n",
        "\n",
        "    def initUI(self):\n",
        "        self.setWindowTitle('Event Handling')\n",
        "        self.button = QPushButton('Press Me', self)\n",
        "        self.button.clicked.connect(self.on_button_clicked)\n",
        "        self.setCentralWidget(self.button)\n",
        "\n",
        "    def on_button_clicked(self):\n",
        "        print(\"Button clicked!\")\n",
        "\n",
        "app = QApplication([])\n",
        "mainWin = CustomMainWindow()\n",
        "mainWin.show()\n",
        "app.exec_()"
      ]
    },
    {
      "cell_type": "markdown",
      "metadata": {
        "id": "pmFqax8tEYMB"
      },
      "source": [
        "##QMainWindow_messageBox"
      ]
    },
    {
      "cell_type": "code",
      "execution_count": 16,
      "metadata": {
        "colab": {
          "base_uri": "https://localhost:8080/"
        },
        "id": "6KojQ_EYEYVu",
        "outputId": "5b7f58fc-7570-4b71-eec6-a6db1e8ce151"
      },
      "outputs": [
        {
          "name": "stdout",
          "output_type": "stream",
          "text": [
            "^C\n"
          ]
        }
      ],
      "source": [
        "!python3 04_PyQt5_QMainWindow_messageBox.py"
      ]
    },
    {
      "cell_type": "code",
      "execution_count": null,
      "metadata": {
        "id": "8rGbcpxzEYVu"
      },
      "outputs": [],
      "source": [
        "from PyQt5.QtWidgets import QApplication, QMainWindow, QMessageBox, QPushButton\n",
        "\n",
        "class ExampleApp(QMainWindow):\n",
        "    def __init__(self):\n",
        "        super().__init__()\n",
        "        self.initUI()\n",
        "\n",
        "    def initUI(self):\n",
        "        self.setWindowTitle('Dialogs Example')\n",
        "        self.button = QPushButton('Open Dialog', self)\n",
        "        self.button.clicked.connect(self.showDialog)\n",
        "        self.setCentralWidget(self.button)\n",
        "\n",
        "    def showDialog(self):\n",
        "        QMessageBox.information(self, 'Message', 'This is a dialog.')\n",
        "\n",
        "app = QApplication([])\n",
        "ex = ExampleApp()\n",
        "ex.show()\n",
        "app.exec_()"
      ]
    },
    {
      "attachments": {
        "image.png": {
          "image/png": "[encoded data removed]"
        }
      },
      "cell_type": "markdown",
      "metadata": {},
      "source": [
        "![image.png](attachment:image.png)"
      ]
    },
    {
      "cell_type": "markdown",
      "metadata": {
        "id": "ga8hj0LfEY7p"
      },
      "source": [
        "##button01_setGeometry"
      ]
    },
    {
      "cell_type": "code",
      "execution_count": 21,
      "metadata": {
        "colab": {
          "base_uri": "https://localhost:8080/"
        },
        "id": "5Wn0wN8ZEZNI",
        "outputId": "5b7f58fc-7570-4b71-eec6-a6db1e8ce151"
      },
      "outputs": [
        {
          "name": "stdout",
          "output_type": "stream",
          "text": [
            "^C\n"
          ]
        }
      ],
      "source": [
        "!python3 05_button01_setGeometry.py"
      ]
    },
    {
      "cell_type": "code",
      "execution_count": null,
      "metadata": {
        "id": "afZjQqy-EZNI"
      },
      "outputs": [],
      "source": [
        "import sys\n",
        "\n",
        "from PyQt5.QtWidgets import QApplication, QWidget, QPushButton\n",
        "class MyWindow(QWidget):\n",
        "    def __init__(self):\n",
        "        super().__init__()\n",
        "        self.initUI()\n",
        "    def initUI(self):\n",
        "        self.setGeometry(100, 100, 300, 200)  # 창 위치와 크기 설정\n",
        "        self.setWindowTitle('PyQt5 Button Example')  # 창 제목 설정\n",
        "\n",
        "        # 버튼 생성\n",
        "        btn = QPushButton('Click Me!', self)\n",
        "        btn.setGeometry(100, 50, 100, 30)  # 버튼 위치와 크기 설정\n",
        "\n",
        "        # 버튼 클릭 시 이벤트 핸들러 연결\n",
        "        btn.clicked.connect(self.buttonClicked)\n",
        "\n",
        "    def buttonClicked(self):\n",
        "        print('Button Clicked!')\n",
        "\n",
        "if __name__ == '__main__':\n",
        "    app = QApplication(sys.argv)\n",
        "    window = MyWindow()\n",
        "    window.show()\n",
        "    sys.exit(app.exec_())"
      ]
    },
    {
      "cell_type": "markdown",
      "metadata": {
        "id": "c-wipi7yEZ26"
      },
      "source": [
        "##button02_QVBoxLayout_addWidget"
      ]
    },
    {
      "cell_type": "code",
      "execution_count": 23,
      "metadata": {
        "colab": {
          "base_uri": "https://localhost:8080/"
        },
        "id": "Raanl9O5EaBe",
        "outputId": "5b7f58fc-7570-4b71-eec6-a6db1e8ce151"
      },
      "outputs": [
        {
          "name": "stdout",
          "output_type": "stream",
          "text": [
            "Button 3 Clicked!\n"
          ]
        }
      ],
      "source": [
        "!python3 06_button02_QVBoxLayout_addWidget.py"
      ]
    },
    {
      "cell_type": "code",
      "execution_count": null,
      "metadata": {
        "id": "PDGRXZazEaBf"
      },
      "outputs": [],
      "source": [
        "import sys\n",
        "from PyQt5.QtWidgets import QApplication, QWidget, QPushButton, QVBoxLayout\n",
        "\n",
        "class MyWindow(QWidget):\n",
        "    def __init__(self):\n",
        "        super().__init__()\n",
        "        self.initUI()\n",
        "\n",
        "    def initUI(self):\n",
        "        self.setWindowTitle('PyQt5 Multiple Buttons Example')  # 창 제목 설정\n",
        "        layout = QVBoxLayout()  # 수직 레이아웃 생성\n",
        "\n",
        "        # 첫 번째 버튼 생성\n",
        "        btn1 = QPushButton('Button 1', self)\n",
        "        btn1.clicked.connect(lambda: self.buttonClicked(1))  # 버튼 클릭 시 이벤트 핸들러 연결\n",
        "        layout.addWidget(btn1)  # 레이아웃에 버튼 추가\n",
        "\n",
        "        # 두 번째 버튼 생성\n",
        "        btn2 = QPushButton('Button 2', self)\n",
        "        btn2.clicked.connect(lambda: self.buttonClicked(2))  # 버튼 클릭 시 이벤트 핸들러 연결\n",
        "        layout.addWidget(btn2)  # 레이아웃에 버튼 추가\n",
        "        self.setLayout(layout)  # 레이아웃 설정\n",
        "\n",
        "    def buttonClicked(self, index):\n",
        "        print('Button', index, 'Clicked!')\n",
        "\n",
        "if __name__ == '__main__':\n",
        "    app = QApplication(sys.argv)\n",
        "    window = MyWindow()\n",
        "    window.show()\n",
        "    sys.exit(app.exec_())"
      ]
    },
    {
      "cell_type": "markdown",
      "metadata": {
        "id": "FAQDZP_3Ea1A"
      },
      "source": [
        "##quit_button2"
      ]
    },
    {
      "cell_type": "code",
      "execution_count": 26,
      "metadata": {
        "colab": {
          "base_uri": "https://localhost:8080/"
        },
        "id": "ONSZXW_tEbB4",
        "outputId": "5b7f58fc-7570-4b71-eec6-a6db1e8ce151"
      },
      "outputs": [],
      "source": [
        "!python3 07_quit_button2.py"
      ]
    },
    {
      "cell_type": "code",
      "execution_count": null,
      "metadata": {
        "id": "eNLKqs8hEbB4"
      },
      "outputs": [],
      "source": [
        "import sys\n",
        "from PyQt5.QtWidgets import QApplication, QWidget, QPushButton, QVBoxLayout ,QMessageBox\n",
        "class MyWindow(QWidget):\n",
        "    def __init__(self):\n",
        "        super().__init__()\n",
        "        self.initUI()\n",
        "    def initUI(self):\n",
        "        self.setWindowTitle('PyQt5 Multiple Buttons Example')  # 창 제목 설정\n",
        "        layout = QVBoxLayout()  # 수직 레이아웃 생성\n",
        "\n",
        "        # 첫 번째 버튼 생성\n",
        "        btn1 = QPushButton('Button 1', self)\n",
        "        btn1.clicked.connect(lambda: self.buttonClicked(1))  # 버튼 클릭 시 이벤트 핸들러 연결\n",
        "        layout.addWidget(btn1)  # 레이아웃에 버튼 추가\n",
        "\n",
        "        # 두 번째 버튼 생성 - exit\n",
        "        btn2 = QPushButton('exit', self)\n",
        "        btn2.clicked.connect(self.quit_application)  # 버튼 클릭 시 이벤트 핸들러 연결\n",
        "        layout.addWidget(btn2)  # 레이아웃에 버튼 추가\n",
        "        self.setLayout(layout)  # 레이아웃 설정\n",
        "    def buttonClicked(self, index):\n",
        "        print('Button', index, 'Clicked!')\n",
        "    def quit_application(self):\n",
        "        # 강제 종료 다이얼로그 표시\n",
        "        reply = QMessageBox.question(self, '강제 종료', '프로그램을 강제로 종료하시겠습니까?',\n",
        "                                     QMessageBox.Yes | QMessageBox.No, QMessageBox.No)\n",
        "        if reply == QMessageBox.Yes:\n",
        "            # 사용자가 예를 선택하면 프로그램 종료\n",
        "            QApplication.quit()\n",
        "if __name__ == '__main__':\n",
        "    app = QApplication(sys.argv)\n",
        "    window = MyWindow()\n",
        "    window.show()\n",
        "    sys.exit(app.exec_())"
      ]
    },
    {
      "cell_type": "markdown",
      "metadata": {
        "id": "1INNMe_rEbpM"
      },
      "source": [
        "##button09_QGridLayout"
      ]
    },
    {
      "cell_type": "code",
      "execution_count": 27,
      "metadata": {
        "colab": {
          "base_uri": "https://localhost:8080/"
        },
        "id": "fUNY8eVzEb0N",
        "outputId": "5b7f58fc-7570-4b71-eec6-a6db1e8ce151"
      },
      "outputs": [
        {
          "name": "stdout",
          "output_type": "stream",
          "text": [
            "Button 1 Clicked!\n",
            "Button 2 Clicked!\n",
            "Button 3 Clicked!\n",
            "Button 4 Clicked!\n",
            "Button 9 Clicked!\n"
          ]
        }
      ],
      "source": [
        "!python3 08_button09_QGridLayout.py"
      ]
    },
    {
      "cell_type": "code",
      "execution_count": 29,
      "metadata": {},
      "outputs": [
        {
          "name": "stdout",
          "output_type": "stream",
          "text": [
            "[0, 1, 2]\n"
          ]
        }
      ],
      "source": [
        "print(list(range(3)))"
      ]
    },
    {
      "cell_type": "code",
      "execution_count": null,
      "metadata": {
        "id": "KTu6smX9Eb0N"
      },
      "outputs": [],
      "source": [
        "import sys\n",
        "from PyQt5.QtWidgets import QApplication, QWidget, QPushButton, QGridLayout\n",
        "\n",
        "class MyWindow(QWidget):\n",
        "    def __init__(self):\n",
        "        super().__init__()\n",
        "        self.initUI()\n",
        "\n",
        "    def initUI(self):\n",
        "        self.setWindowTitle('PyQt5 Grid of Buttons Example')  # 창 제목 설정\n",
        "        layout = QGridLayout()  # 그리드 레이아웃 생성\n",
        "        # 버튼을 생성하고 그리드에 추가\n",
        "        for i in range(3):\n",
        "            for j in range(3):\n",
        "                button = QPushButton(str(i * 3 + j + 1), self)  # 버튼 생성 및 텍스트 설정\n",
        "                button.clicked.connect(lambda checked, idx=i*3+j+1: self.buttonClicked(idx))  # 버튼 클릭 시 이벤트 핸들러 연결\n",
        "                layout.addWidget(button, i, j)  # 그리드에 버튼 추가\n",
        "        self.setLayout(layout)  # 레이아웃 설정\n",
        "\n",
        "    def buttonClicked(self, index):\n",
        "        print('Button', index, 'Clicked!')\n",
        "\n",
        "if __name__ == '__main__':\n",
        "    app = QApplication(sys.argv)\n",
        "    window = MyWindow()\n",
        "    window.show()\n",
        "    sys.exit(app.exec_())"
      ]
    },
    {
      "cell_type": "markdown",
      "metadata": {
        "id": "oOCqA6uEEczD"
      },
      "source": [
        "##QSlider_QProgressBar"
      ]
    },
    {
      "cell_type": "code",
      "execution_count": 30,
      "metadata": {
        "colab": {
          "base_uri": "https://localhost:8080/"
        },
        "id": "T1vAYhhMEc8o",
        "outputId": "5b7f58fc-7570-4b71-eec6-a6db1e8ce151"
      },
      "outputs": [],
      "source": [
        "!python3 09_PyQt5_QSlider_QProgressBar.py"
      ]
    },
    {
      "cell_type": "code",
      "execution_count": null,
      "metadata": {
        "id": "rkBfk0_EEc8p"
      },
      "outputs": [],
      "source": [
        "import sys\n",
        "from PyQt5.QtCore import Qt\n",
        "from PyQt5.QtWidgets import QApplication, QProgressBar, QSlider, QVBoxLayout, QWidget\n",
        "\n",
        "# Initialize the application\n",
        "app = QApplication(sys.argv)\n",
        "window = QWidget()\n",
        "window.setWindowTitle('QSlider and QProgressBar Example')\n",
        "\n",
        "# Create slider and progress bar\n",
        "slider = QSlider(Qt.Horizontal)\n",
        "progress_bar = QProgressBar()\n",
        "\n",
        "# Set the range of slider and progress bar\n",
        "slider.setRange(0, 100)\n",
        "progress_bar.setRange(0, 100)\n",
        "\n",
        "# Connect the slider's valueChanged signal to the progress bar's setValue slot\n",
        "slider.valueChanged.connect(progress_bar.setValue)\n",
        "\n",
        "# Layout widgets\n",
        "layout = QVBoxLayout()\n",
        "layout.addWidget(slider)\n",
        "layout.addWidget(progress_bar)\n",
        "window.setLayout(layout)\n",
        "\n",
        "# Show the window\n",
        "window.show()\n",
        "sys.exit(app.exec_())"
      ]
    },
    {
      "cell_type": "markdown",
      "metadata": {
        "id": "2_ZmWfEAEdgs"
      },
      "source": [
        "##QDateEdit"
      ]
    },
    {
      "cell_type": "code",
      "execution_count": 31,
      "metadata": {
        "colab": {
          "base_uri": "https://localhost:8080/"
        },
        "id": "fXQ7422IEdqS",
        "outputId": "5b7f58fc-7570-4b71-eec6-a6db1e8ce151"
      },
      "outputs": [],
      "source": [
        "!python3 10_PyQt5_QDateEdit.py"
      ]
    },
    {
      "cell_type": "code",
      "execution_count": null,
      "metadata": {
        "id": "UhcgMe2pEdqS"
      },
      "outputs": [],
      "source": [
        "import sys\n",
        "from PyQt5.QtWidgets import QApplication, QDateEdit, QVBoxLayout, QWidget\n",
        "\n",
        "app = QApplication(sys.argv)\n",
        "window = QWidget()\n",
        "window.setWindowTitle('QDateEdit Example')\n",
        "\n",
        "# Create a QDateEdit widget\n",
        "date_edit = QDateEdit()\n",
        "\n",
        "# Layout widgets\n",
        "layout = QVBoxLayout()\n",
        "layout.addWidget(date_edit)\n",
        "window.setLayout(layout)\n",
        "\n",
        "# Show the window\n",
        "window.show()\n",
        "sys.exit(app.exec_())"
      ]
    },
    {
      "cell_type": "markdown",
      "metadata": {
        "id": "-XKZalvhEeS3"
      },
      "source": [
        "##QListView"
      ]
    },
    {
      "cell_type": "code",
      "execution_count": 33,
      "metadata": {
        "colab": {
          "base_uri": "https://localhost:8080/"
        },
        "id": "EN7SNnOAEebo",
        "outputId": "5b7f58fc-7570-4b71-eec6-a6db1e8ce151"
      },
      "outputs": [],
      "source": [
        "!python3 11_PyQt5_QListView.py"
      ]
    },
    {
      "cell_type": "code",
      "execution_count": null,
      "metadata": {
        "id": "EilcdqBCEebp"
      },
      "outputs": [],
      "source": [
        "import sys\n",
        "from PyQt5.QtCore import QStringListModel\n",
        "from PyQt5.QtWidgets import QApplication, QListView, QVBoxLayout, QWidget\n",
        "\n",
        "app = QApplication(sys.argv)\n",
        "window = QWidget()\n",
        "window.setWindowTitle('QListView Example')\n",
        "\n",
        "# Create a QListView\n",
        "list_view = QListView()\n",
        "model = QStringListModel([\"Item 1\", \"Item 2\", \"Item 3\"])\n",
        "list_view.setModel(model)\n",
        "\n",
        "# Layout widgets\n",
        "layout = QVBoxLayout()\n",
        "layout.addWidget(list_view)\n",
        "window.setLayout(layout)\n",
        "\n",
        "# Show the window\n",
        "window.show()\n",
        "sys.exit(app.exec_())"
      ]
    },
    {
      "cell_type": "markdown",
      "metadata": {
        "id": "afTGTm9IEfMS"
      },
      "source": [
        "##QTableView"
      ]
    },
    {
      "cell_type": "code",
      "execution_count": 32,
      "metadata": {
        "colab": {
          "base_uri": "https://localhost:8080/"
        },
        "id": "jPHVw9k-EfW4",
        "outputId": "5b7f58fc-7570-4b71-eec6-a6db1e8ce151"
      },
      "outputs": [],
      "source": [
        "!python3 12_PyQt5_QTableView.py"
      ]
    },
    {
      "cell_type": "code",
      "execution_count": null,
      "metadata": {
        "id": "gtY9FXEzEfW4"
      },
      "outputs": [],
      "source": [
        "import sys\n",
        "from PyQt5.QtCore import QAbstractTableModel, QModelIndex, Qt, QVariant\n",
        "from PyQt5.QtWidgets import QApplication, QTableView, QVBoxLayout, QWidget\n",
        "class MyTableModel(QAbstractTableModel):\n",
        "    def rowCount(self, parent=QModelIndex()):\n",
        "        return 3  # Example row count\n",
        "    def columnCount(self, parent=QModelIndex()):\n",
        "        return 2  # Example column count\n",
        "    def data(self, index, role=Qt.DisplayRole):\n",
        "        if role == Qt.DisplayRole:\n",
        "            return QVariant(f\"Row {index.row()}, Column {index.column()}\")\n",
        "        return QVariant()\n",
        "app = QApplication(sys.argv)\n",
        "window = QWidget()\n",
        "window.setWindowTitle('QTableView Example')\n",
        "# Create a QTableView\n",
        "table_view = QTableView()\n",
        "model = MyTableModel()\n",
        "table_view.setModel(model)\n",
        "# Layout widgets\n",
        "layout = QVBoxLayout()\n",
        "layout.addWidget(table_view)\n",
        "window.setLayout(layout)\n",
        "# Show the window\n",
        "window.show()\n",
        "sys.exit(app.exec_())"
      ]
    },
    {
      "cell_type": "markdown",
      "metadata": {
        "id": "SpPVkB6feHp1"
      },
      "source": [
        "PyQT5_실습_01.ipynb\n",
        "- https://colab.research.google.com/drive/1kJFXss_RxEL6Uk9vLc02faI4dZ28JeUj?usp=sharing\n",
        "\n",
        "PyQT5_실습_02.ipynb\n",
        "- https://colab.research.google.com/drive/1elSsIUg9uVjM_4VdX3nsEfyb3NFy5qNW?usp=sharing\n",
        "\n",
        "PyQT5_실습_03.ipynb\n",
        "- https://colab.research.google.com/drive/1vht6nRBS9kf0kJhZslcYPJGGw9_OWuKr?usp=sharing\n",
        "\n",
        "PyQT5_실습_04.ipynb\n",
        "- https://colab.research.google.com/drive/1e6tdpEbS0DXDT_hafsPJ3YJkTnVfxdej?usp=sharing\n",
        "\n",
        "PyQT5_실습_05.ipynb\n",
        "- https://colab.research.google.com/drive/1erI8xgRglyXn6wpB4RXx_-v2SANAuxDR?usp=sharing"
      ]
    }
  ],
  "metadata": {
    "colab": {
      "provenance": []
    },
    "kernelspec": {
      "display_name": "Python 3",
      "name": "python3"
    },
    "language_info": {
      "codemirror_mode": {
        "name": "ipython",
        "version": 3
      },
      "file_extension": ".py",
      "mimetype": "text/x-python",
      "name": "python",
      "nbconvert_exporter": "python",
      "pygments_lexer": "ipython3",
      "version": "3.10.12"
    }
  },
  "nbformat": 4,
  "nbformat_minor": 0
}
