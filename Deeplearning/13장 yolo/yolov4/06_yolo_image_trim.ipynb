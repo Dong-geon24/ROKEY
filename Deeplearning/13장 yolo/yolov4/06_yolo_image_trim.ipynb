{
  "cells": [
    {
      "cell_type": "markdown",
      "metadata": {
        "id": "rTaBNG-aoyIQ"
      },
      "source": [
        "# racing 영상(racing.mp4)\n",
        "\n",
        "https://drive.google.com/file/d/1sqeMnctSO00LsktX7TuD_X3ccklleh0h/view?usp=drive_link"
      ]
    },
    {
      "cell_type": "code",
      "execution_count": null,
      "metadata": {
        "colab": {
          "base_uri": "https://localhost:8080/"
        },
        "id": "PRQili4Hoequ",
        "outputId": "b904fdf8-828c-4255-c3e8-54c1a6ba622d"
      },
      "outputs": [
        {
          "name": "stdout",
          "output_type": "stream",
          "text": [
            "Mounted at /content/drive\n"
          ]
        }
      ],
      "source": [
        "from google.colab import drive\n",
        "drive.mount('/content/drive')"
      ]
    },
    {
      "cell_type": "code",
      "execution_count": 1,
      "metadata": {
        "colab": {
          "base_uri": "https://localhost:8080/"
        },
        "id": "R3oeFZMXoxr0",
        "outputId": "5b2f94e2-c61b-4a62-f2c8-7be37d88d983"
      },
      "outputs": [
        {
          "name": "stdout",
          "output_type": "stream",
          "text": [
            "/home/arclab/ROCKY/Deeplearning/12장 object detection\n"
          ]
        }
      ],
      "source": [
        "!pwd"
      ]
    },
    {
      "cell_type": "code",
      "execution_count": 2,
      "metadata": {
        "id": "QcuhZO3Cn5t2"
      },
      "outputs": [],
      "source": [
        "!mkdir data"
      ]
    },
    {
      "cell_type": "code",
      "execution_count": 3,
      "metadata": {
        "id": "f3S9xXYlqSEF"
      },
      "outputs": [],
      "source": [
        "!ls ./data"
      ]
    },
    {
      "cell_type": "code",
      "execution_count": 4,
      "metadata": {
        "colab": {
          "base_uri": "https://localhost:8080/"
        },
        "id": "Zt_qGUBoech-",
        "outputId": "da24f25b-536d-4d01-862f-4d54600c79ee"
      },
      "outputs": [
        {
          "name": "stdout",
          "output_type": "stream",
          "text": [
            "racing.mp4\n"
          ]
        }
      ],
      "source": [
        "!ls ./data"
      ]
    },
    {
      "cell_type": "markdown",
      "metadata": {
        "id": "_qDAUJeztNZM"
      },
      "source": [
        "#이미지 트림"
      ]
    },
    {
      "cell_type": "code",
      "execution_count": 7,
      "metadata": {
        "colab": {
          "base_uri": "https://localhost:8080/"
        },
        "id": "hAdY-jT-oEhn",
        "outputId": "57a31a4e-70f5-4e5d-ad57-f7b329bd288e"
      },
      "outputs": [
        {
          "name": "stdout",
          "output_type": "stream",
          "text": [
            "ffmpeg version 4.4.2-0ubuntu0.22.04.1 Copyright (c) 2000-2021 the FFmpeg developers\n",
            "  built with gcc 11 (Ubuntu 11.2.0-19ubuntu1)\n",
            "  configuration: --prefix=/usr --extra-version=0ubuntu0.22.04.1 --toolchain=hardened --libdir=/usr/lib/x86_64-linux-gnu --incdir=/usr/include/x86_64-linux-gnu --arch=amd64 --enable-gpl --disable-stripping --enable-gnutls --enable-ladspa --enable-libaom --enable-libass --enable-libbluray --enable-libbs2b --enable-libcaca --enable-libcdio --enable-libcodec2 --enable-libdav1d --enable-libflite --enable-libfontconfig --enable-libfreetype --enable-libfribidi --enable-libgme --enable-libgsm --enable-libjack --enable-libmp3lame --enable-libmysofa --enable-libopenjpeg --enable-libopenmpt --enable-libopus --enable-libpulse --enable-librabbitmq --enable-librubberband --enable-libshine --enable-libsnappy --enable-libsoxr --enable-libspeex --enable-libsrt --enable-libssh --enable-libtheora --enable-libtwolame --enable-libvidstab --enable-libvorbis --enable-libvpx --enable-libwebp --enable-libx265 --enable-libxml2 --enable-libxvid --enable-libzimg --enable-libzmq --enable-libzvbi --enable-lv2 --enable-omx --enable-openal --enable-opencl --enable-opengl --enable-sdl2 --enable-pocketsphinx --enable-librsvg --enable-libmfx --enable-libdc1394 --enable-libdrm --enable-libiec61883 --enable-chromaprint --enable-frei0r --enable-libx264 --enable-shared\n",
            "  libavutil      56. 70.100 / 56. 70.100\n",
            "  libavcodec     58.134.100 / 58.134.100\n",
            "  libavformat    58. 76.100 / 58. 76.100\n",
            "  libavdevice    58. 13.100 / 58. 13.100\n",
            "  libavfilter     7.110.100 /  7.110.100\n",
            "  libswscale      5.  9.100 /  5.  9.100\n",
            "  libswresample   3.  9.100 /  3.  9.100\n",
            "  libpostproc    55.  9.100 / 55.  9.100\n",
            "Input #0, matroska,webm, from './data/racing.mp4':\n",
            "  Metadata:\n",
            "    encoder         : google/video-file\n",
            "  Duration: 00:07:27.12, start: 0.000000, bitrate: 598 kb/s\n",
            "  Stream #0:0(eng): Video: vp9 (Profile 0), yuv420p(tv, bt709), 854x480, SAR 1:1 DAR 427:240, 25 fps, 25 tbr, 1k tbn, 1k tbc (default)\n",
            "Stream mapping:\n",
            "  Stream #0:0 -> #0:0 (vp9 (native) -> h264 (libx264))\n",
            "Press [q] to stop, [?] for help\n",
            "\u001b[1;36m[libx264 @ 0x63c200ff7e40] \u001b[0musing SAR=1/1\n",
            "\u001b[1;36m[libx264 @ 0x63c200ff7e40] \u001b[0musing cpu capabilities: MMX2 SSE2Fast SSSE3 SSE4.2 AVX FMA3 BMI2 AVX2\n",
            "\u001b[1;36m[libx264 @ 0x63c200ff7e40] \u001b[0mprofile High, level 3.0, 4:2:0, 8-bit\n",
            "\u001b[1;36m[libx264 @ 0x63c200ff7e40] \u001b[0m264 - core 163 r3060 5db6aa6 - H.264/MPEG-4 AVC codec - Copyleft 2003-2021 - http://www.videolan.org/x264.html - options: cabac=1 ref=3 deblock=1:0:0 analyse=0x3:0x113 me=hex subme=7 psy=1 psy_rd=1.00:0.00 mixed_ref=1 me_range=16 chroma_me=1 trellis=1 8x8dct=1 cqm=0 deadzone=21,11 fast_pskip=1 chroma_qp_offset=-2 threads=15 lookahead_threads=2 sliced_threads=0 nr=0 decimate=1 interlaced=0 bluray_compat=0 constrained_intra=0 bframes=3 b_pyramid=2 b_adapt=1 b_bias=0 direct=1 weightb=1 open_gop=0 weightp=2 keyint=250 keyint_min=25 scenecut=40 intra_refresh=0 rc_lookahead=40 rc=crf mbtree=1 crf=23.0 qcomp=0.60 qpmin=0 qpmax=69 qpstep=4 ip_ratio=1.40 aq=1:1.00\n",
            "Output #0, mp4, to './data/racing_trim.mp4':\n",
            "  Metadata:\n",
            "    encoder         : Lavf58.76.100\n",
            "  Stream #0:0(eng): Video: h264 (avc1 / 0x31637661), yuv420p(tv, bt709, progressive), 854x480 [SAR 1:1 DAR 427:240], q=2-31, 25 fps, 12800 tbn (default)\n",
            "    Metadata:\n",
            "      encoder         : Lavc58.134.100 libx264\n",
            "    Side data:\n",
            "      cpb: bitrate max/min/avg: 0/0/0 buffer size: 0 vbv_delay: N/A\n",
            "frame=  125 fps=0.0 q=-1.0 Lsize=     727kB time=00:00:04.88 bitrate=1220.0kbits/s speed=  13x    \n",
            "video:725kB audio:0kB subtitle:0kB other streams:0kB global headers:0kB muxing overhead: 0.302445%\n",
            "\u001b[1;36m[libx264 @ 0x63c200ff7e40] \u001b[0mframe I:2     Avg QP:21.26  size: 47062\n",
            "\u001b[1;36m[libx264 @ 0x63c200ff7e40] \u001b[0mframe P:43    Avg QP:23.45  size:  9339\n",
            "\u001b[1;36m[libx264 @ 0x63c200ff7e40] \u001b[0mframe B:80    Avg QP:27.66  size:  3069\n",
            "\u001b[1;36m[libx264 @ 0x63c200ff7e40] \u001b[0mconsecutive B-frames: 10.4%  4.8% 24.0% 60.8%\n",
            "\u001b[1;36m[libx264 @ 0x63c200ff7e40] \u001b[0mmb I  I16..4:  5.1% 54.3% 40.6%\n",
            "\u001b[1;36m[libx264 @ 0x63c200ff7e40] \u001b[0mmb P  I16..4:  6.9% 14.4%  1.8%  P16..4: 34.3% 14.3%  8.0%  0.0%  0.0%    skip:20.3%\n",
            "\u001b[1;36m[libx264 @ 0x63c200ff7e40] \u001b[0mmb B  I16..4:  1.2%  2.4%  0.2%  B16..8: 45.1%  6.5%  1.5%  direct: 1.7%  skip:41.3%  L0:51.0% L1:41.5% BI: 7.5%\n",
            "\u001b[1;36m[libx264 @ 0x63c200ff7e40] \u001b[0m8x8 transform intra:61.7% inter:75.1%\n",
            "\u001b[1;36m[libx264 @ 0x63c200ff7e40] \u001b[0mcoded y,uvDC,uvAC intra: 48.2% 48.1% 17.3% inter: 13.5% 9.7% 1.4%\n",
            "\u001b[1;36m[libx264 @ 0x63c200ff7e40] \u001b[0mi16 v,h,dc,p: 12% 42%  6% 39%\n",
            "\u001b[1;36m[libx264 @ 0x63c200ff7e40] \u001b[0mi8 v,h,dc,ddl,ddr,vr,hd,vl,hu: 18% 37% 19%  4%  3%  3%  3%  4% 10%\n",
            "\u001b[1;36m[libx264 @ 0x63c200ff7e40] \u001b[0mi4 v,h,dc,ddl,ddr,vr,hd,vl,hu: 25% 33% 12%  5%  5%  4%  5%  5%  6%\n",
            "\u001b[1;36m[libx264 @ 0x63c200ff7e40] \u001b[0mi8c dc,h,v,p: 54% 26% 15%  6%\n",
            "\u001b[1;36m[libx264 @ 0x63c200ff7e40] \u001b[0mWeighted P-Frames: Y:0.0% UV:0.0%\n",
            "\u001b[1;36m[libx264 @ 0x63c200ff7e40] \u001b[0mref P L0: 68.2% 17.1%  9.9%  4.8%\n",
            "\u001b[1;36m[libx264 @ 0x63c200ff7e40] \u001b[0mref B L0: 94.2%  4.7%  1.1%\n",
            "\u001b[1;36m[libx264 @ 0x63c200ff7e40] \u001b[0mref B L1: 98.1%  1.9%\n",
            "\u001b[1;36m[libx264 @ 0x63c200ff7e40] \u001b[0mkb/s:1186.02\n"
          ]
        }
      ],
      "source": [
        "!ffmpeg -i ./data/racing.mp4 -ss 00:00 -to 00:05 ./data/racing_trim.mp4"
      ]
    },
    {
      "cell_type": "code",
      "execution_count": 8,
      "metadata": {
        "colab": {
          "base_uri": "https://localhost:8080/"
        },
        "id": "Yd03LxH7kBpY",
        "outputId": "064af2cc-0e5e-4c94-f9f7-0947dca810bd"
      },
      "outputs": [
        {
          "name": "stdout",
          "output_type": "stream",
          "text": [
            "ffmpeg version 4.4.2-0ubuntu0.22.04.1 Copyright (c) 2000-2021 the FFmpeg developers\n",
            "  built with gcc 11 (Ubuntu 11.2.0-19ubuntu1)\n",
            "  configuration: --prefix=/usr --extra-version=0ubuntu0.22.04.1 --toolchain=hardened --libdir=/usr/lib/x86_64-linux-gnu --incdir=/usr/include/x86_64-linux-gnu --arch=amd64 --enable-gpl --disable-stripping --enable-gnutls --enable-ladspa --enable-libaom --enable-libass --enable-libbluray --enable-libbs2b --enable-libcaca --enable-libcdio --enable-libcodec2 --enable-libdav1d --enable-libflite --enable-libfontconfig --enable-libfreetype --enable-libfribidi --enable-libgme --enable-libgsm --enable-libjack --enable-libmp3lame --enable-libmysofa --enable-libopenjpeg --enable-libopenmpt --enable-libopus --enable-libpulse --enable-librabbitmq --enable-librubberband --enable-libshine --enable-libsnappy --enable-libsoxr --enable-libspeex --enable-libsrt --enable-libssh --enable-libtheora --enable-libtwolame --enable-libvidstab --enable-libvorbis --enable-libvpx --enable-libwebp --enable-libx265 --enable-libxml2 --enable-libxvid --enable-libzimg --enable-libzmq --enable-libzvbi --enable-lv2 --enable-omx --enable-openal --enable-opencl --enable-opengl --enable-sdl2 --enable-pocketsphinx --enable-librsvg --enable-libmfx --enable-libdc1394 --enable-libdrm --enable-libiec61883 --enable-chromaprint --enable-frei0r --enable-libx264 --enable-shared\n",
            "  libavutil      56. 70.100 / 56. 70.100\n",
            "  libavcodec     58.134.100 / 58.134.100\n",
            "  libavformat    58. 76.100 / 58. 76.100\n",
            "  libavdevice    58. 13.100 / 58. 13.100\n",
            "  libavfilter     7.110.100 /  7.110.100\n",
            "  libswscale      5.  9.100 /  5.  9.100\n",
            "  libswresample   3.  9.100 /  3.  9.100\n",
            "  libpostproc    55.  9.100 / 55.  9.100\n",
            "Input #0, matroska,webm, from './data/racing.mp4':\n",
            "  Metadata:\n",
            "    encoder         : google/video-file\n",
            "  Duration: 00:07:27.12, start: 0.000000, bitrate: 598 kb/s\n",
            "  Stream #0:0(eng): Video: vp9 (Profile 0), yuv420p(tv, bt709), 854x480, SAR 1:1 DAR 427:240, 25 fps, 25 tbr, 1k tbn, 1k tbc (default)\n",
            "Stream mapping:\n",
            "  Stream #0:0 -> #0:0 (vp9 (native) -> h264 (libx264))\n",
            "Press [q] to stop, [?] for help\n",
            "\u001b[1;36m[libx264 @ 0x5a61f91bbe40] \u001b[0musing SAR=1/1\n",
            "\u001b[1;36m[libx264 @ 0x5a61f91bbe40] \u001b[0musing cpu capabilities: MMX2 SSE2Fast SSSE3 SSE4.2 AVX FMA3 BMI2 AVX2\n",
            "\u001b[1;36m[libx264 @ 0x5a61f91bbe40] \u001b[0mprofile High, level 3.0, 4:2:0, 8-bit\n",
            "\u001b[1;36m[libx264 @ 0x5a61f91bbe40] \u001b[0m264 - core 163 r3060 5db6aa6 - H.264/MPEG-4 AVC codec - Copyleft 2003-2021 - http://www.videolan.org/x264.html - options: cabac=1 ref=3 deblock=1:0:0 analyse=0x3:0x113 me=hex subme=7 psy=1 psy_rd=1.00:0.00 mixed_ref=1 me_range=16 chroma_me=1 trellis=1 8x8dct=1 cqm=0 deadzone=21,11 fast_pskip=1 chroma_qp_offset=-2 threads=15 lookahead_threads=2 sliced_threads=0 nr=0 decimate=1 interlaced=0 bluray_compat=0 constrained_intra=0 bframes=3 b_pyramid=2 b_adapt=1 b_bias=0 direct=1 weightb=1 open_gop=0 weightp=2 keyint=250 keyint_min=25 scenecut=40 intra_refresh=0 rc_lookahead=40 rc=crf mbtree=1 crf=23.0 qcomp=0.60 qpmin=0 qpmax=69 qpstep=4 ip_ratio=1.40 aq=1:1.00\n",
            "Output #0, mp4, to './a.mp4':\n",
            "  Metadata:\n",
            "    encoder         : Lavf58.76.100\n",
            "  Stream #0:0(eng): Video: h264 (avc1 / 0x31637661), yuv420p(tv, bt709, progressive), 854x480 [SAR 1:1 DAR 427:240], q=2-31, 25 fps, 12800 tbn (default)\n",
            "    Metadata:\n",
            "      encoder         : Lavc58.134.100 libx264\n",
            "    Side data:\n",
            "      cpb: bitrate max/min/avg: 0/0/0 buffer size: 0 vbv_delay: N/A\n",
            "frame=  500 fps=170 q=-1.0 Lsize=    2959kB time=00:00:19.88 bitrate=1219.3kbits/s speed=6.76x    \n",
            "video:2953kB audio:0kB subtitle:0kB other streams:0kB global headers:0kB muxing overhead: 0.209290%\n",
            "\u001b[1;36m[libx264 @ 0x5a61f91bbe40] \u001b[0mframe I:4     Avg QP:21.15  size: 42123\n",
            "\u001b[1;36m[libx264 @ 0x5a61f91bbe40] \u001b[0mframe P:194   Avg QP:23.56  size:  9016\n",
            "\u001b[1;36m[libx264 @ 0x5a61f91bbe40] \u001b[0mframe B:302   Avg QP:26.29  size:  3660\n",
            "\u001b[1;36m[libx264 @ 0x5a61f91bbe40] \u001b[0mconsecutive B-frames: 15.0%  8.0% 16.2% 60.8%\n",
            "\u001b[1;36m[libx264 @ 0x5a61f91bbe40] \u001b[0mmb I  I16..4: 10.1% 54.4% 35.4%\n",
            "\u001b[1;36m[libx264 @ 0x5a61f91bbe40] \u001b[0mmb P  I16..4:  9.7% 17.7%  1.9%  P16..4: 34.6% 11.4%  5.7%  0.0%  0.0%    skip:18.8%\n",
            "\u001b[1;36m[libx264 @ 0x5a61f91bbe40] \u001b[0mmb B  I16..4:  2.2%  3.7%  0.2%  B16..8: 41.1%  8.4%  1.8%  direct: 2.5%  skip:40.0%  L0:49.0% L1:42.8% BI: 8.2%\n",
            "\u001b[1;36m[libx264 @ 0x5a61f91bbe40] \u001b[0m8x8 transform intra:59.9% inter:79.4%\n",
            "\u001b[1;36m[libx264 @ 0x5a61f91bbe40] \u001b[0mcoded y,uvDC,uvAC intra: 37.9% 31.8% 10.3% inter: 17.3% 12.7% 2.0%\n",
            "\u001b[1;36m[libx264 @ 0x5a61f91bbe40] \u001b[0mi16 v,h,dc,p: 12% 56%  8% 24%\n",
            "\u001b[1;36m[libx264 @ 0x5a61f91bbe40] \u001b[0mi8 v,h,dc,ddl,ddr,vr,hd,vl,hu: 11% 44% 22%  4%  2%  2%  5%  2%  8%\n",
            "\u001b[1;36m[libx264 @ 0x5a61f91bbe40] \u001b[0mi4 v,h,dc,ddl,ddr,vr,hd,vl,hu: 18% 37% 14%  4%  7%  5%  7%  3%  5%\n",
            "\u001b[1;36m[libx264 @ 0x5a61f91bbe40] \u001b[0mi8c dc,h,v,p: 61% 27%  9%  3%\n",
            "\u001b[1;36m[libx264 @ 0x5a61f91bbe40] \u001b[0mWeighted P-Frames: Y:3.1% UV:1.0%\n",
            "\u001b[1;36m[libx264 @ 0x5a61f91bbe40] \u001b[0mref P L0: 63.2% 19.8% 11.7%  5.1%  0.1%\n",
            "\u001b[1;36m[libx264 @ 0x5a61f91bbe40] \u001b[0mref B L0: 89.7%  8.1%  2.1%\n",
            "\u001b[1;36m[libx264 @ 0x5a61f91bbe40] \u001b[0mref B L1: 96.5%  3.5%\n",
            "\u001b[1;36m[libx264 @ 0x5a61f91bbe40] \u001b[0mkb/s:1209.15\n"
          ]
        }
      ],
      "source": [
        "!ffmpeg -i ./data/racing.mp4 -ss 02:50 -to 03:10 ./data/a.mp4"
      ]
    },
    {
      "cell_type": "code",
      "execution_count": 10,
      "metadata": {
        "colab": {
          "base_uri": "https://localhost:8080/"
        },
        "id": "GU7G6juxWUOd",
        "outputId": "d4b56e8f-b1a6-40ac-f08d-0407da4d3c6c"
      },
      "outputs": [
        {
          "name": "stdout",
          "output_type": "stream",
          "text": [
            "a.mp4  racing.mp4  racing_trim.mp4\n"
          ]
        }
      ],
      "source": [
        "!ls ./data"
      ]
    },
    {
      "cell_type": "markdown",
      "metadata": {
        "id": "acSabIX1j5cx"
      },
      "source": [
        "## [ffmpeg로 동영상에서 프레임 추출하기](https://velog.io/@gml_01/ffmpeg%EB%A1%9C-%EB%8F%99%EC%98%81%EC%83%81%EC%97%90%EC%84%9C-%ED%94%84%EB%A0%88%EC%9E%84-%EC%B6%94%EC%B6%9C%ED%95%98%EA%B8%B0)"
      ]
    },
    {
      "cell_type": "markdown",
      "metadata": {
        "id": "AEByhyHQifR-"
      },
      "source": [
        "\n",
        "```\n",
        "ffmpeg -ss [동영상_시작시간] -i [인풋_동영상_경로] -r [초당_추출할_장수] -f image2 [이미지_이름]\n",
        "```\n"
      ]
    },
    {
      "cell_type": "code",
      "execution_count": 11,
      "metadata": {
        "id": "aCAMTFMzjSlL"
      },
      "outputs": [],
      "source": [
        "!mkdir ./data/picture"
      ]
    },
    {
      "cell_type": "code",
      "execution_count": 12,
      "metadata": {
        "colab": {
          "base_uri": "https://localhost:8080/"
        },
        "id": "epkDd2hAiGVf",
        "outputId": "8bafb0ce-0527-4108-ac5f-1ca8618c95b3"
      },
      "outputs": [
        {
          "name": "stdout",
          "output_type": "stream",
          "text": [
            "ffmpeg version 4.4.2-0ubuntu0.22.04.1 Copyright (c) 2000-2021 the FFmpeg developers\n",
            "  built with gcc 11 (Ubuntu 11.2.0-19ubuntu1)\n",
            "  configuration: --prefix=/usr --extra-version=0ubuntu0.22.04.1 --toolchain=hardened --libdir=/usr/lib/x86_64-linux-gnu --incdir=/usr/include/x86_64-linux-gnu --arch=amd64 --enable-gpl --disable-stripping --enable-gnutls --enable-ladspa --enable-libaom --enable-libass --enable-libbluray --enable-libbs2b --enable-libcaca --enable-libcdio --enable-libcodec2 --enable-libdav1d --enable-libflite --enable-libfontconfig --enable-libfreetype --enable-libfribidi --enable-libgme --enable-libgsm --enable-libjack --enable-libmp3lame --enable-libmysofa --enable-libopenjpeg --enable-libopenmpt --enable-libopus --enable-libpulse --enable-librabbitmq --enable-librubberband --enable-libshine --enable-libsnappy --enable-libsoxr --enable-libspeex --enable-libsrt --enable-libssh --enable-libtheora --enable-libtwolame --enable-libvidstab --enable-libvorbis --enable-libvpx --enable-libwebp --enable-libx265 --enable-libxml2 --enable-libxvid --enable-libzimg --enable-libzmq --enable-libzvbi --enable-lv2 --enable-omx --enable-openal --enable-opencl --enable-opengl --enable-sdl2 --enable-pocketsphinx --enable-librsvg --enable-libmfx --enable-libdc1394 --enable-libdrm --enable-libiec61883 --enable-chromaprint --enable-frei0r --enable-libx264 --enable-shared\n",
            "  libavutil      56. 70.100 / 56. 70.100\n",
            "  libavcodec     58.134.100 / 58.134.100\n",
            "  libavformat    58. 76.100 / 58. 76.100\n",
            "  libavdevice    58. 13.100 / 58. 13.100\n",
            "  libavfilter     7.110.100 /  7.110.100\n",
            "  libswscale      5.  9.100 /  5.  9.100\n",
            "  libswresample   3.  9.100 /  3.  9.100\n",
            "  libpostproc    55.  9.100 / 55.  9.100\n",
            "Input #0, mov,mp4,m4a,3gp,3g2,mj2, from './data/racing_trim.mp4':\n",
            "  Metadata:\n",
            "    major_brand     : isom\n",
            "    minor_version   : 512\n",
            "    compatible_brands: isomiso2avc1mp41\n",
            "    encoder         : Lavf58.76.100\n",
            "  Duration: 00:00:05.00, start: 0.000000, bitrate: 1190 kb/s\n",
            "  Stream #0:0(eng): Video: h264 (High) (avc1 / 0x31637661), yuv420p(tv, bt709), 854x480 [SAR 1:1 DAR 427:240], 1187 kb/s, 25 fps, 25 tbr, 12800 tbn, 50 tbc (default)\n",
            "    Metadata:\n",
            "      handler_name    : VideoHandler\n",
            "      vendor_id       : [0][0][0][0]\n",
            "Stream mapping:\n",
            "  Stream #0:0 -> #0:0 (h264 (native) -> mjpeg (native))\n",
            "Press [q] to stop, [?] for help\n",
            "\u001b[1;34m[swscaler @ 0x5dbf642df2c0] \u001b[0m\u001b[0;33mdeprecated pixel format used, make sure you did set range correctly\n",
            "\u001b[0mOutput #0, image2, to './data/picture/test-%d.jpg':\n",
            "  Metadata:\n",
            "    major_brand     : isom\n",
            "    minor_version   : 512\n",
            "    compatible_brands: isomiso2avc1mp41\n",
            "    encoder         : Lavf58.76.100\n",
            "  Stream #0:0(eng): Video: mjpeg, yuvj420p(pc, bt709, progressive), 854x480 [SAR 1:1 DAR 427:240], q=2-31, 200 kb/s, 10 fps, 10 tbn (default)\n",
            "    Metadata:\n",
            "      handler_name    : VideoHandler\n",
            "      vendor_id       : [0][0][0][0]\n",
            "      encoder         : Lavc58.134.100 mjpeg\n",
            "    Side data:\n",
            "      cpb: bitrate max/min/avg: 0/0/200000 buffer size: 0 vbv_delay: N/A\n",
            "frame=   52 fps=0.0 q=24.8 Lsize=N/A time=00:00:05.20 bitrate=N/A dup=0 drop=73 speed=44.1x    \n",
            "video:1071kB audio:0kB subtitle:0kB other streams:0kB global headers:0kB muxing overhead: unknown\n"
          ]
        }
      ],
      "source": [
        "#!ffmpeg -ss 00:00:0 -i /content/data/racing.mp4 -r 10 -f image2 /content/data/picture/test-%d.jpg\n",
        "!ffmpeg -ss 00:00:0 -i ./data/racing_trim.mp4 -r 10 -f image2 ./data/picture/test-%d.jpg"
      ]
    }
  ],
  "metadata": {
    "accelerator": "GPU",
    "colab": {
      "provenance": []
    },
    "kernelspec": {
      "display_name": "Python 3",
      "name": "python3"
    },
    "language_info": {
      "codemirror_mode": {
        "name": "ipython",
        "version": 3
      },
      "file_extension": ".py",
      "mimetype": "text/x-python",
      "name": "python",
      "nbconvert_exporter": "python",
      "pygments_lexer": "ipython3",
      "version": "3.10.12"
    }
  },
  "nbformat": 4,
  "nbformat_minor": 0
}
