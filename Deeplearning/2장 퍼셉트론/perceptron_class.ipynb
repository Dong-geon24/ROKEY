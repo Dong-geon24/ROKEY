{
  "cells": [
    {
      "cell_type": "code",
      "execution_count": null,
      "metadata": {
        "id": "0PJ837iJ0NYz"
      },
      "outputs": [],
      "source": [
        "import numpy as np\n",
        "\n",
        "class Perceptron:\n",
        "    def __init__(self,w1,w2,b1):\n",
        "        self.w1 = w1\n",
        "        self.w2 = w2\n",
        "        self.b1 = b1\n",
        "\n",
        "    #자동으로 매칭되는 특별한 메소드\n",
        "    def __call__(self, x1, x2):\n",
        "        x = np.array([x1, x2])\n",
        "        w = np.array([self.w1, self.w2])\n",
        "\n",
        "        tmp = np.sum(x*w)+self.b1\n",
        "\n",
        "        if tmp <= 0:\n",
        "            return 0\n",
        "        else:\n",
        "            return 1"
      ]
    },
    {
      "cell_type": "code",
      "execution_count": null,
      "metadata": {
        "id": "tX6xJZG70NY0"
      },
      "outputs": [],
      "source": [
        "And = Perceptron(0.5,0.5,-0.7)"
      ]
    },
    {
      "cell_type": "code",
      "execution_count": null,
      "metadata": {
        "id": "bNljuhye0NY0"
      },
      "outputs": [],
      "source": [
        "Or = Perceptron(0.5,0.5,-0.2)"
      ]
    },
    {
      "cell_type": "code",
      "execution_count": null,
      "metadata": {
        "id": "ZiSOnenf0NY0"
      },
      "outputs": [],
      "source": [
        "Nand = Perceptron(-0.5,-0.5,0.7)"
      ]
    },
    {
      "cell_type": "code",
      "execution_count": null,
      "metadata": {
        "id": "i79FKRnu0NY0"
      },
      "outputs": [],
      "source": [
        "Nor = Perceptron(-0.5,-0.5,0.2)"
      ]
    },
    {
      "cell_type": "code",
      "execution_count": null,
      "metadata": {
        "colab": {
          "base_uri": "https://localhost:8080/"
        },
        "id": "-lJjyHlL0NY1",
        "outputId": "66ce289c-b974-4d79-c872-ac8d9af2bdb4"
      },
      "outputs": [
        {
          "name": "stdout",
          "output_type": "stream",
          "text": [
            "(0, 0) -> 0\n",
            "(1, 0) -> 0\n",
            "(0, 1) -> 0\n",
            "(1, 1) -> 1\n"
          ]
        }
      ],
      "source": [
        "for xs in [(0, 0), (1, 0), (0, 1), (1, 1)]:\n",
        "    y = And(xs[0],xs[1])\n",
        "\n",
        "    print(str(xs) + \" -> \" + str(y))"
      ]
    },
    {
      "cell_type": "code",
      "execution_count": null,
      "metadata": {
        "colab": {
          "base_uri": "https://localhost:8080/"
        },
        "id": "hSPai4Ww0NY1",
        "outputId": "5de3d24f-c825-41cb-845b-6dc8fb8d829b"
      },
      "outputs": [
        {
          "name": "stdout",
          "output_type": "stream",
          "text": [
            "(0, 0) -> 0\n",
            "(1, 0) -> 1\n",
            "(0, 1) -> 1\n",
            "(1, 1) -> 1\n"
          ]
        }
      ],
      "source": [
        "for xs in [(0, 0), (1, 0), (0, 1), (1, 1)]:\n",
        "    y = Or(xs[0],xs[1])\n",
        "\n",
        "    print(str(xs) + \" -> \" + str(y))"
      ]
    },
    {
      "cell_type": "code",
      "execution_count": null,
      "metadata": {
        "colab": {
          "base_uri": "https://localhost:8080/"
        },
        "id": "8v8Uqb-C0NY2",
        "outputId": "678c9d34-94f2-44f7-8450-81ef5b6325d2"
      },
      "outputs": [
        {
          "name": "stdout",
          "output_type": "stream",
          "text": [
            "(0, 0) -> 1\n",
            "(1, 0) -> 1\n",
            "(0, 1) -> 1\n",
            "(1, 1) -> 0\n"
          ]
        }
      ],
      "source": [
        "for xs in [(0, 0), (1, 0), (0, 1), (1, 1)]:\n",
        "    y = Nand(xs[0],xs[1])\n",
        "\n",
        "    print(str(xs) + \" -> \" + str(y))"
      ]
    },
    {
      "cell_type": "code",
      "execution_count": null,
      "metadata": {
        "colab": {
          "base_uri": "https://localhost:8080/"
        },
        "id": "8PWwfo5B0NY1",
        "outputId": "0022b1ce-9f14-40e8-9f07-db08d9a1fd48"
      },
      "outputs": [
        {
          "name": "stdout",
          "output_type": "stream",
          "text": [
            "(0, 0) -> 1\n",
            "(1, 0) -> 0\n",
            "(0, 1) -> 0\n",
            "(1, 1) -> 0\n"
          ]
        }
      ],
      "source": [
        "for xs in [(0, 0), (1, 0), (0, 1), (1, 1)]:\n",
        "    y = Nor(xs[0],xs[1])\n",
        "\n",
        "    print(str(xs) + \" -> \" + str(y))"
      ]
    },
    {
      "cell_type": "code",
      "execution_count": null,
      "metadata": {
        "colab": {
          "base_uri": "https://localhost:8080/"
        },
        "id": "Zwa6CiwM_V3q",
        "outputId": "10528d3e-6729-4a14-a09a-ca791f9692bc"
      },
      "outputs": [
        {
          "name": "stdout",
          "output_type": "stream",
          "text": [
            "(0, 0) -> 0\n",
            "(1, 0) -> 1\n",
            "(0, 1) -> 1\n",
            "(1, 1) -> 0\n"
          ]
        }
      ],
      "source": [
        "# coding: utf-8\n",
        "def XOR(x1, x2):\n",
        "    s1 = Nand(x1, x2)\n",
        "    s2 = Or(x1, x2)\n",
        "\n",
        "    y = And(s1, s2)\n",
        "    return y\n",
        "\n",
        "for xs in [(0, 0), (1, 0), (0, 1), (1, 1)]:\n",
        "    y = XOR(xs[0], xs[1])\n",
        "    print(str(xs) + \" -> \" + str(y))"
      ]
    },
    {
      "cell_type": "code",
      "execution_count": 13,
      "metadata": {},
      "outputs": [],
      "source": [
        "class TEST:\n",
        "    def __init__(self,x1,x2,x3):\n",
        "        self.x1 = x1\n",
        "        self.x2 = x2\n",
        "        self.x3 = x3\n",
        "    \n",
        "    def __call__(self,s1,s2):\n",
        "        print(self.x1 + \" -> \"+ str(s1))\n",
        "        print(self.x2 + \" -> \"+ str(s2))\n",
        "\n",
        "    def call(self,s1,s2):\n",
        "        print(self.x1 + \" *** \"+ str(s1))\n",
        "        print(self.x2 + \" *** \"+ str(s2))"
      ]
    },
    {
      "cell_type": "code",
      "execution_count": 14,
      "metadata": {},
      "outputs": [
        {
          "name": "stdout",
          "output_type": "stream",
          "text": [
            "aj -> 3\n",
            "wj -> 5\n",
            "aj *** 3\n",
            "wj *** 5\n"
          ]
        }
      ],
      "source": [
        "Hi = TEST('aj','wj','dj')\n",
        "Hi(3,5)\n",
        "Hi.call(3,5)"
      ]
    },
    {
      "cell_type": "code",
      "execution_count": null,
      "metadata": {},
      "outputs": [],
      "source": []
    }
  ],
  "metadata": {
    "colab": {
      "provenance": []
    },
    "kernelspec": {
      "display_name": "Python 3",
      "language": "python",
      "name": "python3"
    },
    "language_info": {
      "codemirror_mode": {
        "name": "ipython",
        "version": 3
      },
      "file_extension": ".py",
      "mimetype": "text/x-python",
      "name": "python",
      "nbconvert_exporter": "python",
      "pygments_lexer": "ipython3",
      "version": "3.10.12"
    },
    "orig_nbformat": 4,
    "vscode": {
      "interpreter": {
        "hash": "916dbcbb3f70747c44a77c7bcd40155683ae19c65e1c03b4aa3499c5328201f1"
      }
    }
  },
  "nbformat": 4,
  "nbformat_minor": 0
}
