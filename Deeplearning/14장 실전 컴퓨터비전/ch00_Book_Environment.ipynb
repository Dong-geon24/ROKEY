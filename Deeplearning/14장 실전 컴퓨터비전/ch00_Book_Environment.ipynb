{
  "cells": [
    {
      "cell_type": "markdown",
      "metadata": {
        "id": "FJWVH9et7Zzp"
      },
      "source": [
        "#[PART 0] 프롤로그\n"
      ]
    },
    {
      "cell_type": "markdown",
      "metadata": {
        "id": "MH2Bu88z7dp9"
      },
      "source": [
        "##0.1 딥러닝 영상분석이란?"
      ]
    },
    {
      "cell_type": "markdown",
      "metadata": {
        "id": "IRmeY6Hq7qsD"
      },
      "source": [
        "##0.2 인공지능 카메라로 무엇을 할 수 있을까?"
      ]
    },
    {
      "cell_type": "markdown",
      "metadata": {
        "id": "_6QPjS2U9vOW"
      },
      "source": [
        "인공지능 CCTV의 형태\n",
        "- 인공지능 CCTV 실종자 찾기 시스템\n",
        "- 인공지능 주차 감시 시스템\n",
        "- 인공지능 스포츠 카메라\n",
        "- 인공지능 쇼핑몰(아마존고와 같은 형태)\n"
      ]
    },
    {
      "cell_type": "markdown",
      "metadata": {
        "id": "fSlSlf_n-Slp"
      },
      "source": [
        "인공지능 카메라를 활용하는 이동 기긱의 형태\n",
        "- 인공지능 자율주행 자동차\n",
        "- 인공지능 배송 로봇\n",
        "- 인공지능 소방 드론과 로봇"
      ]
    },
    {
      "cell_type": "markdown",
      "metadata": {
        "id": "VX9TaZHw-YBq"
      },
      "source": [
        "인공지능 카메라를 활용한 산업 자동화 기기의 형태\n",
        "- 인공지능 불량품 판별 시스템\n",
        "- 인공지능 자동화 로봇 팔"
      ]
    },
    {
      "cell_type": "markdown",
      "metadata": {
        "id": "yUivp_tn-YuL"
      },
      "source": [
        "인공지능 카메라를 활용한 반려로봇의 형태\n",
        "- 독거노인 돌보미 애완동물형 로봇\n",
        "- GPT 모델을 이용한 대화형 로봇"
      ]
    },
    {
      "cell_type": "markdown",
      "metadata": {
        "id": "ER4Nlifs7sqf"
      },
      "source": [
        "##0.3 이 책의 실습 준비"
      ]
    },
    {
      "cell_type": "markdown",
      "metadata": {
        "id": "Xaav4t40_hnT"
      },
      "source": [
        "프로그램언어 : 파이썬, C++\n",
        "- C++ : 파일구조와 컴파일, 빌드등의 개념 정도 이해\n",
        "\n",
        "딥러닝 프레임워크 : 파이토치(PyTorch)\n",
        "\n",
        "구글 코랩과 윈도우 환경, 엔비디아 젯슨 나노 활용 실습\n",
        "- 코랩과 윈도우 실습 환경 구성\n",
        "- 3부 : 젯슨 나노와 미니 로봇 프로젝트 실습환경 구축"
      ]
    },
    {
      "cell_type": "markdown",
      "metadata": {
        "id": "HNHlA4cc7ubO"
      },
      "source": [
        "###구글 코랩에서 실습 준비\n"
      ]
    },
    {
      "cell_type": "code",
      "execution_count": null,
      "metadata": {
        "colab": {
          "base_uri": "https://localhost:8080/"
        },
        "id": "PRQili4Hoequ",
        "outputId": "ed633e25-0c05-4758-d130-4209cd80b3cb"
      },
      "outputs": [
        {
          "name": "stdout",
          "output_type": "stream",
          "text": [
            "Mounted at /content/drive\n"
          ]
        }
      ],
      "source": [
        "from google.colab import drive\n",
        "drive.mount('/content/drive')"
      ]
    },
    {
      "cell_type": "code",
      "execution_count": null,
      "metadata": {
        "colab": {
          "base_uri": "https://localhost:8080/"
        },
        "id": "bejyjdbWh3L8",
        "outputId": "4e7801a3-4752-4493-e805-1b4f1c0f1e64"
      },
      "outputs": [
        {
          "name": "stdout",
          "output_type": "stream",
          "text": [
            "MyDrive  Othercomputers  Shareddrives\n"
          ]
        }
      ],
      "source": [
        "#2. 구글 드라이브 디렉토리 확인 및 이동\n",
        "!ls /content/drive"
      ]
    },
    {
      "cell_type": "code",
      "execution_count": null,
      "metadata": {
        "id": "k61rT7Phjwsq"
      },
      "outputs": [],
      "source": [
        "!mkdir -p /content/drive/MyDrive/DLbook"
      ]
    },
    {
      "cell_type": "code",
      "execution_count": null,
      "metadata": {
        "colab": {
          "base_uri": "https://localhost:8080/"
        },
        "id": "wKgE-zNth8bD",
        "outputId": "fac9fc01-a342-448a-97f1-41d92b2fb8f7"
      },
      "outputs": [
        {
          "name": "stdout",
          "output_type": "stream",
          "text": [
            "/content/drive/MyDrive/DLbook\n"
          ]
        }
      ],
      "source": [
        "#%cd /content/drive/MyDrive/DLbook"
      ]
    },
    {
      "cell_type": "code",
      "execution_count": null,
      "metadata": {
        "colab": {
          "base_uri": "https://localhost:8080/"
        },
        "id": "PW0Q4Qw54uRx",
        "outputId": "1441247a-1eb0-49af-d0c3-f4f7eba4aeb3"
      },
      "outputs": [
        {
          "name": "stdout",
          "output_type": "stream",
          "text": [
            "/content\n",
            "drive  gdrive  sample_data\n"
          ]
        }
      ],
      "source": [
        "%cd /content\n",
        "!ls"
      ]
    },
    {
      "cell_type": "code",
      "execution_count": null,
      "metadata": {
        "colab": {
          "base_uri": "https://localhost:8080/"
        },
        "id": "ytdfGkRQijz8",
        "outputId": "61342353-d536-4d4e-c95f-014eda06ea9b"
      },
      "outputs": [
        {
          "name": "stdout",
          "output_type": "stream",
          "text": [
            "Download Example Repository\n",
            "Cloning into 'DeepLearning4Projects'...\n",
            "remote: Enumerating objects: 1268, done.\u001b[K\n",
            "remote: Counting objects: 100% (279/279), done.\u001b[K\n",
            "remote: Compressing objects: 100% (145/145), done.\u001b[K\n",
            "remote: Total 1268 (delta 220), reused 130 (delta 130), pack-reused 989 (from 1)\u001b[K\n",
            "Receiving objects: 100% (1268/1268), 163.71 MiB | 14.55 MiB/s, done.\n",
            "Resolving deltas: 100% (727/727), done.\n",
            "Updating files: 100% (120/120), done.\n"
          ]
        }
      ],
      "source": [
        "print(\"Download Example Repository\")\n",
        "!git clone https://github.com/jetsonai/DeepLearning4Projects"
      ]
    },
    {
      "cell_type": "markdown",
      "metadata": {
        "id": "hi9OI_1B7wXj"
      },
      "source": [
        "###윈도우 프로젝트 환경 시작하기"
      ]
    },
    {
      "cell_type": "markdown",
      "metadata": {
        "id": "T4jgIgqNB5Ip"
      },
      "source": [
        "책 2부에서 사용할 윈도우 추론 실습\n",
        "\n",
        "- git\n",
        "- Python 3.10.10\n",
        "- opencv-python, pytorch, onnx, onnxruntime"
      ]
    },
    {
      "cell_type": "markdown",
      "metadata": {
        "id": "Du3JMzkMCYXe"
      },
      "source": [
        "git 설치"
      ]
    },
    {
      "cell_type": "markdown",
      "metadata": {
        "id": "wdzPVTutCbjd"
      },
      "source": [
        "파이썬 설치"
      ]
    },
    {
      "cell_type": "markdown",
      "metadata": {
        "id": "dwVtJpxdCd3E"
      },
      "source": [
        "파이썬 패키지 설치"
      ]
    },
    {
      "cell_type": "markdown",
      "metadata": {
        "id": "uoGSfqqFcd9W"
      },
      "source": [
        "관련 Colab\n",
        "\n",
        "\n",
        "ch00_Book_Environment.ipynb\n",
        "- https://drive.google.com/file/d/1g6aTEK0LJb7AgGb40J8jl1d3ewc7Kojd/view?usp=sharing\n",
        "\n",
        "\n",
        "ch01_ex1_loss_calculation.ipynb\n",
        "- https://drive.google.com/file/d/1JBhe2yCWk6CtCiUWWuBvaQlROLSY3WXC/view?usp=sharing\n",
        "\n",
        "\n",
        "ch01_ex2_ann_mnist.ipynb\n",
        "- https://drive.google.com/file/d/1IcNsfcbYDH3Znef0Wp1FYJ_8zxNRKZC1/view?usp=sharing\n",
        "\n",
        "ch02_ex1_cnn_mnist.ipynb\n",
        "- https://drive.google.com/file/d/1MmzwbxhcYOJyhAsAP6VcbQMxLwHZHk19/view?usp=sharing\n",
        "\n",
        "\n",
        "ch03_ex1_data_augmentation.ipynb\n",
        "- https://drive.google.com/file/d/1KVAOORx_ISGbkFIY3wv3nrDE2eF5tVQC/view?usp=sharing\n",
        "\n",
        "ch03_ex2_classification3.ipynb\n",
        "- https://drive.google.com/file/d/17-Pm5jAlU8hKcCsTAVkaA7VQvSnmWG_R/view?usp=sharing\n",
        "\n",
        "ch04_Train_YOLOv4_tiny_with_VOC_data_in_colab.ipynb\n",
        "- https://drive.google.com/file/d/1YerxgWQZZU4I5Y2K1KH6y9ziofITL0Sf/view?usp=sharing\n",
        "\n",
        "ch04_Inference_Image.ipynb\n",
        "- https://drive.google.com/file/d/1wmEezzNyAVy4Qt1jxqeNuW0QQhYXpsbq/view?usp=sharing\n",
        "\n",
        "ch04_Train_YOLOv4_tiny_mod2.ipynb\n",
        "- https://drive.google.com/file/d/1cXb9flwKjqTsioG2WhpRis5VjMPFmXjx/view?usp=sharing\n",
        "\n",
        "ch05_PyTorch_Recycle_Classification_Colab.ipynb\n",
        "- https://drive.google.com/file/d/1lri_QTDhYXQzfbQ0ZzlXm62gXO7ZwcAC/view?usp=sharing\n",
        "\n",
        "ch05_Inference_Image.ipynb\n",
        "- https://drive.google.com/file/d/1o34epx_g5q2F2wBb4i1s6kVJ0Hnqjjf9/view?usp=sharing\n",
        "\n",
        "ch06_Pytorch_SSD_Infer.ipynb\n",
        "- https://drive.google.com/file/d/14QEjWPNgu4tugprWHsr4M1g8_U0Nit2j/view?usp=sharing\n",
        "\n",
        "ch06_Pytorch_SSD_Training.ipynb\n",
        "- https://drive.google.com/file/d/16Do1CHInvD45wYL83qDgiMAQb7IQQmKG/view?usp=sharing\n",
        "\n",
        "ch07_Train_YOLOv5_with_Pascal_VOC_in_colab\n",
        "- https://drive.google.com/file/d/1A8lSV5R9Rqy313C3hMax87oZzeZhUcRL/view?usp=sharing\n",
        "\n",
        "ch07_Train_YOLOv7_with_Pascal_VOC_in_colab.ipynb\n",
        "- https://drive.google.com/file/d/1MN3_ftUe4bLZC19-epqLbWu9AUOohWJX/view?usp=sharing\n",
        "\n",
        "ch08_Jetbot_nano_inference_project.ipynb\n",
        "- https://colab.research.google.com/drive/19CVZG9sluFxdHc_ebJr9JZpMOFkNukuc?usp=sharing\n",
        "\n",
        "\n",
        "ch08_Jetbot_nano_inference_project.ipynb\n",
        "- https://drive.google.com/file/d/1GeNr2Ht17YGMkrstrGFbcvvbLjWEyvbA/view?usp=sharing\n",
        "\n",
        "ch082_PyTorch_Recycle_Classification_Colab_과제.ipynb\n",
        "- https://colab.research.google.com/drive/1I3XTnKkeiFrJjQ-0yjWl9NQf9FjZ9-AK?usp=sharing\n",
        "\n",
        "ch082_PyTorch_Recycle_Classification_Colab_과제.ipynb\n",
        "- https://drive.google.com/file/d/1OTdrRnA74mXURB9RS8iTyUGc_l9X61_t/view?usp=sharing\n",
        "\n",
        "ch082_Inference_Image_과제.ipynb\n",
        "- https://colab.research.google.com/drive/1j4hA6gfzVJsxJWssru9PKU72dUZdSzEW?usp=sharing\n",
        "\n",
        "\n",
        "ch082_Inference_Image_과제.ipynb\n",
        "Colab notebook\n",
        "- https://drive.google.com/file/d/1N7Nw_lutYBwRi73Tnrf_uZqcr28b9g8a/view?usp=sharing\n",
        "\n",
        "ch085_Convert_YOLOv5_For_tensorrtx.ipynb\n",
        "- https://drive.google.com/file/d/1azpCAz7xgnVQioIBKBtWJ04j2sJkv5bo/view?usp=sharing  "
      ]
    },
    {
      "cell_type": "markdown",
      "metadata": {},
      "source": [
        "classification & deeplearning0,1,2,3,5\n",
        "object detection\n",
        "- yolo4 : 4\n",
        "- ssd : 6\n",
        "- yolo5/7 : 7"
      ]
    }
  ],
  "metadata": {
    "colab": {
      "provenance": []
    },
    "kernelspec": {
      "display_name": "Python 3",
      "name": "python3"
    },
    "language_info": {
      "name": "python"
    }
  },
  "nbformat": 4,
  "nbformat_minor": 0
}
