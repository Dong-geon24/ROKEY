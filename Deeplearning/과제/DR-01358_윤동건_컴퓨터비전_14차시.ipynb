{
  "cells": [
    {
      "cell_type": "markdown",
      "metadata": {
        "id": "CBwMjmqXEb16"
      },
      "source": [
        "#문제"
      ]
    },
    {
      "cell_type": "markdown",
      "metadata": {
        "id": "SNkknlU6Houc"
      },
      "source": [
        "$w_{1} = 0.2$,  $w_{2}= 0.2$일 때 임계값 theta 또는 bias를 정하고 아래의 함수를 완성하시오.\n",
        "- 스칼라 연산\n",
        "  - 임계값 theta를 사용하여 or, and, nor, nand, xor를 구함\n",
        "  - bias 사용하여 or, and, nor, nand, xor를 구함\n",
        "- 벡터 연산\n",
        "  - 넘파이 np.sum을 사용하여 or, and, nor, nand, xor를 구함"
      ]
    },
    {
      "cell_type": "markdown",
      "metadata": {
        "id": "97Ksskx2E6uh"
      },
      "source": [
        "#SCALAR 연산"
      ]
    },
    {
      "cell_type": "markdown",
      "metadata": {
        "id": "bEwJjIshRw16"
      },
      "source": [
        "## 임계값 theta로 구현\n",
        "\n"
      ]
    },
    {
      "cell_type": "markdown",
      "metadata": {
        "id": "h5yTo5ObQPTg"
      },
      "source": [
        "$$\n",
        " y=\n",
        "\\begin{cases}\n",
        "0&(w_{1} x_{1} + w_{2} x_{2} \\leq {\\theta})\\\\\n",
        "1&(w_{1} x_{1} + w_{2} x_{2} > {\\theta})\n",
        "\\end{cases}\n",
        "$$"
      ]
    },
    {
      "cell_type": "markdown",
      "metadata": {
        "id": "ylbSFpFNILA-"
      },
      "source": [
        "### or 함수"
      ]
    },
    {
      "cell_type": "code",
      "execution_count": 6,
      "metadata": {
        "colab": {
          "base_uri": "https://localhost:8080/"
        },
        "id": "X0JibPFcTPPq",
        "outputId": "9e9f0a38-dfc6-4b5c-b8d6-754d6c7bdcef"
      },
      "outputs": [
        {
          "name": "stdout",
          "output_type": "stream",
          "text": [
            "(0, 0) -> 0\n",
            "(1, 0) -> 1\n",
            "(0, 1) -> 1\n",
            "(1, 1) -> 1\n"
          ]
        }
      ],
      "source": [
        "def OR(x1, x2):\n",
        "    #0.5 0.5 0.2\n",
        "    w1, w2, theta = 0.2, 0.2, 0.08      # or\n",
        "    tmp = x1 * w1 + x2 * w2\n",
        "    if tmp <= theta:\n",
        "        return 0\n",
        "    elif tmp > theta:\n",
        "        return 1\n",
        "\n",
        "if __name__ == '__main__':\n",
        "    for xs in [(0, 0), (1, 0), (0, 1), (1, 1)]:\n",
        "        y = OR(xs[0], xs[1])\n",
        "        print(str(xs) + \" -> \" + str(y))"
      ]
    },
    {
      "cell_type": "markdown",
      "metadata": {
        "id": "uEZNwJhEIQjm"
      },
      "source": [
        "### and 함수"
      ]
    },
    {
      "cell_type": "markdown",
      "metadata": {
        "id": "OwRCK_1pXonl"
      },
      "source": [
        "위 OR 카피 후에 theta 변경 구현"
      ]
    },
    {
      "cell_type": "code",
      "execution_count": 10,
      "metadata": {
        "id": "H_RuivjqZdz1"
      },
      "outputs": [
        {
          "name": "stdout",
          "output_type": "stream",
          "text": [
            "(0, 0) -> 0\n",
            "(1, 0) -> 0\n",
            "(0, 1) -> 0\n",
            "(1, 1) -> 1\n"
          ]
        }
      ],
      "source": [
        "def AND(x1, x2):\n",
        "    #0.5, 0.5, 0.7\n",
        "    w1, w2, theta = 0.2, 0.2, 0.28     \n",
        "    tmp = x1 * w1 + x2 * w2\n",
        "    if tmp <= theta:\n",
        "        return 0\n",
        "    elif tmp > theta:\n",
        "        return 1\n",
        "\n",
        "if __name__ == '__main__':\n",
        "    for xs in [(0, 0), (1, 0), (0, 1), (1, 1)]:\n",
        "        y = AND(xs[0], xs[1])\n",
        "        print(str(xs) + \" -> \" + str(y))"
      ]
    },
    {
      "cell_type": "markdown",
      "metadata": {
        "id": "fdMCQvvzIT7z"
      },
      "source": [
        "### nor 함수"
      ]
    },
    {
      "cell_type": "code",
      "execution_count": 11,
      "metadata": {
        "id": "c0PVIKgDZett"
      },
      "outputs": [
        {
          "name": "stdout",
          "output_type": "stream",
          "text": [
            "(0, 0) -> 1\n",
            "(1, 0) -> 0\n",
            "(0, 1) -> 0\n",
            "(1, 1) -> 0\n"
          ]
        }
      ],
      "source": [
        "def NOR(x1, x2):\n",
        "    #-0.5 -0.5 -0.2\n",
        "    w1, w2, theta = -0.2, -0.2, -0.08      # or\n",
        "    tmp = x1 * w1 + x2 * w2\n",
        "    if tmp <= theta:\n",
        "        return 0\n",
        "    elif tmp > theta:\n",
        "        return 1\n",
        "\n",
        "if __name__ == '__main__':\n",
        "    for xs in [(0, 0), (1, 0), (0, 1), (1, 1)]:\n",
        "        y = NOR(xs[0], xs[1])\n",
        "        print(str(xs) + \" -> \" + str(y))"
      ]
    },
    {
      "cell_type": "markdown",
      "metadata": {
        "id": "eO0AbYRlIW6H"
      },
      "source": [
        "### nand 함수"
      ]
    },
    {
      "cell_type": "code",
      "execution_count": 12,
      "metadata": {
        "id": "VWqtGzm5Zgqo"
      },
      "outputs": [
        {
          "name": "stdout",
          "output_type": "stream",
          "text": [
            "(0, 0) -> 1\n",
            "(1, 0) -> 1\n",
            "(0, 1) -> 1\n",
            "(1, 1) -> 0\n"
          ]
        }
      ],
      "source": [
        "def NAND(x1, x2):\n",
        "    \n",
        "    w1, w2, theta = -0.2, -0.2, -0.28     \n",
        "    tmp = x1 * w1 + x2 * w2\n",
        "    if tmp <= theta:\n",
        "        return 0\n",
        "    elif tmp > theta:\n",
        "        return 1\n",
        "\n",
        "if __name__ == '__main__':\n",
        "    for xs in [(0, 0), (1, 0), (0, 1), (1, 1)]:\n",
        "        y = NAND(xs[0], xs[1])\n",
        "        print(str(xs) + \" -> \" + str(y))"
      ]
    },
    {
      "cell_type": "markdown",
      "metadata": {
        "id": "SedV67wWId5T"
      },
      "source": [
        "### xor 함수"
      ]
    },
    {
      "cell_type": "code",
      "execution_count": 14,
      "metadata": {
        "id": "aHsH8Gx0Zh-h"
      },
      "outputs": [
        {
          "name": "stdout",
          "output_type": "stream",
          "text": [
            "(0, 0) -> 0\n",
            "(1, 0) -> 1\n",
            "(0, 1) -> 1\n",
            "(1, 1) -> 0\n"
          ]
        }
      ],
      "source": [
        "def XOR(x1, x2):\n",
        "\n",
        "    s1 = NAND(x1, x2)\n",
        "    s2 = OR(x1, x2)\n",
        "    return AND(s1,s2)\n",
        "\n",
        "if __name__ == '__main__':\n",
        "    for xs in [(0, 0), (1, 0), (0, 1), (1, 1)]:\n",
        "        y = XOR(xs[0], xs[1])\n",
        "        print(str(xs) + \" -> \" + str(y))"
      ]
    },
    {
      "cell_type": "markdown",
      "metadata": {
        "id": "Vsidlt5dEV2K"
      },
      "source": [
        "## 편향 b를 사용하여 구현\n",
        "\n"
      ]
    },
    {
      "cell_type": "markdown",
      "metadata": {
        "id": "wh3SlW1rXdQv"
      },
      "source": [
        "$$\n",
        " y=\n",
        "\\begin{cases}\n",
        "0&(b + w_{1} x_{1} + w_{2} x_{2} \\leq 0)\\\\\n",
        "1&(b + w_{1} x_{1} + w_{2} x_{2} > 0)\n",
        "\\end{cases}\n",
        "$$"
      ]
    },
    {
      "cell_type": "markdown",
      "metadata": {
        "id": "rAKfBap-Ilzm"
      },
      "source": [
        "### or 함수"
      ]
    },
    {
      "cell_type": "code",
      "execution_count": 1,
      "metadata": {
        "colab": {
          "base_uri": "https://localhost:8080/"
        },
        "id": "sg3ul-kuQETy",
        "outputId": "bb346f00-3e9c-4606-bc51-c26df4168d04"
      },
      "outputs": [
        {
          "name": "stdout",
          "output_type": "stream",
          "text": [
            "(0, 0) -> 0\n",
            "(1, 0) -> 1\n",
            "(0, 1) -> 1\n",
            "(1, 1) -> 1\n"
          ]
        }
      ],
      "source": [
        "def OR(x1, x2):\n",
        "    w1, w2, b = 0.2, 0.2, -0.08       # or\n",
        "    tmp = x1 * w1 + x2 * w2 + b\n",
        "    if tmp <= 0:\n",
        "        return 0\n",
        "    elif tmp > 0:\n",
        "        return 1\n",
        "\n",
        "if __name__ == '__main__':\n",
        "    for xs in [(0, 0), (1, 0), (0, 1), (1, 1)]:\n",
        "        y = OR(xs[0], xs[1])\n",
        "        print(str(xs) + \" -> \" + str(y))"
      ]
    },
    {
      "cell_type": "markdown",
      "metadata": {
        "id": "fPCE2IuMIlzn"
      },
      "source": [
        "### and 함수"
      ]
    },
    {
      "cell_type": "markdown",
      "metadata": {
        "id": "aXAh-ApsX_bC"
      },
      "source": [
        "위 OR 카피 후에 b 변경 구현"
      ]
    },
    {
      "cell_type": "code",
      "execution_count": 2,
      "metadata": {
        "id": "oXlCxf0mZnlB"
      },
      "outputs": [
        {
          "name": "stdout",
          "output_type": "stream",
          "text": [
            "(0, 0) -> 0\n",
            "(1, 0) -> 0\n",
            "(0, 1) -> 0\n",
            "(1, 1) -> 1\n"
          ]
        }
      ],
      "source": [
        "def AND(x1, x2):\n",
        "    w1, w2, b = 0.2, 0.2, -0.28       # or\n",
        "    tmp = x1 * w1 + x2 * w2 + b\n",
        "    if tmp <= 0:\n",
        "        return 0\n",
        "    elif tmp > 0:\n",
        "        return 1\n",
        "\n",
        "if __name__ == '__main__':\n",
        "    for xs in [(0, 0), (1, 0), (0, 1), (1, 1)]:\n",
        "        y = AND(xs[0], xs[1])\n",
        "        print(str(xs) + \" -> \" + str(y))"
      ]
    },
    {
      "cell_type": "markdown",
      "metadata": {
        "id": "z8iBP_shIlzo"
      },
      "source": [
        "### nor 함수"
      ]
    },
    {
      "cell_type": "code",
      "execution_count": 3,
      "metadata": {
        "id": "aj5Up9S5ZpHA"
      },
      "outputs": [
        {
          "name": "stdout",
          "output_type": "stream",
          "text": [
            "(0, 0) -> 1\n",
            "(1, 0) -> 0\n",
            "(0, 1) -> 0\n",
            "(1, 1) -> 0\n"
          ]
        }
      ],
      "source": [
        "def NOR(x1, x2):\n",
        "    w1, w2, b = -0.2, -0.2, 0.08       # or\n",
        "    tmp = x1 * w1 + x2 * w2 + b\n",
        "    if tmp <= 0:\n",
        "        return 0\n",
        "    elif tmp > 0:\n",
        "        return 1\n",
        "\n",
        "if __name__ == '__main__':\n",
        "    for xs in [(0, 0), (1, 0), (0, 1), (1, 1)]:\n",
        "        y = NOR(xs[0], xs[1])\n",
        "        print(str(xs) + \" -> \" + str(y))"
      ]
    },
    {
      "cell_type": "markdown",
      "metadata": {
        "id": "lFz7V73xIlzo"
      },
      "source": [
        "### nand 함수"
      ]
    },
    {
      "cell_type": "code",
      "execution_count": 4,
      "metadata": {
        "id": "dR-O66m5Zqf8"
      },
      "outputs": [
        {
          "name": "stdout",
          "output_type": "stream",
          "text": [
            "(0, 0) -> 1\n",
            "(1, 0) -> 1\n",
            "(0, 1) -> 1\n",
            "(1, 1) -> 0\n"
          ]
        }
      ],
      "source": [
        "def NAND(x1, x2):\n",
        "    w1, w2, b = -0.2, -0.2, 0.28       # or\n",
        "    tmp = x1 * w1 + x2 * w2 + b\n",
        "    if tmp <= 0:\n",
        "        return 0\n",
        "    elif tmp > 0:\n",
        "        return 1\n",
        "\n",
        "if __name__ == '__main__':\n",
        "    for xs in [(0, 0), (1, 0), (0, 1), (1, 1)]:\n",
        "        y = NAND(xs[0], xs[1])\n",
        "        print(str(xs) + \" -> \" + str(y))"
      ]
    },
    {
      "cell_type": "markdown",
      "metadata": {
        "id": "xECEekF_Ilzo"
      },
      "source": [
        "### xor 함수"
      ]
    },
    {
      "cell_type": "code",
      "execution_count": 5,
      "metadata": {
        "id": "PFvk3xWOZrpC"
      },
      "outputs": [
        {
          "name": "stdout",
          "output_type": "stream",
          "text": [
            "1\n",
            "0\n",
            "(0, 0) -> 0\n",
            "1\n",
            "1\n",
            "(1, 0) -> 1\n",
            "1\n",
            "1\n",
            "(0, 1) -> 1\n",
            "0\n",
            "1\n",
            "(1, 1) -> 0\n"
          ]
        }
      ],
      "source": [
        "def XOR(x1, x2):\n",
        "\n",
        "    s1 = NAND(x1, x2)\n",
        "    print(s1)\n",
        "    s2 = OR(x1, x2)\n",
        "    print(s2)\n",
        "    return AND(s1,s2)\n",
        "\n",
        "if __name__ == '__main__':\n",
        "    for xs in [(0, 0), (1, 0), (0, 1), (1, 1)]:\n",
        "        y = XOR(xs[0], xs[1])\n",
        "        print(str(xs) + \" -> \" + str(y))"
      ]
    },
    {
      "cell_type": "markdown",
      "metadata": {
        "id": "npATJo-TEsUh"
      },
      "source": [
        "# Vector 연산"
      ]
    },
    {
      "cell_type": "markdown",
      "metadata": {
        "id": "5zYNYvF5KNPZ"
      },
      "source": [
        "np.sum 사용"
      ]
    },
    {
      "cell_type": "markdown",
      "metadata": {
        "id": "_BZ2Kb3dInGY"
      },
      "source": [
        "### or 함수"
      ]
    },
    {
      "cell_type": "code",
      "execution_count": 6,
      "metadata": {
        "colab": {
          "base_uri": "https://localhost:8080/"
        },
        "id": "bubXYt07rZaM",
        "outputId": "41f3704f-0b6d-46f3-a231-5c25c09e7ca5"
      },
      "outputs": [
        {
          "name": "stdout",
          "output_type": "stream",
          "text": [
            "(0, 0) -> 0\n",
            "(1, 0) -> 1\n",
            "(0, 1) -> 1\n",
            "(1, 1) -> 1\n"
          ]
        }
      ],
      "source": [
        "import numpy as np\n",
        "\n",
        "def OR(x1, x2):\n",
        "    x = np.array([x1, x2])\n",
        "    w = np.array([0.2, 0.2])\n",
        "    b = -0.08\n",
        "    tmp = np.sum(w*x) + b\n",
        "    if tmp <= 0:\n",
        "        return 0\n",
        "    else:\n",
        "        return 1\n",
        "\n",
        "if __name__ == '__main__':\n",
        "    for xs in [(0, 0), (1, 0), (0, 1), (1, 1)]:\n",
        "        y = OR(xs[0], xs[1])\n",
        "        print(str(xs) + \" -> \" + str(y))"
      ]
    },
    {
      "cell_type": "markdown",
      "metadata": {
        "id": "-ZEYdivTInGY"
      },
      "source": [
        "### and 함수"
      ]
    },
    {
      "cell_type": "markdown",
      "metadata": {
        "id": "zX0C09A_YM4r"
      },
      "source": [
        "위 OR 카피 후에 b 변경 구현"
      ]
    },
    {
      "cell_type": "code",
      "execution_count": 7,
      "metadata": {
        "id": "UtVnpgiPZv8q"
      },
      "outputs": [
        {
          "name": "stdout",
          "output_type": "stream",
          "text": [
            "(0, 0) -> 0\n",
            "(1, 0) -> 0\n",
            "(0, 1) -> 0\n",
            "(1, 1) -> 1\n"
          ]
        }
      ],
      "source": [
        "import numpy as np\n",
        "\n",
        "def AND(x1, x2):\n",
        "    x = np.array([x1, x2])\n",
        "    w = np.array([0.2, 0.2])\n",
        "    b = -0.28\n",
        "    tmp = np.sum(w*x) + b\n",
        "    if tmp <= 0:\n",
        "        return 0\n",
        "    else:\n",
        "        return 1\n",
        "\n",
        "if __name__ == '__main__':\n",
        "    for xs in [(0, 0), (1, 0), (0, 1), (1, 1)]:\n",
        "        y = AND(xs[0], xs[1])\n",
        "        print(str(xs) + \" -> \" + str(y))"
      ]
    },
    {
      "cell_type": "markdown",
      "metadata": {
        "id": "EcEhtbxsInGZ"
      },
      "source": [
        "### nor 함수"
      ]
    },
    {
      "cell_type": "code",
      "execution_count": 8,
      "metadata": {
        "id": "EBvMBmzuZxpD"
      },
      "outputs": [
        {
          "name": "stdout",
          "output_type": "stream",
          "text": [
            "(0, 0) -> 1\n",
            "(1, 0) -> 0\n",
            "(0, 1) -> 0\n",
            "(1, 1) -> 0\n"
          ]
        }
      ],
      "source": [
        "import numpy as np\n",
        "\n",
        "def NOR(x1, x2):\n",
        "    x = np.array([x1, x2])\n",
        "    w = np.array([-0.2, -0.2])\n",
        "    b = 0.08\n",
        "    tmp = np.sum(w*x) + b\n",
        "    if tmp <= 0:\n",
        "        return 0\n",
        "    else:\n",
        "        return 1\n",
        "\n",
        "if __name__ == '__main__':\n",
        "    for xs in [(0, 0), (1, 0), (0, 1), (1, 1)]:\n",
        "        y = NOR(xs[0], xs[1])\n",
        "        print(str(xs) + \" -> \" + str(y))"
      ]
    },
    {
      "cell_type": "markdown",
      "metadata": {
        "id": "qvybLfDvInGZ"
      },
      "source": [
        "### nand 함수"
      ]
    },
    {
      "cell_type": "code",
      "execution_count": 9,
      "metadata": {
        "id": "oLrx09RDZyh8"
      },
      "outputs": [
        {
          "name": "stdout",
          "output_type": "stream",
          "text": [
            "(0, 0) -> 1\n",
            "(1, 0) -> 1\n",
            "(0, 1) -> 1\n",
            "(1, 1) -> 0\n"
          ]
        }
      ],
      "source": [
        "import numpy as np\n",
        "\n",
        "def NAND(x1, x2):\n",
        "    x = np.array([x1, x2])\n",
        "    w = np.array([-0.2, -0.2])\n",
        "    b = 0.28   \n",
        "    tmp = np.sum(w*x) + b\n",
        "    if tmp <= 0:\n",
        "        return 0\n",
        "    else:\n",
        "        return 1\n",
        "\n",
        "if __name__ == '__main__':\n",
        "    for xs in [(0, 0), (1, 0), (0, 1), (1, 1)]:\n",
        "        y = NAND(xs[0], xs[1])\n",
        "        print(str(xs) + \" -> \" + str(y))"
      ]
    },
    {
      "cell_type": "markdown",
      "metadata": {
        "id": "UTqjdUxNInGZ"
      },
      "source": [
        "### xor 함수"
      ]
    },
    {
      "cell_type": "code",
      "execution_count": 10,
      "metadata": {
        "id": "jkRdjGBeZz4Z"
      },
      "outputs": [
        {
          "name": "stdout",
          "output_type": "stream",
          "text": [
            "1\n",
            "0\n",
            "(0, 0) -> 0\n",
            "1\n",
            "1\n",
            "(1, 0) -> 1\n",
            "1\n",
            "1\n",
            "(0, 1) -> 1\n",
            "0\n",
            "1\n",
            "(1, 1) -> 0\n"
          ]
        }
      ],
      "source": [
        "def XOR(x1, x2):\n",
        "\n",
        "    s1 = NAND(x1, x2)\n",
        "    print(s1)\n",
        "    s2 = OR(x1, x2)\n",
        "    print(s2)\n",
        "    return AND(s1,s2)\n",
        "\n",
        "if __name__ == '__main__':\n",
        "    for xs in [(0, 0), (1, 0), (0, 1), (1, 1)]:\n",
        "        y = XOR(xs[0], xs[1])\n",
        "        print(str(xs) + \" -> \" + str(y))"
      ]
    },
    {
      "cell_type": "code",
      "execution_count": 21,
      "metadata": {},
      "outputs": [
        {
          "name": "stdout",
          "output_type": "stream",
          "text": [
            "['a', 'B', 'c']\n"
          ]
        }
      ],
      "source": []
    },
    {
      "cell_type": "code",
      "execution_count": 16,
      "metadata": {},
      "outputs": [
        {
          "name": "stdout",
          "output_type": "stream",
          "text": [
            "hello\n"
          ]
        }
      ],
      "source": [
        "a = 'HELLO'\n",
        "print(a.lower())"
      ]
    },
    {
      "cell_type": "code",
      "execution_count": null,
      "metadata": {},
      "outputs": [],
      "source": []
    }
  ],
  "metadata": {
    "colab": {
      "provenance": [],
      "toc_visible": true
    },
    "kernelspec": {
      "display_name": "Python 3 (ipykernel)",
      "language": "python",
      "name": "python3"
    },
    "language_info": {
      "codemirror_mode": {
        "name": "ipython",
        "version": 3
      },
      "file_extension": ".py",
      "mimetype": "text/x-python",
      "name": "python",
      "nbconvert_exporter": "python",
      "pygments_lexer": "ipython3",
      "version": "3.10.12"
    }
  },
  "nbformat": 4,
  "nbformat_minor": 0
}
