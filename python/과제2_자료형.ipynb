{
 "cells": [
  {
   "cell_type": "markdown",
   "metadata": {},
   "source": [
    "문제1) 컴퓨터는 숫자이든 문자이든 0과 1로만 이해한다. 왜 그런지 설명하시오."
   ]
  },
  {
   "cell_type": "markdown",
   "metadata": {},
   "source": [
    "> 컴퓨터는 이진법으로 데이터를 처리하기 때문"
   ]
  },
  {
   "cell_type": "markdown",
   "metadata": {},
   "source": [
    "문제2) 2 문자열에서 문자열을 빼면 오류가 발생한다. 어떤 오류인지 설명하시오.\n",
    "덧셈 연산을 해도 동일한 오류가 발생하는지 설명하시오\n",
    " \n"
   ]
  },
  {
   "cell_type": "markdown",
   "metadata": {},
   "source": [
    "> TypeError / 덧셈에서는 발생안함"
   ]
  },
  {
   "cell_type": "markdown",
   "metadata": {},
   "source": [
    "문제3) 파이썬의 정수와 실수에 크기 제한이 있는지 없는지 답하시오\n",
    " \n"
   ]
  },
  {
   "cell_type": "markdown",
   "metadata": {},
   "source": [
    "> 정수는 제한이 있고, 실수는 없음"
   ]
  },
  {
   "cell_type": "markdown",
   "metadata": {},
   "source": [
    "문제4) 파이썬 코드로 '그가 안녕하세요라고 말했다'라는 문장을 출력한다고 가정하자. 출력하는 문자열에서 \"안녕하세요\"는 직접 말한 것으로 따옴표를 붙여야 한다면, 어떻게 코드로 작성할까?\n"
   ]
  },
  {
   "cell_type": "code",
   "execution_count": 1,
   "metadata": {},
   "outputs": [
    {
     "name": "stdout",
     "output_type": "stream",
     "text": [
      "그가 \"안녕하세요\"라고 말했다.\n"
     ]
    }
   ],
   "source": [
    "print('그가 \"안녕하세요\"라고 말했다.')"
   ]
  },
  {
   "cell_type": "markdown",
   "metadata": {},
   "source": [
    "<pre>\n",
    "문제5) 유니코드에 대한 설명 중 옳지 않은 것은?\n",
    "(1) 유니코드는 ASCII 의 단점을 보완하기 위해 고안되었다.\n",
    "(2) 유니코드는 세계에서 사용되는 많은 언어들을 몇개의 표를 이용해서 컴퓨터가 이해할 수 있는 숫자 형태로 상호 변환하기 위해 만들어졌다.\n",
    "(3) 유니코드를 사용하면 코드를 수정하지 않고 다른 나라 언어를 표현할 수 있어, 다국적 프로그램을 작성하는데 용이해진다.\n",
    "(4) 파이썬 3는 내부적으로 유니코드를 사용해서, 변수 이름이나 함수 이름들을\n",
    "영어가 아닌 다른 나라 언어(한국어 포함)로 작성하는 것도 가능하다.\n",
    "</pre>"
   ]
  },
  {
   "cell_type": "markdown",
   "metadata": {},
   "source": [
    "문제6) 전화번호 111-222-3333은 하이픈이 섞여 있는 문자열이다. 형변환을 하기 위해 int(111-222-3333)을실행하면 어떤 결과가 출력되는지 적으시오."
   ]
  },
  {
   "cell_type": "code",
   "execution_count": 2,
   "metadata": {},
   "outputs": [
    {
     "data": {
      "text/plain": [
       "-3444"
      ]
     },
     "execution_count": 2,
     "metadata": {},
     "output_type": "execute_result"
    }
   ],
   "source": [
    "int(111-222-3333)"
   ]
  },
  {
   "cell_type": "markdown",
   "metadata": {},
   "source": [
    "문제8) 유니코드를 사용하여, 그리스 문자 Omega와 미소짓는 얼굴의 이모티콘을\n",
    "출력해 보세요.\n"
   ]
  },
  {
   "cell_type": "code",
   "execution_count": 7,
   "metadata": {},
   "outputs": [
    {
     "name": "stdout",
     "output_type": "stream",
     "text": [
      "Ω\n",
      "😀\n"
     ]
    }
   ],
   "source": [
    "print('\\u03A9')\n",
    "print('\\U0001F600')"
   ]
  },
  {
   "cell_type": "markdown",
   "metadata": {},
   "source": [
    "<pre>\n",
    " \n",
    "문제9) 리터럴 상수에 관한 설명 중 틀린것은?\n",
    "(1) 코드에서 직접적으로 명시되는 숫자값이나 문자열이다.\n",
    "(2) 불변하는 파이값 3.14를 PI = 3.14 라는 코드로 PI 라는 변수에 할당했다.\n",
    "파이값은 변경되지 않으므로 PI는 리터럴로 간주된다.\n",
    "(3) 리터럴의 사용은 코드의 가독성을 높이고 이해하기 쉽게 만든다.\n",
    "(4) 일부 컴파일러는 리터럴값을 인식하여 코드를 최적화 할 수 있다.\n",
    "\n",
    "</pre>"
   ]
  },
  {
   "cell_type": "markdown",
   "metadata": {},
   "source": [
    ">(2)"
   ]
  },
  {
   "cell_type": "markdown",
   "metadata": {},
   "source": [
    "문제10) 실수 124.578 를 소수점 두자리까지만 출력하는 코드를 작성하세요."
   ]
  },
  {
   "cell_type": "code",
   "execution_count": 8,
   "metadata": {},
   "outputs": [
    {
     "name": "stdout",
     "output_type": "stream",
     "text": [
      "124.58\n"
     ]
    }
   ],
   "source": [
    "print(f'{124.578:.2f}')"
   ]
  },
  {
   "cell_type": "markdown",
   "metadata": {},
   "source": [
    "<pre>\n",
    " \n",
    "문제12) 다음의 2진수와 8진수는 십진수로 얼마인가요?\n",
    "(1) 2진수 0B1010, 0B1111\n",
    "(2) 8진수 0o10, 0o17\n",
    "</pre>"
   ]
  },
  {
   "cell_type": "code",
   "execution_count": 10,
   "metadata": {},
   "outputs": [
    {
     "name": "stdout",
     "output_type": "stream",
     "text": [
      "10 15\n",
      "8 15\n"
     ]
    }
   ],
   "source": [
    "print(0B1010, 0B1111)\n",
    "print(0o10, 0o17)"
   ]
  },
  {
   "cell_type": "markdown",
   "metadata": {},
   "source": [
    "문제13) 네 자릿수 정수를 입력받은 후 그 정수를 역순으로 출력하는 프로그램을 작성하세요."
   ]
  },
  {
   "cell_type": "code",
   "execution_count": 12,
   "metadata": {},
   "outputs": [
    {
     "name": "stdout",
     "output_type": "stream",
     "text": [
      "1234\n",
      "4321\n"
     ]
    }
   ],
   "source": [
    "n = input('네자리 정수를 입력: ')\n",
    "print(n)\n",
    "print(n[::-1])"
   ]
  },
  {
   "cell_type": "markdown",
   "metadata": {},
   "source": [
    " \n",
    "문제16) 2개의 실수를 입력받아 더하기, 빼기, 곱하기, 나누기의 연산을 출력한다. \n",
    "이후 다시 하나의 연산식을 한 줄로 입력받아 그 결과를 출력하는 프로그램을 작성해 보자.\n"
   ]
  },
  {
   "cell_type": "code",
   "execution_count": 14,
   "metadata": {},
   "outputs": [
    {
     "name": "stdout",
     "output_type": "stream",
     "text": [
      "3\n"
     ]
    }
   ],
   "source": [
    "a = int(input('a:'))\n",
    "b = int(input('b:'))\n",
    "Input = a+b\n",
    "print(eval(str(Input)))\n"
   ]
  },
  {
   "cell_type": "markdown",
   "metadata": {},
   "source": [
    "<pre>\n",
    "문제17) 다음 코드의 오류에 대해 설명하시오.\n",
    "(1) data = input()\n",
    "      print(data + 1)\n",
    "(2) num = int('3.14')\n",
    "     print(num – 1)\n",
    "(3) str = '34'\n",
    "     print('결과 >> ' + int(str))\n",
    "(4) a, b = 5, 7\n",
    "     a = b = 8 = c = 9\n",
    "\n",
    "</pre>"
   ]
  },
  {
   "cell_type": "markdown",
   "metadata": {},
   "source": [
    "(1) TypeError\n",
    "(2) ValueError\n",
    "(3) TypeError\n",
    "(4) SyntaxError"
   ]
  },
  {
   "cell_type": "markdown",
   "metadata": {},
   "source": [
    " \n",
    "문제18) 십진수의 한 숫자를 입력받아 2진수, 8진수, 16진수로 변환하는 프로그램을\n",
    "작성하시오.\n"
   ]
  },
  {
   "cell_type": "code",
   "execution_count": 19,
   "metadata": {},
   "outputs": [
    {
     "name": "stdout",
     "output_type": "stream",
     "text": [
      "0b1100010 0o142 0x62\n"
     ]
    }
   ],
   "source": [
    "import random\n",
    "num = random.randint(1,100)\n",
    "print(bin(num),oct(num),hex(num))"
   ]
  },
  {
   "cell_type": "markdown",
   "metadata": {},
   "source": [
    "문제19) 0.1 과 0.2를 더하여 그 결과를 출력하는 프로그램을 만들고, 이 연산의 결과가 기대하는 값과 다를 때 그 이유를 생각해 보시오."
   ]
  },
  {
   "cell_type": "markdown",
   "metadata": {},
   "source": [
    "계산 시 2진수로 변환하는 과정에서 소수가 나오게 된다."
   ]
  }
 ],
 "metadata": {
  "kernelspec": {
   "display_name": "Python 3",
   "language": "python",
   "name": "python3"
  },
  "language_info": {
   "codemirror_mode": {
    "name": "ipython",
    "version": 3
   },
   "file_extension": ".py",
   "mimetype": "text/x-python",
   "name": "python",
   "nbconvert_exporter": "python",
   "pygments_lexer": "ipython3",
   "version": "3.10.12"
  }
 },
 "nbformat": 4,
 "nbformat_minor": 2
}
