{
  "cells": [
    {
      "cell_type": "markdown",
      "metadata": {
        "id": "nmq_ohyPB_im"
      },
      "source": [
        "# 답안 작성 방법\n",
        "\n",
        "아래 이미지에서 \"더블클릭 또는 Enter키를 눌러 수정\"을 누르신후 해당 창에 답을 적으시면 됩니다.\n",
        "\n",
        "![image](https://github.com/user-attachments/assets/2aa2ff05-fb0e-4f00-a121-78afeaad4f09)\n",
        "\n",
        "<br>\n",
        "<br>\n",
        "<br>\n",
        "<br>\n",
        "<br>\n",
        "<br>\n",
        "<br>\n",
        "<br>\n",
        "<br>"
      ]
    },
    {
      "cell_type": "markdown",
      "metadata": {
        "id": "JiAFUXF2DadY"
      },
      "source": [
        "# 08차시 과제"
      ]
    },
    {
      "cell_type": "markdown",
      "metadata": {},
      "source": [
        "### Q1. 머신러닝에서 분류(classification) 알고리즘에는 어떠한 것들이 5개 이상 서술하라."
      ]
    },
    {
      "cell_type": "markdown",
      "metadata": {},
      "source": []
    },
    {
      "cell_type": "markdown",
      "metadata": {},
      "source": [
        "### Q2. 머신러닝에서 회귀(regression) 알고리즘에는 어떠한 것들이 5개 이상 서술하라."
      ]
    },
    {
      "cell_type": "markdown",
      "metadata": {},
      "source": []
    },
    {
      "cell_type": "markdown",
      "metadata": {},
      "source": [
        "### Q3. SVM에서 마진(margin)이 무엇이고 어떠한 역할을 하는지 서술하라."
      ]
    },
    {
      "cell_type": "markdown",
      "metadata": {},
      "source": []
    },
    {
      "cell_type": "markdown",
      "metadata": {},
      "source": [
        "### Q4.  이상치(Outlier)가 무엇인지 서술하라."
      ]
    },
    {
      "cell_type": "markdown",
      "metadata": {},
      "source": []
    },
    {
      "cell_type": "markdown",
      "metadata": {},
      "source": [
        "### Q5. Tensorflow에서 모델을 컴파일하는 함수가 무엇인지 적어라."
      ]
    },
    {
      "cell_type": "markdown",
      "metadata": {},
      "source": []
    },
    {
      "cell_type": "markdown",
      "metadata": {},
      "source": [
        "### Q6. Tensorflow에서 모델을 학습시키는 함수가 무엇인지, 그리고 그 함수의 인자로는 무엇이 필요한지 적어라."
      ]
    },
    {
      "cell_type": "markdown",
      "metadata": {},
      "source": []
    },
    {
      "cell_type": "markdown",
      "metadata": {},
      "source": [
        "### Q7. 아래 코드는 TensorFlow를 사용하여 붓꽃(Iris) 데이터를 k-means 알고리즘으로 클러스터링하는 코드이다. 코드에 주석을 추가로 달아라.\n",
        "\n",
        "* 단 시각화 코드에는 주석을 달지 않아도 된다."
      ]
    },
    {
      "cell_type": "code",
      "execution_count": null,
      "metadata": {},
      "outputs": [],
      "source": [
        "import tensorflow as tf\n",
        "import numpy as np\n",
        "import matplotlib.pyplot as plt\n",
        "from sklearn.datasets import load_iris\n",
        "from sklearn.preprocessing import StandardScaler\n",
        "from sklearn.decomposition import PCA\n",
        "\n",
        "# 붓꽃 데이터 로드\n",
        "iris = load_iris()\n",
        "data = iris.data\n",
        "\n",
        "# 데이터 정규화 (스케일링)\n",
        "scaler = StandardScaler()\n",
        "data = scaler.fit_transform(data)\n",
        "\n",
        "# k-means 매개변수\n",
        "k = 3\n",
        "max_iterations = 100\n",
        "tolerance = 1e-4\n",
        "\n",
        "# 초기 클러스터 중심을 랜덤하게 선택\n",
        "centroids = tf.Variable(data[np.random.choice(data.shape[0], k, replace=False)])\n",
        "\n",
        "# k-means 알고리즘\n",
        "for iteration in range(max_iterations):\n",
        "    # 각 데이터 포인트와 클러스터 중심 사이의 거리 계산\n",
        "    distances = tf.norm(data[:, np.newaxis] - centroids, axis=2)\n",
        "    \n",
        "    # 각 데이터 포인트를 가장 가까운 중심에 할당\n",
        "    closest_centroids = tf.argmin(distances, axis=1)\n",
        "    \n",
        "    new_centroids = []\n",
        "    for c in range(k):\n",
        "        assigned_points = tf.gather(data, tf.where(closest_centroids == c))\n",
        "        assigned_points = tf.squeeze(assigned_points, axis=1)\n",
        "        new_centroids.append(tf.reduce_mean(assigned_points, axis=0))\n",
        "    \n",
        "    new_centroids = tf.stack(new_centroids)\n",
        "    \n",
        "    centroid_shift = tf.reduce_sum(tf.abs(new_centroids - centroids))\n",
        "    \n",
        "    centroids.assign(new_centroids)\n",
        "    \n",
        "    if centroid_shift < tolerance:\n",
        "        print(f'수렴되었습니다. 반복 횟수: {iteration}')\n",
        "        break\n",
        "\n",
        "print(f'최종 중심: \\n{centroids.numpy()}')\n",
        "print(f'클러스터 할당: \\n{closest_centroids.numpy()}')\n",
        "\n",
        "\n",
        "# 시각화\n",
        "\n",
        "# 2D로 시각화를 위해 PCA를 사용하여 데이터 차원 축소\n",
        "pca = PCA(n_components=2)\n",
        "reduced_data = pca.fit_transform(data)\n",
        "reduced_centroids = pca.transform(centroids.numpy())\n",
        "\n",
        "plt.figure(figsize=(8, 6))\n",
        "for i in range(k):\n",
        "    cluster_points = reduced_data[closest_centroids.numpy() == i]\n",
        "    plt.scatter(cluster_points[:, 0], cluster_points[:, 1], label=f'cluster {i + 1}')\n",
        "    \n",
        "plt.scatter(reduced_centroids[:, 0], reduced_centroids[:, 1], color='red', marker='x', s=100, label='center')\n",
        "plt.title('K-means clustering results of Iris data')\n",
        "plt.xlabel('PCA Component 1')\n",
        "plt.ylabel('PCA Component 2')\n",
        "plt.legend()\n",
        "plt.show()\n"
      ]
    }
  ],
  "metadata": {
    "colab": {
      "provenance": []
    },
    "kernelspec": {
      "display_name": "Python 3",
      "name": "python3"
    },
    "language_info": {
      "codemirror_mode": {
        "name": "ipython",
        "version": 3
      },
      "file_extension": ".py",
      "mimetype": "text/x-python",
      "name": "python",
      "nbconvert_exporter": "python",
      "pygments_lexer": "ipython3",
      "version": "3.12.4"
    }
  },
  "nbformat": 4,
  "nbformat_minor": 0
}
