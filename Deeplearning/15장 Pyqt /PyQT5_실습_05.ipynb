{
  "cells": [
    {
      "cell_type": "code",
      "execution_count": 1,
      "metadata": {
        "colab": {
          "base_uri": "https://localhost:8080/",
          "height": 109
        },
        "id": "K3mapsSHknhQ",
        "outputId": "cbc960ad-ac55-41ce-96a9-2ac607e2cac0"
      },
      "outputs": [
        {
          "name": "stderr",
          "output_type": "stream",
          "text": [
            "Downloading...\n",
            "From: https://drive.google.com/uc?id=1g_GIy1WbpD7Wzt1OFurAH3HYfV42VWTL\n",
            "To: /home/arclab/ROCKY/Deeplearning/15장 Pyqt /yolov8.zip\n",
            "100%|██████████| 5.96M/5.96M [00:00<00:00, 9.11MB/s]\n"
          ]
        },
        {
          "data": {
            "text/plain": [
              "'yolov8.zip'"
            ]
          },
          "execution_count": 1,
          "metadata": {},
          "output_type": "execute_result"
        }
      ],
      "source": [
        "import gdown\n",
        "gdown.download(id='1g_GIy1WbpD7Wzt1OFurAH3HYfV42VWTL', output='yolov8.zip')"
      ]
    },
    {
      "cell_type": "code",
      "execution_count": 2,
      "metadata": {
        "colab": {
          "base_uri": "https://localhost:8080/",
          "height": 110
        },
        "id": "1qgo7gncznvU",
        "outputId": "160f7c36-7331-4254-8899-1f716f275ff6"
      },
      "outputs": [
        {
          "name": "stderr",
          "output_type": "stream",
          "text": [
            "Downloading...\n",
            "From: https://drive.google.com/uc?id=1HsRRJiC9W8s0Up_QyAjgen_uGKTYQcVW\n",
            "To: /home/arclab/ROCKY/Deeplearning/15장 Pyqt /Joystick_with_yolo.zip\n",
            "100%|██████████| 5.96M/5.96M [00:00<00:00, 9.14MB/s]\n"
          ]
        },
        {
          "data": {
            "text/plain": [
              "'Joystick_with_yolo.zip'"
            ]
          },
          "execution_count": 2,
          "metadata": {},
          "output_type": "execute_result"
        }
      ],
      "source": [
        "import gdown\n",
        "gdown.download(id='1HsRRJiC9W8s0Up_QyAjgen_uGKTYQcVW', output='Joystick_with_yolo.zip')"
      ]
    },
    {
      "cell_type": "code",
      "execution_count": null,
      "metadata": {
        "colab": {
          "base_uri": "https://localhost:8080/"
        },
        "id": "G8Nl3Rj0L9_f",
        "outputId": "d8adef2a-ea3c-4e50-882e-253237458931"
      },
      "outputs": [
        {
          "name": "stdout",
          "output_type": "stream",
          "text": [
            "Archive:  yolov8.zip\n",
            "  inflating: /content/PyQT5_YOLO/show_qt.py  \n",
            "  inflating: /content/PyQT5_YOLO/show_qt_00.py  \n",
            "  inflating: /content/PyQT5_YOLO/show_qt_01.py  \n",
            "  inflating: /content/PyQT5_YOLO/show_qt_02.py  \n",
            "  inflating: /content/PyQT5_YOLO/show_qt_03.py  \n",
            "  inflating: /content/PyQT5_YOLO/show_qt_04.py  \n",
            "  inflating: /content/PyQT5_YOLO/show_qt_05.py  \n",
            "  inflating: /content/PyQT5_YOLO/yolo_show.py  \n",
            "  inflating: /content/PyQT5_YOLO/yolov8n.pt  \n"
          ]
        }
      ],
      "source": [
        "!unzip yolov8.zip  -d /content/PyQT5_YOLO"
      ]
    },
    {
      "cell_type": "code",
      "execution_count": null,
      "metadata": {
        "colab": {
          "base_uri": "https://localhost:8080/"
        },
        "id": "6L18z3yV0QLc",
        "outputId": "cbfb1a8c-4869-43c9-c446-5b4811068e6b"
      },
      "outputs": [
        {
          "name": "stdout",
          "output_type": "stream",
          "text": [
            "Archive:  Joystick_with_yolo.zip\n",
            "  inflating: /content/PyQT5_YOLO_JS/1.joystick_pos.py  \n",
            "  inflating: /content/PyQT5_YOLO_JS/2.joystick_dir.py  \n",
            "  inflating: /content/PyQT5_YOLO_JS/3.joystick_video.py  \n",
            "  inflating: /content/PyQT5_YOLO_JS/myjoystick.py  \n",
            "  inflating: /content/PyQT5_YOLO_JS/yolov8n.pt  \n"
          ]
        }
      ],
      "source": [
        "!unzip Joystick_with_yolo.zip  -d /content/PyQT5_YOLO_JS"
      ]
    },
    {
      "cell_type": "code",
      "execution_count": 3,
      "metadata": {
        "id": "tYJwvUGR3NMs"
      },
      "outputs": [
        {
          "name": "stdout",
          "output_type": "stream",
          "text": [
            "[sudo] password for arclab: \n"
          ]
        }
      ],
      "source": [
        "!sudo apt-get install pyqt5-dev-tools"
      ]
    },
    {
      "cell_type": "code",
      "execution_count": 6,
      "metadata": {
        "colab": {
          "base_uri": "https://localhost:8080/"
        },
        "id": "n_JBBifGCeKU",
        "outputId": "05fa5dc2-cb12-415a-caa9-81d82e4c516e"
      },
      "outputs": [
        {
          "name": "stdout",
          "output_type": "stream",
          "text": [
            "/home/arclab/딥러닝_데이터/객체인식_모델/yolov8\n"
          ]
        },
        {
          "name": "stderr",
          "output_type": "stream",
          "text": [
            "/home/arclab/.local/lib/python3.10/site-packages/IPython/core/magics/osm.py:417: UserWarning: This is now an optional IPython functionality, setting dhist requires you to install the `pickleshare` library.\n",
            "  self.shell.db['dhist'] = compress_dhist(dhist)[-100:]\n"
          ]
        }
      ],
      "source": [
        "%cd /home/arclab/딥러닝_데이터/객체인식_모델/yolov8"
      ]
    },
    {
      "cell_type": "markdown",
      "metadata": {
        "id": "wq6_45YIrmhO"
      },
      "source": [
        "##버튼만들기"
      ]
    },
    {
      "cell_type": "markdown",
      "metadata": {
        "id": "TAlzNBdSsy6v"
      },
      "source": [
        "- 버튼 생성"
      ]
    },
    {
      "cell_type": "code",
      "execution_count": 7,
      "metadata": {
        "colab": {
          "base_uri": "https://localhost:8080/"
        },
        "id": "KYhdK7m5CV1G",
        "outputId": "5b7f58fc-7570-4b71-eec6-a6db1e8ce151"
      },
      "outputs": [],
      "source": [
        "!python3 show_qt_00.py"
      ]
    },
    {
      "cell_type": "code",
      "execution_count": null,
      "metadata": {
        "id": "Y8wOHDNi2w9E"
      },
      "outputs": [],
      "source": [
        "import sys\n",
        "from PyQt5.QtWidgets import QApplication, QWidget, QPushButton\n",
        "\n",
        "#app = QApplication([])\n",
        "app = QApplication(sys.argv)\n",
        "win = QWidget()\n",
        "btn_start = QPushButton(\"Camera On\", win)\n",
        "win.show()\n",
        "\n",
        "sys.exit(app.exec_())"
      ]
    },
    {
      "cell_type": "markdown",
      "metadata": {
        "id": "qNC5qGgEuI2k"
      },
      "source": [
        "## signal과 slot 연결"
      ]
    },
    {
      "cell_type": "markdown",
      "metadata": {
        "id": "-eIU138De735"
      },
      "source": [
        "- 버튼 생성\n",
        "- 버튼 클릭 시 이벤트 핸들러 연결"
      ]
    },
    {
      "cell_type": "code",
      "execution_count": 8,
      "metadata": {
        "colab": {
          "base_uri": "https://localhost:8080/"
        },
        "id": "Oi5zvcsXDl70",
        "outputId": "5b7f58fc-7570-4b71-eec6-a6db1e8ce151"
      },
      "outputs": [
        {
          "name": "stdout",
          "output_type": "stream",
          "text": [
            "started..\n"
          ]
        }
      ],
      "source": [
        "!python3 show_qt_01.py"
      ]
    },
    {
      "cell_type": "code",
      "execution_count": null,
      "metadata": {
        "id": "us6HWEG4Dl71"
      },
      "outputs": [],
      "source": [
        "import sys\n",
        "from PyQt5.QtWidgets import QApplication, QWidget, QPushButton\n",
        "\n",
        "def start():                 ##  추가\n",
        "    print(\"started..\")       ##  추가\n",
        "\n",
        "app = QApplication([])\n",
        "win = QWidget()\n",
        "btn_start = QPushButton(\"Camera On\", win)\n",
        "win.show()\n",
        "\n",
        "btn_start.clicked.connect(start)    ##  추가\n",
        "\n",
        "sys.exit(app.exec_())"
      ]
    },
    {
      "cell_type": "markdown",
      "metadata": {
        "id": "-EPzkzPDfgij"
      },
      "source": [
        "## 버튼 추가"
      ]
    },
    {
      "cell_type": "markdown",
      "metadata": {
        "id": "qngiBp8Wfgip"
      },
      "source": [
        "- QVBoxLayout 추가\n",
        "  - addwidget, setLayout\n",
        "- 버튼 추가\n",
        "- 버튼 클릭 시 이벤트 핸들러 연결"
      ]
    },
    {
      "cell_type": "code",
      "execution_count": 9,
      "metadata": {
        "colab": {
          "base_uri": "https://localhost:8080/"
        },
        "id": "VPEJtZiffgiq",
        "outputId": "5b7f58fc-7570-4b71-eec6-a6db1e8ce151"
      },
      "outputs": [
        {
          "name": "stdout",
          "output_type": "stream",
          "text": [
            "started..\n",
            "stoped..\n",
            "exit\n",
            "stoped..\n"
          ]
        }
      ],
      "source": [
        "!python3 show_qt_02.py"
      ]
    },
    {
      "cell_type": "code",
      "execution_count": null,
      "metadata": {
        "id": "x63dALctfgiq"
      },
      "outputs": [],
      "source": [
        "import sys\n",
        "from PyQt5.QtWidgets import QApplication, QWidget, QVBoxLayout, QPushButton\n",
        "\n",
        "def stop():              ##  추가\n",
        "    print(\"stoped..\")    ##  추가\n",
        "\n",
        "def start():\n",
        "    print(\"started..\")\n",
        "\n",
        "def onExit():           ##  추가\n",
        "    print(\"exit\")       ##  추가\n",
        "    stop()              ##  추가\n",
        "\n",
        "app = QApplication([])\n",
        "win = QWidget()\n",
        "vbox = QVBoxLayout()                    ##  추가\n",
        "btn_start = QPushButton(\"Camera On\")    ##  수정\n",
        "btn_stop = QPushButton(\"Camera Off\")    ##  추가\n",
        "\n",
        "vbox.addWidget(btn_start)               ##  추가\n",
        "vbox.addWidget(btn_stop)                ##  추가\n",
        "win.setLayout(vbox)                     ##  추가\n",
        "win.show()\n",
        "\n",
        "btn_start.clicked.connect(start)\n",
        "btn_stop.clicked.connect(stop)          ##  추가\n",
        "app.aboutToQuit.connect(onExit)         ##  추가\n",
        "\n",
        "sys.exit(app.exec_())"
      ]
    },
    {
      "cell_type": "markdown",
      "metadata": {
        "id": "zLM_y5mjff2Z"
      },
      "source": [
        "## thread 추가"
      ]
    },
    {
      "cell_type": "markdown",
      "metadata": {
        "id": "JPDYGkjfff2h"
      },
      "source": [
        "- thread 추가\n",
        "\n",
        "```\n",
        "import threading\n",
        "import time\n",
        "\n",
        "running = False\n",
        "def run():\n",
        "    global running\n",
        "    while running:\n",
        "        if running == False:\n",
        "            break\n",
        "        time.sleep(1)\n",
        "        print(\"Thread running.\")\n",
        "\n",
        "    print(\"Thread end.\")\n",
        "\n",
        "\n",
        "def start():\n",
        "    global running\n",
        "    running = True\n",
        "    th = threading.Thread(target=run)\n",
        "    th.start()\n",
        "    print(\"started..\")\n",
        "\n",
        "```\n",
        "\n"
      ]
    },
    {
      "cell_type": "code",
      "execution_count": 10,
      "metadata": {
        "colab": {
          "base_uri": "https://localhost:8080/"
        },
        "id": "T2diKQOOff2h",
        "outputId": "5b7f58fc-7570-4b71-eec6-a6db1e8ce151"
      },
      "outputs": [
        {
          "name": "stdout",
          "output_type": "stream",
          "text": [
            "started..\n",
            "Thread running.\n",
            "stoped..\n",
            "Thread running.\n",
            "Thread end.\n",
            "started..\n",
            "Thread running.\n",
            "stoped..\n",
            "Thread running.\n",
            "Thread end.\n",
            "exit\n",
            "stoped..\n"
          ]
        }
      ],
      "source": [
        "!python3 show_qt_03.py"
      ]
    },
    {
      "cell_type": "code",
      "execution_count": null,
      "metadata": {
        "id": "rp_24XB6ff2h"
      },
      "outputs": [],
      "source": [
        "import threading                  ##  추가\n",
        "import sys\n",
        "from PyQt5.QtWidgets import QApplication, QWidget, QVBoxLayout, QLabel, QPushButton\n",
        "import time                       ##  추가\n",
        "\n",
        "running = False                   ##  추가 시작\n",
        "def run():\n",
        "    global running\n",
        "    while running:\n",
        "        if running == False:\n",
        "            break\n",
        "        time.sleep(1)\n",
        "        print(\"Thread running.\")\n",
        "\n",
        "    print(\"Thread end.\")          ##  추가 끝\n",
        "\n",
        "def stop():\n",
        "    global running                ##  추가\n",
        "    running = False               ##  추가\n",
        "    print(\"stoped..\")\n",
        "\n",
        "def start():\n",
        "    global running                     ##  추가\n",
        "    running = True                     ##  추가\n",
        "    th = threading.Thread(target=run)  ##  추가\n",
        "    th.start()                         ##  추가\n",
        "    print(\"started..\")\n",
        "\n",
        "def onExit():\n",
        "    print(\"exit\")\n",
        "    stop()\n",
        "\n",
        "app = QApplication([])\n",
        "win = QWidget()\n",
        "vbox = QVBoxLayout()\n",
        "label = QLabel()\n",
        "btn_start = QPushButton(\"Camera On\")\n",
        "btn_stop = QPushButton(\"Camera Off\")\n",
        "\n",
        "vbox.addWidget(label)\n",
        "vbox.addWidget(btn_start)\n",
        "vbox.addWidget(btn_stop)\n",
        "win.setLayout(vbox)\n",
        "win.show()\n",
        "\n",
        "btn_start.clicked.connect(start)\n",
        "btn_stop.clicked.connect(stop)\n",
        "app.aboutToQuit.connect(onExit)\n",
        "\n",
        "sys.exit(app.exec_())"
      ]
    },
    {
      "cell_type": "markdown",
      "metadata": {
        "id": "lfnEsDP6fdSS"
      },
      "source": [
        "## 카메라 스트리밍 추가"
      ]
    },
    {
      "cell_type": "markdown",
      "metadata": {
        "id": "nH9Ex2aAfdSh"
      },
      "source": [
        "- opencv를 통한 카메라 스트리밍\n",
        "- QLabel과 QtGui를 사용한 QT에서 스트리밍 출력"
      ]
    },
    {
      "cell_type": "code",
      "execution_count": 11,
      "metadata": {
        "colab": {
          "base_uri": "https://localhost:8080/"
        },
        "id": "jl6Tak25fdSh",
        "outputId": "5b7f58fc-7570-4b71-eec6-a6db1e8ce151"
      },
      "outputs": [
        {
          "name": "stdout",
          "output_type": "stream",
          "text": [
            "started..\n",
            "stoped..\n",
            "Thread end.\n",
            "started..\n",
            "exit\n",
            "stoped..\n",
            "Thread end.\n"
          ]
        }
      ],
      "source": [
        "!python3 show_qt_04.py"
      ]
    },
    {
      "cell_type": "code",
      "execution_count": null,
      "metadata": {
        "id": "U7IsR0XLfdSh"
      },
      "outputs": [],
      "source": [
        "import cv2                                        ##  추가\n",
        "import threading\n",
        "import sys\n",
        "from PyQt5.QtWidgets import QApplication, QWidget, QVBoxLayout, QLabel, QPushButton, QMessageBox\n",
        "from PyQt5 import QtGui\n",
        "\n",
        "running = False\n",
        "def run():\n",
        "    global running\n",
        "    cap = cv2.VideoCapture(0)                     ##  추가 시작\n",
        "    width = cap.get(cv2.CAP_PROP_FRAME_WIDTH)\n",
        "    height = cap.get(cv2.CAP_PROP_FRAME_HEIGHT)\n",
        "    label.resize(int(width), int(height))\n",
        "    while running:\n",
        "        ret, img = cap.read()\n",
        "        if ret:\n",
        "            img = cv2.cvtColor(img, cv2.COLOR_BGR2RGB)\n",
        "            h,w,c = img.shape\n",
        "            qImg = QtGui.QImage(img.data, w, h, w*c, QtGui.QImage.Format_RGB888)\n",
        "            pixmap = QtGui.QPixmap.fromImage(qImg)\n",
        "            label.setPixmap(pixmap)\n",
        "        else:\n",
        "            QMessageBox.about(win, \"Error\", \"Cannot read frame.\")\n",
        "            print(\"cannot read frame.\")\n",
        "            break\n",
        "    print(\"Thread end.\")                          ##  추가 끝\n",
        "\n",
        "def stop():\n",
        "    global running\n",
        "    running = False\n",
        "    print(\"stoped..\")\n",
        "\n",
        "def start():\n",
        "    global running\n",
        "    running = True\n",
        "    th = threading.Thread(target=run)\n",
        "    th.start()\n",
        "    print(\"started..\")\n",
        "\n",
        "def onExit():\n",
        "    print(\"exit\")\n",
        "    stop()\n",
        "\n",
        "app = QApplication([])\n",
        "win = QWidget()\n",
        "vbox = QVBoxLayout()\n",
        "label = QLabel()\n",
        "btn_start = QPushButton(\"Camera On\")\n",
        "btn_stop = QPushButton(\"Camera Off\")\n",
        "\n",
        "\n",
        "vbox.addWidget(label)\n",
        "vbox.addWidget(btn_start)\n",
        "vbox.addWidget(btn_stop)\n",
        "win.setLayout(vbox)\n",
        "win.show()\n",
        "\n",
        "btn_start.clicked.connect(start)\n",
        "btn_stop.clicked.connect(stop)\n",
        "app.aboutToQuit.connect(onExit)\n",
        "\n",
        "sys.exit(app.exec_())"
      ]
    },
    {
      "cell_type": "markdown",
      "metadata": {
        "id": "cSH000k8fYuK"
      },
      "source": [
        "## YOLOv8 추가"
      ]
    },
    {
      "cell_type": "markdown",
      "metadata": {
        "id": "2SJeVExHfYuL"
      },
      "source": [
        "\n",
        "\n",
        "```\n",
        "from ultralytics import YOLO\n",
        "model = YOLO('yolov8n.pt')\n",
        "cap = cv2.VideoCapture(0)\n",
        "\n",
        "\n",
        "ret, img = cap.read()\n",
        "results = model(img)\n",
        "annotated_frame = results[0].plot()\n",
        "```\n",
        "\n"
      ]
    },
    {
      "cell_type": "code",
      "execution_count": null,
      "metadata": {
        "colab": {
          "base_uri": "https://localhost:8080/"
        },
        "id": "gcsaPLmtfYuL",
        "outputId": "5b7f58fc-7570-4b71-eec6-a6db1e8ce151"
      },
      "outputs": [
        {
          "name": "stdout",
          "output_type": "stream",
          "text": [
            "qt.qpa.xcb: could not connect to display \n",
            "qt.qpa.plugin: Could not load the Qt platform plugin \"xcb\" in \"\" even though it was found.\n",
            "This application failed to start because no Qt platform plugin could be initialized. Reinstalling the application may fix this problem.\n",
            "\n",
            "Available platform plugins are: eglfs, linuxfb, minimal, minimalegl, offscreen, vnc, xcb.\n",
            "\n"
          ]
        }
      ],
      "source": [
        "!python show_qt_05.py"
      ]
    },
    {
      "cell_type": "code",
      "execution_count": null,
      "metadata": {
        "id": "PNhIElaMfYuL"
      },
      "outputs": [],
      "source": [
        "import cv2\n",
        "import threading\n",
        "import sys\n",
        "from PyQt5.QtWidgets import QApplication, QWidget, QVBoxLayout, QLabel, QPushButton, QMessageBox\n",
        "from PyQt5 import QtGui\n",
        "from ultralytics import YOLO          ##  추가\n",
        "\n",
        "# Load the YOLOv8 model\n",
        "model = YOLO('yolov8n.pt')            ##  추가\n",
        "\n",
        "running = False\n",
        "\n",
        "def run():\n",
        "    global running\n",
        "    cap = cv2.VideoCapture(0)\n",
        "    width = cap.get(cv2.CAP_PROP_FRAME_WIDTH)\n",
        "    height = cap.get(cv2.CAP_PROP_FRAME_HEIGHT)\n",
        "    label.resize(int(width), int(height))\n",
        "    while running:\n",
        "        ret, img = cap.read()\n",
        "        if ret:\n",
        "            results = model(img)                                                              ##  추가\n",
        "            annotated_frame = results[0].plot()                                               ##  추가\n",
        "            annotated_frame = cv2.cvtColor(annotated_frame, cv2.COLOR_BGR2RGB)                ##  추가\n",
        "            h,w,c = annotated_frame.shape                                                     ##  수정\n",
        "            qImg = QtGui.QImage(annotated_frame.data, w, h, w*c, QtGui.QImage.Format_RGB888)  ##  수정\n",
        "            pixmap = QtGui.QPixmap.fromImage(qImg)\n",
        "            label.setPixmap(pixmap)\n",
        "        else:\n",
        "            QMessageBox.about(win, \"Error\", \"Cannot read frame.\")\n",
        "            print(\"cannot read frame.\")\n",
        "            break\n",
        "    cap.release()\n",
        "    print(\"Thread end.\")\n",
        "\n",
        "def stop():\n",
        "    global running\n",
        "    running = False\n",
        "    print(\"stoped..\")\n",
        "\n",
        "def start():\n",
        "    global running\n",
        "    running = True\n",
        "    th = threading.Thread(target=run)\n",
        "    th.start()\n",
        "    print(\"started..\")\n",
        "\n",
        "def onExit():\n",
        "    print(\"exit\")\n",
        "    stop()\n",
        "\n",
        "app = QApplication([])\n",
        "win = QWidget()\n",
        "vbox = QVBoxLayout()\n",
        "label = QLabel()\n",
        "btn_start = QPushButton(\"Camera On\")\n",
        "btn_stop = QPushButton(\"Camera Off\")\n",
        "\n",
        "\n",
        "vbox.addWidget(label)\n",
        "vbox.addWidget(btn_start)\n",
        "vbox.addWidget(btn_stop)\n",
        "win.setLayout(vbox)\n",
        "win.show()\n",
        "\n",
        "btn_start.clicked.connect(start)\n",
        "btn_stop.clicked.connect(stop)\n",
        "app.aboutToQuit.connect(onExit)\n",
        "\n",
        "sys.exit(app.exec_())"
      ]
    },
    {
      "cell_type": "markdown",
      "metadata": {
        "id": "ravAN8F8qbhN"
      },
      "source": [
        "PyQT5_실습_01.ipynb\n",
        "- https://colab.research.google.com/drive/1kJFXss_RxEL6Uk9vLc02faI4dZ28JeUj?usp=sharing\n",
        "\n",
        "PyQT5_실습_02.ipynb\n",
        "- https://colab.research.google.com/drive/1elSsIUg9uVjM_4VdX3nsEfyb3NFy5qNW?usp=sharing\n",
        "\n",
        "PyQT5_실습_03.ipynb\n",
        "- https://colab.research.google.com/drive/1vht6nRBS9kf0kJhZslcYPJGGw9_OWuKr?usp=sharing\n",
        "\n",
        "PyQT5_실습_04.ipynb\n",
        "- https://colab.research.google.com/drive/1e6tdpEbS0DXDT_hafsPJ3YJkTnVfxdej?usp=sharing\n",
        "\n",
        "PyQT5_실습_05.ipynb\n",
        "- https://colab.research.google.com/drive/1erI8xgRglyXn6wpB4RXx_-v2SANAuxDR?usp=sharing"
      ]
    },
    {
      "cell_type": "markdown",
      "metadata": {
        "id": "bWeuFldSoLIK"
      },
      "source": [
        "```\n",
        "QMainWindow,     QWidget,        QGridLayout,             QLabel\n",
        "                                              addWidget\n",
        "                                                          MyJoystick\n",
        "   setCentralWidget     setLayout             addWidget\n",
        "```\n",
        "\n",
        "\n",
        "\n",
        "\n",
        "```\n",
        "mw = QMainWindow()\n",
        "cw = QWidget()\n",
        "ml = QGridLayout()\n",
        "\n",
        "# Create Screen\n",
        "label = QLabel()\n",
        "ml.addWidget(label,0,0)\n",
        "\n",
        "# Create joystick\n",
        "joystick = MyJoystick(cbJoyPos)\n",
        "ml.addWidget(joystick,1,0)\n",
        "\n",
        "cw.setLayout(ml)\n",
        "mw.setCentralWidget(cw)\n",
        "\n",
        "\n",
        "```\n",
        "\n"
      ]
    },
    {
      "cell_type": "markdown",
      "metadata": {
        "id": "VEUcUXvOT3Fk"
      },
      "source": [
        "\n",
        "\n",
        "```\n",
        "\n",
        "Ubuntu에서 YOLOv8을 설치할 때 발생할 수 있는 에러는 주로 환경 설정, 종속성 충돌, 혹은 특정 패키지 설치 문제와 관련이 있습니다.\n",
        "YOLOv8은 Ultralytics에서 제공하는 최신 버전의 YOLO(Object Detection) 모델입니다. YOLOv8을 설치하는 과정에서 발생할 수 있는 일반적인 문제와 그 해결책을 정리하면 다음과 같습니다.\n",
        "\n",
        "1. Python 및 pip 버전 문제\n",
        "\n",
        "YOLOv8은 Python 3.7 이상에서만 동작합니다. Python 버전을 확인하고, 필요하면 업데이트합니다.\n",
        "\n",
        "python3 --version\n",
        "\n",
        "만약 버전이 낮다면 Python을 최신 버전으로 업그레이드합니다:\n",
        "\n",
        "sudo apt update\n",
        "sudo apt install python3.8 python3.8-venv python3.8-dev\n",
        "\n",
        "그 후 pip를 최신 버전으로 업그레이드합니다:\n",
        "\n",
        "pip3 install --upgrade pip\n",
        "\n",
        "2. YOLOv8 설치\n",
        "\n",
        "YOLOv8을 설치하려면 ultralytics 패키지를 설치해야 합니다. pip를 이용해 설치할 수 있습니다:\n",
        "\n",
        "pip install ultralytics\n",
        "\n",
        "3. 설치 중 발생할 수 있는 에러 및 해결책\n",
        "(a) 패키지 호환성 에러\n",
        "종속성 충돌로 인해 설치 중 문제가 발생할 수 있습니다. YOLOv8은 다양한 라이브러리에 의존하고 있기 때문에, 패키지 간 충돌이 생기면 설치가 실패할 수 있습니다. 이러한 경우, pip로 ultralytics를 설치할 때 --upgrade 플래그를 사용하여 패키지들을 최신 버전으로 동시에 업데이트해 줍니다:\n",
        "\n",
        "pip install --upgrade ultralytics\n",
        "\n",
        "(b) PyTorch 관련 에러\n",
        "YOLOv8은 PyTorch 프레임워크에 의존합니다. PyTorch가 제대로 설치되지 않았거나, GPU 관련 종속성에서 문제가 발생할 수 있습니다. PyTorch가 설치되어 있는지 확인하고, 없다면 다음 명령어로 설치합니다:\n",
        "• CPU 전용 PyTorch 설치:\n",
        "\n",
        "pip install torch torchvision torchaudio\n",
        "\n",
        "• GPU를 사용하는 PyTorch 설치 (CUDA 11.7+ 지원):\n",
        "\n",
        "pip install torch torchvision torchaudio --index-url https://download.pytorch.org/whl/cu117\n",
        "\n",
        "(c) OpenCV 설치 문제\n",
        "YOLOv8은 이미지 처리에 OpenCV 라이브러리를 사용합니다. OpenCV 설치 문제는 주로 cv2 모듈을 찾지 못하는 에러로 나타납니다. OpenCV를 설치하지 않았다면 아래 명령어로 설치합니다:\n",
        "\n",
        "\n",
        "pip install opencv-python\n",
        "\n",
        "4. 가상 환경 사용\n",
        "패키지 간의 충돌을 방지하기 위해, 가상 환경을 사용하는 것이 좋습니다. 가상 환경을 생성한 후 YOLOv8을 설치합니다:\n",
        "\n",
        "\n",
        "python3 -m venv yolov8_env\n",
        "source yolov8_env/bin/activate\n",
        "pip install ultralytics\n",
        "\n",
        "5. CUDA 및 GPU 설정\n",
        "YOLOv8은 GPU를 사용하여 속도를 높일 수 있습니다. GPU를 사용하려면, NVIDIA 드라이버와 CUDA가 올바르게 설치되어 있어야 합니다. CUDA 설치 중 문제가 발생하면 다음을 확인하세요:\n",
        "• CUDA 버전 확인: nvcc --version\n",
        "• NVIDIA 드라이버 설치: CUDA Toolkit과 함께 NVIDIA 드라이버가 설치되어 있어야 합니다. 설치되지 않았을 경우, NVIDIA 드라이버를 업데이트합니다:\n",
        "\n",
        "\n",
        "sudo apt install nvidia-driver-<version>\n",
        "\n",
        "그 후, CUDA를 설치하고 환경 변수를 설정합니다.\n",
        "\n",
        "6. YOLOv8 모델 테스트\n",
        "YOLOv8 설치가 완료되면, YOLOv8이 정상적으로 작동하는지 테스트합니다. YOLOv8 패키지를 사용하여 간단한 테스트를 실행해 봅니다:\n",
        "\n",
        "\n",
        "from ultralytics import YOLO\n",
        "\n",
        "# YOLOv8 모델 불러오기\n",
        "model = YOLO('yolov8n.pt')\n",
        "\n",
        "# 이미지에서 객체 감지 실행\n",
        "results = model('path/to/your/image.jpg')\n",
        "\n",
        "# 결과 출력\n",
        "results.show()\n",
        "\n",
        "7. 추가 문제 해결\n",
        "• 메모리 부족 문제: YOLOv8을 실행할 때 메모리 부족으로 인한 에러가 발생할 수 있습니다. 이런 경우, 입력 이미지 크기를 줄이거나 모델의 크기를 줄여서 문제를 해결할 수 있습니다. 예를 들어, YOLOv8의 가장 작은 모델(yolov8n.pt)을 사용하는 것이 좋습니다.\n",
        "• 필요한 의존성 설치: YOLOv8 설치 후에도 특정 모듈이 누락된 경우가 발생할 수 있습니다. 이때는 에러 메시지에 나오는 누락된 패키지를 개별적으로 설치합니다. 예:\n",
        "\n",
        "\n",
        "pip install pandas seaborn matplotlib\n",
        "\n",
        "이러한 단계에 따라 YOLOv8을 설치하고, 에러가 발생할 때 문제를 해결할 수 있습니다.\n",
        "```\n",
        "\n"
      ]
    }
  ],
  "metadata": {
    "colab": {
      "provenance": []
    },
    "kernelspec": {
      "display_name": "Python 3",
      "name": "python3"
    },
    "language_info": {
      "codemirror_mode": {
        "name": "ipython",
        "version": 3
      },
      "file_extension": ".py",
      "mimetype": "text/x-python",
      "name": "python",
      "nbconvert_exporter": "python",
      "pygments_lexer": "ipython3",
      "version": "3.10.12"
    }
  },
  "nbformat": 4,
  "nbformat_minor": 0
}
